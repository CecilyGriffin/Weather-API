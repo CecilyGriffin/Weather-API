{
 "cells": [
  {
   "cell_type": "markdown",
   "metadata": {},
   "source": [
    "# WeatherPy\n",
    "----\n",
    "\n",
    "#### Note\n",
    "* Instructions have been included for each segment. You do not have to follow them exactly, but they are included to help you think through the steps."
   ]
  },
  {
   "cell_type": "code",
   "execution_count": 2,
   "metadata": {
    "scrolled": true
   },
   "outputs": [],
   "source": [
    " # Dependencies and Setup\n",
    "import matplotlib.pyplot as plt\n",
    "import pandas as pd\n",
    "import numpy as np\n",
    "import requests\n",
    "import time\n",
    "from scipy.stats import linregress\n",
    "\n",
    "# Import API key\n",
    "from api_keys import weather_api_key\n",
    "\n",
    "# Incorporated citipy to determine city based on latitude and longitude\n",
    "from citipy import citipy\n",
    "\n",
    "# Output File (CSV)\n",
    "output_data_file = \"output_data/cities.csv\"\n",
    "\n",
    "# Range of latitudes and longitudes\n",
    "lat_range = (-90, 90)\n",
    "lng_range = (-180, 180)"
   ]
  },
  {
   "cell_type": "markdown",
   "metadata": {},
   "source": [
    "## Generate Cities List"
   ]
  },
  {
   "cell_type": "code",
   "execution_count": 3,
   "metadata": {},
   "outputs": [
    {
     "data": {
      "text/plain": [
       "607"
      ]
     },
     "execution_count": 3,
     "metadata": {},
     "output_type": "execute_result"
    }
   ],
   "source": [
    "# List for holding lat_lngs and cities\n",
    "lat_lngs = []\n",
    "cities = []\n",
    "\n",
    "# Create a set of random lat and lng combinations\n",
    "lats = np.random.uniform(lat_range[0], lat_range[1], size=1500)\n",
    "lngs = np.random.uniform(lng_range[0], lng_range[1], size=1500)\n",
    "lat_lngs = zip(lats, lngs)\n",
    "\n",
    "# Identify nearest city for each lat, lng combination\n",
    "for lat_lng in lat_lngs:\n",
    "    city = citipy.nearest_city(lat_lng[0], lat_lng[1]).city_name\n",
    "    \n",
    "    # If the city is unique, then add it to a our cities list\n",
    "    if city not in cities:\n",
    "        cities.append(city)\n",
    "\n",
    "# Print the city count to confirm sufficient count\n",
    "len(cities)"
   ]
  },
  {
   "cell_type": "markdown",
   "metadata": {},
   "source": [
    "### Perform API Calls\n",
    "* Perform a weather check on each city using a series of successive API calls.\n",
    "* Include a print log of each city as it'sbeing processed (with the city number and city name).\n"
   ]
  },
  {
   "cell_type": "code",
   "execution_count": 4,
   "metadata": {},
   "outputs": [
    {
     "data": {
      "text/plain": [
       "{'coord': {'lon': -175.2, 'lat': -21.2},\n",
       " 'weather': [{'id': 802,\n",
       "   'main': 'Clouds',\n",
       "   'description': 'scattered clouds',\n",
       "   'icon': '03n'}],\n",
       " 'base': 'stations',\n",
       " 'main': {'temp': 295.15,\n",
       "  'feels_like': 294.63,\n",
       "  'temp_min': 295.15,\n",
       "  'temp_max': 295.15,\n",
       "  'pressure': 1018,\n",
       "  'humidity': 73},\n",
       " 'visibility': 10000,\n",
       " 'wind': {'speed': 4.1, 'deg': 110},\n",
       " 'clouds': {'all': 40},\n",
       " 'dt': 1593893246,\n",
       " 'sys': {'type': 1,\n",
       "  'id': 7285,\n",
       "  'country': 'TO',\n",
       "  'sunrise': 1593973126,\n",
       "  'sunset': 1594012314},\n",
       " 'timezone': 46800,\n",
       " 'id': 4032243,\n",
       " 'name': 'Vaini',\n",
       " 'cod': 200}"
      ]
     },
     "execution_count": 4,
     "metadata": {},
     "output_type": "execute_result"
    }
   ],
   "source": [
    "import requests\n",
    "\n",
    "url = f'http://api.openweathermap.org/data/2.5/weather?q={city}&appid={weather_api_key}'\n",
    "replaceUrl = url.replace(\" \", \"%20\")\n",
    "city_weather = requests.get(replaceUrl).json()\n",
    "city_weather"
   ]
  },
  {
   "cell_type": "code",
   "execution_count": 5,
   "metadata": {},
   "outputs": [
    {
     "name": "stdout",
     "output_type": "stream",
     "text": [
      "Beginning Data Retrieval\n",
      "~~~~~~~~~~~~~~~~~~~~~~~~\n",
      "Processing Record 1 of Set 1 | imbituba\n",
      "Processing Record 2 of Set 1 | yellowknife\n",
      "Processing Record 3 of Set 1 | albany\n",
      "Processing Record 4 of Set 1 | beringovskiy\n",
      "Processing Record 5 of Set 1 | ribeira grande\n",
      "Processing Record 6 of Set 1 | atuona\n",
      "Processing Record 7 of Set 1 | kapaa\n",
      "Processing Record 8 of Set 1 | severo-kurilsk\n",
      "Processing Record 9 of Set 1 | rikitea\n",
      "Processing Record 10 of Set 1 | ternova\n",
      "Processing Record 11 of Set 1 | hambantota\n",
      "Processing Record 12 of Set 1 | thompson\n",
      "Processing Record 13 of Set 1 | kruisfontein\n",
      "Processing Record 14 of Set 1 | palasa\n",
      "Processing Record 15 of Set 1 | punta arenas\n",
      "Skipping... City not found\n",
      "Processing Record 16 of Set 1 | hermanus\n",
      "Processing Record 17 of Set 1 | cape town\n",
      "Processing Record 18 of Set 1 | souillac\n",
      "Processing Record 19 of Set 1 | port alfred\n",
      "Processing Record 20 of Set 1 | bairiki\n",
      "Skipping... City not found\n",
      "Processing Record 21 of Set 1 | lagoa\n",
      "Processing Record 22 of Set 1 | padang\n",
      "Processing Record 23 of Set 1 | new norfolk\n",
      "Processing Record 24 of Set 1 | najran\n",
      "Processing Record 25 of Set 1 | weyburn\n",
      "Processing Record 26 of Set 1 | barrow\n",
      "Processing Record 27 of Set 1 | husavik\n",
      "Processing Record 28 of Set 1 | luderitz\n",
      "Processing Record 29 of Set 1 | alofi\n",
      "Processing Record 30 of Set 1 | kensington\n",
      "Skipping... City not found\n",
      "Processing Record 31 of Set 1 | nishihara\n",
      "Processing Record 32 of Set 1 | saint george\n",
      "Processing Record 33 of Set 1 | nikolskoye\n",
      "Processing Record 34 of Set 1 | tasiilaq\n",
      "Processing Record 35 of Set 1 | bredasdorp\n",
      "Processing Record 36 of Set 1 | puerto ayora\n",
      "Processing Record 37 of Set 1 | limbe\n",
      "Processing Record 38 of Set 1 | mporokoso\n",
      "Processing Record 39 of Set 1 | deep river\n",
      "Skipping... City not found\n",
      "Processing Record 40 of Set 1 | butaritari\n",
      "Processing Record 41 of Set 1 | klichka\n",
      "Processing Record 42 of Set 1 | mar del plata\n",
      "Processing Record 43 of Set 1 | kumta\n",
      "Processing Record 44 of Set 1 | vaini\n",
      "Processing Record 45 of Set 1 | fairbanks\n",
      "Processing Record 46 of Set 1 | talnakh\n",
      "Skipping... City not found\n",
      "Processing Record 0 of Set 2 | coquimbo\n",
      "Processing Record 1 of Set 2 | mataura\n",
      "Processing Record 2 of Set 2 | qaanaaq\n",
      "Skipping... City not found\n",
      "Processing Record 3 of Set 2 | portland\n",
      "Skipping... City not found\n",
      "Processing Record 4 of Set 2 | kungurtug\n",
      "Processing Record 5 of Set 2 | price\n",
      "Skipping... City not found\n",
      "Skipping... City not found\n",
      "Processing Record 6 of Set 2 | hobart\n",
      "Processing Record 7 of Set 2 | xai-xai\n",
      "Processing Record 8 of Set 2 | octeville\n",
      "Processing Record 9 of Set 2 | mezhdurechenskiy\n",
      "Processing Record 10 of Set 2 | castro\n",
      "Processing Record 11 of Set 2 | tevriz\n",
      "Processing Record 12 of Set 2 | hilo\n",
      "Processing Record 13 of Set 2 | ponta do sol\n",
      "Processing Record 14 of Set 2 | rensvik\n",
      "Processing Record 15 of Set 2 | dingle\n",
      "Processing Record 16 of Set 2 | ushuaia\n",
      "Skipping... City not found\n",
      "Processing Record 17 of Set 2 | adre\n",
      "Processing Record 18 of Set 2 | ust-kalmanka\n",
      "Processing Record 19 of Set 2 | mazamari\n",
      "Processing Record 20 of Set 2 | half moon bay\n",
      "Processing Record 21 of Set 2 | airai\n",
      "Processing Record 22 of Set 2 | qaqortoq\n",
      "Processing Record 23 of Set 2 | san patricio\n",
      "Processing Record 24 of Set 2 | nizhniy kuranakh\n",
      "Processing Record 25 of Set 2 | oltu\n",
      "Processing Record 26 of Set 2 | glogow\n",
      "Processing Record 27 of Set 2 | bluff\n",
      "Processing Record 28 of Set 2 | spencer\n",
      "Processing Record 29 of Set 2 | saint-philippe\n",
      "Processing Record 30 of Set 2 | busselton\n",
      "Processing Record 31 of Set 2 | tamiahua\n",
      "Processing Record 32 of Set 2 | zyryanskoye\n",
      "Processing Record 33 of Set 2 | nelson bay\n",
      "Processing Record 34 of Set 2 | payakumbuh\n",
      "Processing Record 35 of Set 2 | walvis bay\n",
      "Processing Record 36 of Set 2 | la ronge\n",
      "Processing Record 37 of Set 2 | chokurdakh\n",
      "Processing Record 38 of Set 2 | cabo san lucas\n",
      "Skipping... City not found\n",
      "Processing Record 39 of Set 2 | guarapari\n",
      "Processing Record 40 of Set 2 | narsaq\n",
      "Processing Record 41 of Set 2 | saskylakh\n",
      "Processing Record 42 of Set 2 | georgetown\n",
      "Processing Record 0 of Set 3 | aklavik\n",
      "Processing Record 1 of Set 3 | port blair\n",
      "Processing Record 2 of Set 3 | darhan\n",
      "Processing Record 3 of Set 3 | yumen\n",
      "Processing Record 4 of Set 3 | kidal\n",
      "Skipping... City not found\n",
      "Processing Record 5 of Set 3 | lazaro cardenas\n",
      "Processing Record 6 of Set 3 | upernavik\n",
      "Processing Record 7 of Set 3 | parrita\n",
      "Processing Record 8 of Set 3 | sangar\n",
      "Processing Record 9 of Set 3 | fort frances\n",
      "Processing Record 10 of Set 3 | zarand\n",
      "Processing Record 11 of Set 3 | maniitsoq\n",
      "Processing Record 12 of Set 3 | tessalit\n",
      "Processing Record 13 of Set 3 | camana\n",
      "Processing Record 14 of Set 3 | hithadhoo\n",
      "Processing Record 15 of Set 3 | muisne\n",
      "Processing Record 16 of Set 3 | urumqi\n",
      "Processing Record 17 of Set 3 | turukhansk\n",
      "Processing Record 18 of Set 3 | arraial do cabo\n",
      "Processing Record 19 of Set 3 | ilulissat\n",
      "Processing Record 20 of Set 3 | naica\n",
      "Processing Record 21 of Set 3 | kloulklubed\n",
      "Processing Record 22 of Set 3 | port elizabeth\n",
      "Processing Record 23 of Set 3 | masunga\n",
      "Processing Record 24 of Set 3 | panaba\n",
      "Processing Record 25 of Set 3 | tiksi\n",
      "Skipping... City not found\n",
      "Processing Record 26 of Set 3 | pitimbu\n",
      "Processing Record 27 of Set 3 | east london\n",
      "Processing Record 28 of Set 3 | itamaraju\n",
      "Processing Record 29 of Set 3 | duluth\n",
      "Processing Record 30 of Set 3 | beisfjord\n",
      "Processing Record 31 of Set 3 | pangnirtung\n",
      "Processing Record 32 of Set 3 | yongan\n",
      "Processing Record 33 of Set 3 | dayong\n",
      "Processing Record 34 of Set 3 | avarua\n",
      "Processing Record 35 of Set 3 | cidreira\n",
      "Processing Record 36 of Set 3 | chino valley\n",
      "Processing Record 37 of Set 3 | rawson\n",
      "Processing Record 38 of Set 3 | dikson\n",
      "Processing Record 39 of Set 3 | prince rupert\n",
      "Processing Record 40 of Set 3 | viedma\n",
      "Processing Record 41 of Set 3 | port lincoln\n",
      "Processing Record 42 of Set 3 | twin falls\n",
      "Skipping... City not found\n",
      "Processing Record 43 of Set 3 | troitsk\n",
      "Processing Record 44 of Set 3 | torbay\n",
      "Processing Record 45 of Set 3 | bengkulu\n",
      "Processing Record 46 of Set 3 | olafsvik\n",
      "Processing Record 0 of Set 4 | charyshskoye\n",
      "Processing Record 1 of Set 4 | cavalcante\n",
      "Processing Record 2 of Set 4 | waipawa\n",
      "Processing Record 3 of Set 4 | rock island\n",
      "Processing Record 4 of Set 4 | bonthe\n",
      "Processing Record 5 of Set 4 | uhlove\n",
      "Processing Record 6 of Set 4 | provideniya\n",
      "Processing Record 7 of Set 4 | wolmirstedt\n",
      "Processing Record 8 of Set 4 | iqaluit\n",
      "Processing Record 9 of Set 4 | lyubech\n",
      "Processing Record 10 of Set 4 | fenoarivo atsinanana\n",
      "Processing Record 11 of Set 4 | dudinka\n",
      "Processing Record 12 of Set 4 | bonavista\n",
      "Processing Record 13 of Set 4 | paamiut\n",
      "Processing Record 14 of Set 4 | kahului\n",
      "Processing Record 15 of Set 4 | kimbe\n",
      "Processing Record 16 of Set 4 | inuvik\n",
      "Processing Record 17 of Set 4 | lavrentiya\n",
      "Processing Record 18 of Set 4 | grindavik\n",
      "Processing Record 19 of Set 4 | punta de piedra\n",
      "Processing Record 20 of Set 4 | mackay\n",
      "Processing Record 21 of Set 4 | ivanjica\n",
      "Processing Record 22 of Set 4 | wilmington\n",
      "Processing Record 23 of Set 4 | tabou\n",
      "Skipping... City not found\n",
      "Processing Record 24 of Set 4 | langham\n",
      "Processing Record 25 of Set 4 | mount isa\n",
      "Processing Record 26 of Set 4 | boffa\n",
      "Processing Record 27 of Set 4 | vila velha\n",
      "Processing Record 28 of Set 4 | vysokogornyy\n",
      "Processing Record 29 of Set 4 | kaitangata\n",
      "Processing Record 30 of Set 4 | jamestown\n",
      "Processing Record 31 of Set 4 | baghdad\n",
      "Processing Record 32 of Set 4 | sitka\n",
      "Processing Record 33 of Set 4 | nome\n",
      "Processing Record 34 of Set 4 | necochea\n",
      "Processing Record 35 of Set 4 | deputatskiy\n",
      "Processing Record 36 of Set 4 | dunedin\n",
      "Processing Record 37 of Set 4 | sinnamary\n",
      "Processing Record 38 of Set 4 | emporia\n",
      "Processing Record 39 of Set 4 | corbelia\n",
      "Processing Record 40 of Set 4 | lisala\n",
      "Processing Record 41 of Set 4 | tuktoyaktuk\n",
      "Processing Record 42 of Set 4 | ahuimanu\n",
      "Processing Record 43 of Set 4 | rio gallegos\n",
      "Processing Record 44 of Set 4 | takoradi\n",
      "Processing Record 45 of Set 4 | marzuq\n",
      "Processing Record 46 of Set 4 | windhoek\n",
      "Processing Record 47 of Set 4 | birao\n",
      "Processing Record 48 of Set 4 | saint-pierre\n",
      "Processing Record 0 of Set 5 | the valley\n",
      "Skipping... City not found\n",
      "Processing Record 1 of Set 5 | bilma\n",
      "Processing Record 2 of Set 5 | wellington\n"
     ]
    },
    {
     "name": "stdout",
     "output_type": "stream",
     "text": [
      "Processing Record 3 of Set 5 | bethel\n",
      "Processing Record 4 of Set 5 | lompoc\n",
      "Processing Record 5 of Set 5 | waitati\n",
      "Processing Record 6 of Set 5 | belyy yar\n",
      "Processing Record 7 of Set 5 | caravelas\n",
      "Processing Record 8 of Set 5 | lufilufi\n",
      "Processing Record 9 of Set 5 | adrar\n",
      "Processing Record 10 of Set 5 | vila franca do campo\n",
      "Processing Record 11 of Set 5 | juxtlahuaca\n",
      "Processing Record 12 of Set 5 | saldanha\n",
      "Processing Record 13 of Set 5 | qasigiannguit\n",
      "Processing Record 14 of Set 5 | greenwood\n",
      "Processing Record 15 of Set 5 | tazovskiy\n",
      "Processing Record 16 of Set 5 | klaksvik\n",
      "Processing Record 17 of Set 5 | faizabad\n",
      "Processing Record 18 of Set 5 | tianpeng\n",
      "Processing Record 19 of Set 5 | salalah\n",
      "Skipping... City not found\n",
      "Processing Record 20 of Set 5 | victoria\n",
      "Processing Record 21 of Set 5 | mirpur khas\n",
      "Processing Record 22 of Set 5 | korla\n",
      "Processing Record 23 of Set 5 | treinta y tres\n",
      "Processing Record 24 of Set 5 | meulaboh\n",
      "Processing Record 25 of Set 5 | planos\n",
      "Processing Record 26 of Set 5 | shingu\n",
      "Processing Record 27 of Set 5 | carnarvon\n",
      "Processing Record 28 of Set 5 | lorengau\n",
      "Processing Record 29 of Set 5 | hasaki\n",
      "Processing Record 30 of Set 5 | clyde river\n",
      "Skipping... City not found\n",
      "Processing Record 31 of Set 5 | santa maria\n",
      "Processing Record 32 of Set 5 | sharan\n",
      "Processing Record 33 of Set 5 | esmeraldas\n",
      "Processing Record 34 of Set 5 | tuatapere\n",
      "Processing Record 35 of Set 5 | guerrero negro\n",
      "Processing Record 36 of Set 5 | san quintin\n",
      "Processing Record 37 of Set 5 | yatou\n",
      "Processing Record 38 of Set 5 | gamba\n",
      "Processing Record 39 of Set 5 | kamina\n",
      "Processing Record 40 of Set 5 | dalvik\n",
      "Processing Record 41 of Set 5 | los llanos de aridane\n",
      "Skipping... City not found\n",
      "Skipping... City not found\n",
      "Processing Record 42 of Set 5 | karratha\n",
      "Processing Record 43 of Set 5 | acarau\n",
      "Processing Record 44 of Set 5 | norman wells\n",
      "Processing Record 0 of Set 6 | zonguldak\n",
      "Processing Record 1 of Set 6 | avera\n",
      "Processing Record 2 of Set 6 | codrington\n",
      "Processing Record 3 of Set 6 | willowmore\n",
      "Processing Record 4 of Set 6 | havoysund\n",
      "Processing Record 5 of Set 6 | saint-francois\n",
      "Processing Record 6 of Set 6 | taraclia\n",
      "Processing Record 7 of Set 6 | broken hill\n",
      "Skipping... City not found\n",
      "Processing Record 8 of Set 6 | whitehorse\n",
      "Processing Record 9 of Set 6 | visnes\n",
      "Processing Record 10 of Set 6 | rocha\n",
      "Processing Record 11 of Set 6 | nadym\n",
      "Processing Record 12 of Set 6 | aanekoski\n",
      "Processing Record 13 of Set 6 | touros\n",
      "Skipping... City not found\n",
      "Processing Record 14 of Set 6 | sioux lookout\n",
      "Processing Record 15 of Set 6 | oil city\n",
      "Processing Record 16 of Set 6 | sept-iles\n",
      "Processing Record 17 of Set 6 | mitsamiouli\n",
      "Processing Record 18 of Set 6 | myitkyina\n",
      "Processing Record 19 of Set 6 | yerofey pavlovich\n",
      "Processing Record 20 of Set 6 | mahebourg\n",
      "Processing Record 21 of Set 6 | pangkalanbuun\n",
      "Processing Record 22 of Set 6 | khatanga\n",
      "Processing Record 23 of Set 6 | cayenne\n",
      "Processing Record 24 of Set 6 | kiruna\n",
      "Skipping... City not found\n",
      "Processing Record 25 of Set 6 | tangshan\n",
      "Skipping... City not found\n",
      "Skipping... City not found\n",
      "Processing Record 26 of Set 6 | harper\n",
      "Processing Record 27 of Set 6 | poum\n",
      "Processing Record 28 of Set 6 | vanimo\n",
      "Processing Record 29 of Set 6 | ngunguru\n",
      "Processing Record 30 of Set 6 | neryungri\n",
      "Processing Record 31 of Set 6 | kurilsk\n",
      "Processing Record 32 of Set 6 | te anau\n",
      "Processing Record 33 of Set 6 | svetlogorsk\n",
      "Processing Record 34 of Set 6 | fortuna\n",
      "Processing Record 35 of Set 6 | batagay\n",
      "Processing Record 36 of Set 6 | pevek\n",
      "Processing Record 37 of Set 6 | thinadhoo\n",
      "Processing Record 38 of Set 6 | sao filipe\n",
      "Processing Record 39 of Set 6 | bilgi\n",
      "Processing Record 40 of Set 6 | mackenzie\n",
      "Processing Record 41 of Set 6 | kirkenes\n",
      "Processing Record 42 of Set 6 | chuy\n",
      "Processing Record 43 of Set 6 | bima\n",
      "Processing Record 44 of Set 6 | hamilton\n",
      "Processing Record 0 of Set 7 | isangel\n",
      "Processing Record 1 of Set 7 | mocuba\n",
      "Processing Record 2 of Set 7 | katsuura\n",
      "Processing Record 3 of Set 7 | slave lake\n",
      "Skipping... City not found\n",
      "Processing Record 4 of Set 7 | faanui\n",
      "Processing Record 5 of Set 7 | iralaya\n",
      "Skipping... City not found\n",
      "Skipping... City not found\n",
      "Processing Record 6 of Set 7 | sorland\n",
      "Processing Record 7 of Set 7 | tahta\n",
      "Processing Record 8 of Set 7 | vondrozo\n",
      "Processing Record 9 of Set 7 | lagos\n",
      "Processing Record 10 of Set 7 | pozo colorado\n",
      "Processing Record 11 of Set 7 | tevaitoa\n",
      "Processing Record 12 of Set 7 | vardo\n",
      "Processing Record 13 of Set 7 | benghazi\n",
      "Processing Record 14 of Set 7 | okhotsk\n",
      "Processing Record 15 of Set 7 | pisco\n",
      "Processing Record 16 of Set 7 | calabozo\n",
      "Processing Record 17 of Set 7 | sonoita\n",
      "Processing Record 18 of Set 7 | honiara\n",
      "Processing Record 19 of Set 7 | broome\n",
      "Processing Record 20 of Set 7 | hauterive\n",
      "Skipping... City not found\n",
      "Skipping... City not found\n",
      "Processing Record 21 of Set 7 | ostrovnoy\n",
      "Processing Record 22 of Set 7 | kormend\n",
      "Processing Record 23 of Set 7 | dalbandin\n",
      "Processing Record 24 of Set 7 | yulara\n",
      "Processing Record 25 of Set 7 | lebu\n",
      "Processing Record 26 of Set 7 | khani\n",
      "Processing Record 27 of Set 7 | scotts valley\n",
      "Processing Record 28 of Set 7 | batemans bay\n",
      "Processing Record 29 of Set 7 | tucupita\n",
      "Processing Record 30 of Set 7 | sangolqui\n",
      "Processing Record 31 of Set 7 | longonjo\n",
      "Processing Record 32 of Set 7 | ixtapa\n",
      "Processing Record 33 of Set 7 | namibe\n",
      "Processing Record 34 of Set 7 | shubarkuduk\n",
      "Processing Record 35 of Set 7 | eureka\n",
      "Processing Record 36 of Set 7 | florianopolis\n",
      "Processing Record 37 of Set 7 | nantucket\n",
      "Processing Record 38 of Set 7 | verkhnyaya inta\n",
      "Processing Record 39 of Set 7 | tilichiki\n",
      "Processing Record 40 of Set 7 | lormont\n",
      "Processing Record 41 of Set 7 | kopervik\n",
      "Processing Record 42 of Set 7 | de aar\n",
      "Processing Record 43 of Set 7 | capitan bado\n",
      "Processing Record 44 of Set 7 | sterling\n",
      "Processing Record 0 of Set 8 | vanderhoof\n",
      "Processing Record 1 of Set 8 | vao\n",
      "Processing Record 2 of Set 8 | inirida\n",
      "Processing Record 3 of Set 8 | salinopolis\n",
      "Processing Record 4 of Set 8 | yanam\n",
      "Processing Record 5 of Set 8 | havre-saint-pierre\n",
      "Processing Record 6 of Set 8 | kodiak\n",
      "Processing Record 7 of Set 8 | chirongui\n",
      "Processing Record 8 of Set 8 | baryshivka\n",
      "Processing Record 9 of Set 8 | pansoy\n",
      "Processing Record 10 of Set 8 | emirdag\n",
      "Processing Record 11 of Set 8 | auki\n",
      "Processing Record 12 of Set 8 | yinchuan\n",
      "Processing Record 13 of Set 8 | puerto narino\n",
      "Processing Record 14 of Set 8 | juneau\n",
      "Processing Record 15 of Set 8 | hovd\n",
      "Processing Record 16 of Set 8 | geraldton\n",
      "Skipping... City not found\n",
      "Processing Record 17 of Set 8 | high level\n",
      "Processing Record 18 of Set 8 | puerto varas\n",
      "Skipping... City not found\n",
      "Skipping... City not found\n",
      "Processing Record 19 of Set 8 | san ramon\n",
      "Processing Record 20 of Set 8 | morros\n",
      "Processing Record 21 of Set 8 | sechura\n",
      "Processing Record 22 of Set 8 | yaring\n",
      "Processing Record 23 of Set 8 | kilindoni\n",
      "Processing Record 24 of Set 8 | kopavogur\n",
      "Processing Record 25 of Set 8 | takaka\n",
      "Skipping... City not found\n",
      "Processing Record 26 of Set 8 | makungu\n",
      "Processing Record 27 of Set 8 | kalmunai\n",
      "Processing Record 28 of Set 8 | umm kaddadah\n",
      "Processing Record 29 of Set 8 | samarai\n",
      "Processing Record 30 of Set 8 | longyearbyen\n",
      "Processing Record 31 of Set 8 | aykhal\n",
      "Processing Record 32 of Set 8 | linqiong\n",
      "Processing Record 33 of Set 8 | goderich\n",
      "Processing Record 34 of Set 8 | leh\n",
      "Processing Record 35 of Set 8 | kavieng\n",
      "Skipping... City not found\n",
      "Processing Record 36 of Set 8 | la gomera\n",
      "Processing Record 37 of Set 8 | ewa beach\n",
      "Skipping... City not found\n",
      "Processing Record 38 of Set 8 | diu\n",
      "Processing Record 39 of Set 8 | tupik\n",
      "Processing Record 40 of Set 8 | menongue\n",
      "Processing Record 41 of Set 8 | carutapera\n",
      "Processing Record 42 of Set 8 | manakara\n",
      "Processing Record 43 of Set 8 | saint-georges\n",
      "Processing Record 0 of Set 9 | coihaique\n",
      "Processing Record 1 of Set 9 | tadine\n",
      "Processing Record 2 of Set 9 | cartagena\n",
      "Processing Record 3 of Set 9 | grand-lahou\n",
      "Processing Record 4 of Set 9 | mezhdurechensk\n",
      "Processing Record 5 of Set 9 | baykit\n",
      "Processing Record 6 of Set 9 | chapada dos guimaraes\n",
      "Processing Record 7 of Set 9 | tiznit\n",
      "Processing Record 8 of Set 9 | constitucion\n",
      "Processing Record 9 of Set 9 | camacupa\n",
      "Processing Record 10 of Set 9 | watsa\n"
     ]
    },
    {
     "name": "stdout",
     "output_type": "stream",
     "text": [
      "Processing Record 11 of Set 9 | lydenburg\n",
      "Processing Record 12 of Set 9 | hualmay\n",
      "Processing Record 13 of Set 9 | hami\n",
      "Processing Record 14 of Set 9 | alpena\n",
      "Processing Record 15 of Set 9 | hirara\n",
      "Processing Record 16 of Set 9 | mandera\n",
      "Processing Record 17 of Set 9 | mogadishu\n",
      "Skipping... City not found\n",
      "Processing Record 18 of Set 9 | de-kastri\n",
      "Processing Record 19 of Set 9 | kintampo\n",
      "Processing Record 20 of Set 9 | tiarei\n",
      "Processing Record 21 of Set 9 | uray\n",
      "Skipping... City not found\n",
      "Processing Record 22 of Set 9 | little current\n",
      "Processing Record 23 of Set 9 | aleksandrov gay\n",
      "Processing Record 24 of Set 9 | dali\n",
      "Processing Record 25 of Set 9 | sao jose da coroa grande\n",
      "Processing Record 26 of Set 9 | lewistown\n",
      "Skipping... City not found\n",
      "Skipping... City not found\n",
      "Processing Record 27 of Set 9 | soyo\n",
      "Processing Record 28 of Set 9 | leningradskiy\n",
      "Processing Record 29 of Set 9 | carora\n",
      "Processing Record 30 of Set 9 | yelizovo\n",
      "Skipping... City not found\n",
      "Processing Record 31 of Set 9 | nouna\n",
      "Processing Record 32 of Set 9 | staryy nadym\n",
      "Processing Record 33 of Set 9 | porto seguro\n",
      "Processing Record 34 of Set 9 | urbana\n",
      "Processing Record 35 of Set 9 | nanortalik\n",
      "Processing Record 36 of Set 9 | esperance\n",
      "Processing Record 37 of Set 9 | san vicente\n",
      "Processing Record 38 of Set 9 | ende\n",
      "Processing Record 39 of Set 9 | kenai\n",
      "Processing Record 40 of Set 9 | venice\n",
      "Processing Record 41 of Set 9 | radha kund\n",
      "Processing Record 42 of Set 9 | evensk\n",
      "Processing Record 43 of Set 9 | popondetta\n",
      "Processing Record 44 of Set 9 | dvinskoy\n",
      "Processing Record 0 of Set 10 | keti bandar\n",
      "Processing Record 1 of Set 10 | atar\n",
      "Processing Record 2 of Set 10 | bireun\n",
      "Processing Record 3 of Set 10 | lasa\n",
      "Processing Record 4 of Set 10 | jalu\n",
      "Processing Record 5 of Set 10 | konde\n",
      "Processing Record 6 of Set 10 | brae\n",
      "Processing Record 7 of Set 10 | tautira\n",
      "Processing Record 8 of Set 10 | akbarpur\n",
      "Processing Record 9 of Set 10 | byron bay\n",
      "Processing Record 10 of Set 10 | novyy urgal\n",
      "Processing Record 11 of Set 10 | umm lajj\n",
      "Processing Record 12 of Set 10 | tulsipur\n",
      "Skipping... City not found\n",
      "Processing Record 13 of Set 10 | bambous virieux\n",
      "Processing Record 14 of Set 10 | nizwa\n",
      "Processing Record 15 of Set 10 | batagay-alyta\n",
      "Processing Record 16 of Set 10 | dickinson\n",
      "Processing Record 17 of Set 10 | maxixe\n",
      "Processing Record 18 of Set 10 | salina\n",
      "Processing Record 19 of Set 10 | kambove\n",
      "Processing Record 20 of Set 10 | padilla\n",
      "Skipping... City not found\n",
      "Skipping... City not found\n",
      "Processing Record 21 of Set 10 | egvekinot\n",
      "Processing Record 22 of Set 10 | angoram\n",
      "Processing Record 23 of Set 10 | nioro\n",
      "Processing Record 24 of Set 10 | shimoda\n",
      "Processing Record 25 of Set 10 | santa cruz de tenerife\n",
      "Processing Record 26 of Set 10 | suntar\n",
      "Processing Record 27 of Set 10 | coromandel\n",
      "Processing Record 28 of Set 10 | soderhamn\n",
      "Processing Record 29 of Set 10 | talcahuano\n",
      "Processing Record 30 of Set 10 | cherskiy\n",
      "Processing Record 31 of Set 10 | businga\n",
      "Processing Record 32 of Set 10 | fuerte olimpo\n",
      "Processing Record 33 of Set 10 | althofen\n",
      "Processing Record 34 of Set 10 | mayo\n",
      "Processing Record 35 of Set 10 | college\n",
      "Processing Record 36 of Set 10 | poronaysk\n",
      "Processing Record 37 of Set 10 | kumylzhenskaya\n",
      "Processing Record 38 of Set 10 | tambilil\n",
      "Processing Record 39 of Set 10 | kavaratti\n",
      "Processing Record 40 of Set 10 | kaohsiung\n",
      "Processing Record 41 of Set 10 | sur\n",
      "Processing Record 42 of Set 10 | sao sebastiao\n",
      "Processing Record 43 of Set 10 | hofn\n",
      "Processing Record 44 of Set 10 | lianran\n",
      "Processing Record 45 of Set 10 | alice springs\n",
      "Processing Record 46 of Set 10 | westport\n",
      "Processing Record 0 of Set 11 | ketchikan\n",
      "Processing Record 1 of Set 11 | kondinskoye\n",
      "Processing Record 2 of Set 11 | shurugwi\n",
      "Processing Record 3 of Set 11 | roald\n",
      "Processing Record 4 of Set 11 | oliveira\n",
      "Processing Record 5 of Set 11 | derzhavinsk\n",
      "Processing Record 6 of Set 11 | naze\n",
      "Processing Record 7 of Set 11 | vanavara\n",
      "Processing Record 8 of Set 11 | kiunga\n",
      "Processing Record 9 of Set 11 | nikolayevsk-na-amure\n",
      "Processing Record 10 of Set 11 | amboise\n",
      "Processing Record 11 of Set 11 | khorramshahr\n",
      "Skipping... City not found\n",
      "Processing Record 12 of Set 11 | nsanje\n",
      "Processing Record 13 of Set 11 | manjeshwar\n",
      "Processing Record 14 of Set 11 | zalari\n",
      "Processing Record 15 of Set 11 | bathsheba\n",
      "Processing Record 16 of Set 11 | richards bay\n",
      "Processing Record 17 of Set 11 | sobolevo\n",
      "Processing Record 18 of Set 11 | veselynove\n",
      "Processing Record 19 of Set 11 | alfred\n",
      "Processing Record 20 of Set 11 | laurel\n",
      "Processing Record 21 of Set 11 | awbari\n",
      "Processing Record 22 of Set 11 | port macquarie\n",
      "Processing Record 23 of Set 11 | cururupu\n",
      "Processing Record 24 of Set 11 | deneysville\n",
      "Processing Record 25 of Set 11 | lamar\n",
      "Processing Record 26 of Set 11 | ferkessedougou\n",
      "Processing Record 27 of Set 11 | hinton\n",
      "Processing Record 28 of Set 11 | nayoro\n",
      "Processing Record 29 of Set 11 | onesti\n",
      "Processing Record 30 of Set 11 | poco das trincheiras\n",
      "Processing Record 31 of Set 11 | santa cruz cabralia\n",
      "Processing Record 32 of Set 11 | nouadhibou\n",
      "Processing Record 33 of Set 11 | urucara\n",
      "Processing Record 34 of Set 11 | fukue\n",
      "Processing Record 35 of Set 11 | livingston\n",
      "Processing Record 36 of Set 11 | ukiah\n",
      "Processing Record 37 of Set 11 | ipixuna\n",
      "Processing Record 38 of Set 11 | skibbereen\n",
      "Processing Record 39 of Set 11 | meadow lake\n",
      "Processing Record 40 of Set 11 | whitianga\n",
      "Processing Record 41 of Set 11 | turinsk\n",
      "Processing Record 42 of Set 11 | tortoli\n",
      "Processing Record 43 of Set 11 | altamira\n",
      "Processing Record 44 of Set 11 | shache\n",
      "Processing Record 45 of Set 11 | payo\n",
      "Skipping... City not found\n",
      "Processing Record 46 of Set 11 | zaysan\n",
      "Processing Record 47 of Set 11 | langres\n",
      "Processing Record 0 of Set 12 | newton\n",
      "Processing Record 1 of Set 12 | aswan\n",
      "Processing Record 2 of Set 12 | hendersonville\n",
      "Processing Record 3 of Set 12 | nanakuli\n",
      "Processing Record 4 of Set 12 | dondo\n",
      "Processing Record 5 of Set 12 | kulu\n",
      "Processing Record 6 of Set 12 | kharan\n",
      "Processing Record 7 of Set 12 | llanes\n",
      "Processing Record 8 of Set 12 | freetown\n",
      "Processing Record 9 of Set 12 | lloydminster\n",
      "Processing Record 10 of Set 12 | yaan\n",
      "Processing Record 11 of Set 12 | sao joao da barra\n",
      "Processing Record 12 of Set 12 | ermelo\n",
      "Processing Record 13 of Set 12 | kuandian\n",
      "Processing Record 14 of Set 12 | puerto baquerizo moreno\n",
      "Processing Record 15 of Set 12 | ondangwa\n",
      "Processing Record 16 of Set 12 | gualaquiza\n",
      "Skipping... City not found\n",
      "Processing Record 17 of Set 12 | baruun-urt\n",
      "Processing Record 18 of Set 12 | mount gambier\n",
      "Processing Record 19 of Set 12 | tulun\n",
      "Processing Record 20 of Set 12 | margate\n",
      "Processing Record 21 of Set 12 | siocon\n",
      "Processing Record 22 of Set 12 | bemidji\n",
      "Processing Record 23 of Set 12 | caconda\n",
      "Processing Record 24 of Set 12 | atasu\n",
      "Processing Record 25 of Set 12 | zhangye\n",
      "Processing Record 26 of Set 12 | jackson\n",
      "Processing Record 27 of Set 12 | noumea\n",
      "Processing Record 28 of Set 12 | pula\n",
      "Processing Record 29 of Set 12 | puerto ayacucho\n",
      "Processing Record 30 of Set 12 | faya\n",
      "Processing Record 31 of Set 12 | putina\n",
      "Processing Record 32 of Set 12 | le vauclin\n",
      "Processing Record 33 of Set 12 | cangucu\n",
      "Processing Record 34 of Set 12 | burnie\n",
      "Processing Record 35 of Set 12 | santa cruz\n",
      "Processing Record 36 of Set 12 | nizhniy tsasuchey\n",
      "Processing Record 37 of Set 12 | denpasar\n",
      "Processing Record 38 of Set 12 | grand gaube\n",
      "Processing Record 39 of Set 12 | copiapo\n",
      "Processing Record 40 of Set 12 | kajaani\n",
      "Processing Record 41 of Set 12 | dawei\n",
      "Processing Record 42 of Set 12 | morehead\n",
      "Processing Record 43 of Set 12 | kisanga\n",
      "Processing Record 44 of Set 12 | porto novo\n",
      "Processing Record 45 of Set 12 | aasiaat\n",
      "Processing Record 46 of Set 12 | comodoro rivadavia\n",
      "Processing Record 47 of Set 12 | hibbing\n",
      "Processing Record 48 of Set 12 | rockport\n",
      "Processing Record 0 of Set 13 | high prairie\n",
      "Processing Record 1 of Set 13 | araouane\n",
      "Processing Record 2 of Set 13 | altay\n",
      "Skipping... City not found\n",
      "Skipping... City not found\n",
      "Processing Record 3 of Set 13 | rudkobing\n",
      "Processing Record 4 of Set 13 | canmore\n"
     ]
    }
   ],
   "source": [
    "print('Beginning Data Retrieval')\n",
    "print('~~~~~~~~~~~~~~~~~~~~~~~~')\n",
    "\n",
    "# make counters\n",
    "set_count = 1\n",
    "record_count = 1\n",
    "city_data = []\n",
    "\n",
    "# loop through all the cities in the cities list\n",
    "for i, city in enumerate (cities):\n",
    "    #grouping cities in groups of 50\n",
    "    if i%50 == 0 and i >= 50:\n",
    "        set_count = set_count + 1\n",
    "        record_count = 0\n",
    "    #print(f'Processing Record {record_count} of Set {set_count} | {city}')\n",
    "    \n",
    "    \n",
    "    city_url = f'http://api.openweathermap.org/data/2.5/weather?appid={weather_api_key}&q={city}'\n",
    "    \n",
    "    cityweather = requests.get(city_url).json()\n",
    "    if \"message\" in cityweather:\n",
    "        if cityweather[\"message\"]==\"city not found\":\n",
    "            print('Skipping... City not found')\n",
    "    else:\n",
    "        print(f'Processing Record {record_count} of Set {set_count} | {city}')\n",
    "        record_count = record_count + 1\n",
    "        citylat = cityweather['coord']['lat']\n",
    "        citylong = cityweather['coord']['lon']\n",
    "        maxtemp = cityweather['main']['temp_max']\n",
    "        humidity = cityweather['main']['humidity']\n",
    "        clouds = cityweather['clouds']['all']\n",
    "        wind = cityweather['wind']['speed']\n",
    "        country = cityweather['sys']['country']\n",
    "        date = cityweather['dt']\n",
    "        \n",
    "        city_data.append({'City': city,\n",
    "                         'Latitude': citylat,\n",
    "                         'Longitude': citylong,\n",
    "                         'Maximum Temperature': maxtemp,\n",
    "                         'Humidity': humidity,\n",
    "                         'Cloud Cover': clouds,\n",
    "                         'Wind Speed': wind,\n",
    "                         'Country': country,\n",
    "                         'Date': date})\n",
    "        \n",
    "    #print(cityweather)\n",
    "    "
   ]
  },
  {
   "cell_type": "markdown",
   "metadata": {},
   "source": [
    "### Convert Raw Data to DataFrame\n",
    "* Export the city data into a .csv.\n",
    "* Display the DataFrame"
   ]
  },
  {
   "cell_type": "code",
   "execution_count": 6,
   "metadata": {},
   "outputs": [
    {
     "data": {
      "text/html": [
       "<div>\n",
       "<style scoped>\n",
       "    .dataframe tbody tr th:only-of-type {\n",
       "        vertical-align: middle;\n",
       "    }\n",
       "\n",
       "    .dataframe tbody tr th {\n",
       "        vertical-align: top;\n",
       "    }\n",
       "\n",
       "    .dataframe thead th {\n",
       "        text-align: right;\n",
       "    }\n",
       "</style>\n",
       "<table border=\"1\" class=\"dataframe\">\n",
       "  <thead>\n",
       "    <tr style=\"text-align: right;\">\n",
       "      <th></th>\n",
       "      <th>City</th>\n",
       "      <th>Latitude</th>\n",
       "      <th>Longitude</th>\n",
       "      <th>Maximum Temperature</th>\n",
       "      <th>Humidity</th>\n",
       "      <th>Cloud Cover</th>\n",
       "      <th>Wind Speed</th>\n",
       "      <th>Country</th>\n",
       "      <th>Date</th>\n",
       "    </tr>\n",
       "  </thead>\n",
       "  <tbody>\n",
       "    <tr>\n",
       "      <th>0</th>\n",
       "      <td>imbituba</td>\n",
       "      <td>-28.24</td>\n",
       "      <td>-48.67</td>\n",
       "      <td>293.15</td>\n",
       "      <td>49</td>\n",
       "      <td>0</td>\n",
       "      <td>5.10</td>\n",
       "      <td>BR</td>\n",
       "      <td>1593893246</td>\n",
       "    </tr>\n",
       "    <tr>\n",
       "      <th>1</th>\n",
       "      <td>yellowknife</td>\n",
       "      <td>62.46</td>\n",
       "      <td>-114.35</td>\n",
       "      <td>290.15</td>\n",
       "      <td>82</td>\n",
       "      <td>75</td>\n",
       "      <td>4.60</td>\n",
       "      <td>CA</td>\n",
       "      <td>1593893162</td>\n",
       "    </tr>\n",
       "    <tr>\n",
       "      <th>2</th>\n",
       "      <td>albany</td>\n",
       "      <td>42.60</td>\n",
       "      <td>-73.97</td>\n",
       "      <td>304.82</td>\n",
       "      <td>34</td>\n",
       "      <td>38</td>\n",
       "      <td>0.66</td>\n",
       "      <td>US</td>\n",
       "      <td>1593893247</td>\n",
       "    </tr>\n",
       "    <tr>\n",
       "      <th>3</th>\n",
       "      <td>beringovskiy</td>\n",
       "      <td>63.05</td>\n",
       "      <td>179.32</td>\n",
       "      <td>279.83</td>\n",
       "      <td>98</td>\n",
       "      <td>100</td>\n",
       "      <td>5.38</td>\n",
       "      <td>RU</td>\n",
       "      <td>1593893247</td>\n",
       "    </tr>\n",
       "    <tr>\n",
       "      <th>4</th>\n",
       "      <td>ribeira grande</td>\n",
       "      <td>38.52</td>\n",
       "      <td>-28.70</td>\n",
       "      <td>296.15</td>\n",
       "      <td>83</td>\n",
       "      <td>40</td>\n",
       "      <td>3.10</td>\n",
       "      <td>PT</td>\n",
       "      <td>1593893247</td>\n",
       "    </tr>\n",
       "    <tr>\n",
       "      <th>...</th>\n",
       "      <td>...</td>\n",
       "      <td>...</td>\n",
       "      <td>...</td>\n",
       "      <td>...</td>\n",
       "      <td>...</td>\n",
       "      <td>...</td>\n",
       "      <td>...</td>\n",
       "      <td>...</td>\n",
       "      <td>...</td>\n",
       "    </tr>\n",
       "    <tr>\n",
       "      <th>553</th>\n",
       "      <td>high prairie</td>\n",
       "      <td>55.43</td>\n",
       "      <td>-116.49</td>\n",
       "      <td>285.34</td>\n",
       "      <td>89</td>\n",
       "      <td>100</td>\n",
       "      <td>4.28</td>\n",
       "      <td>CA</td>\n",
       "      <td>1593893129</td>\n",
       "    </tr>\n",
       "    <tr>\n",
       "      <th>554</th>\n",
       "      <td>araouane</td>\n",
       "      <td>18.90</td>\n",
       "      <td>-3.53</td>\n",
       "      <td>311.36</td>\n",
       "      <td>8</td>\n",
       "      <td>82</td>\n",
       "      <td>4.96</td>\n",
       "      <td>ML</td>\n",
       "      <td>1593893315</td>\n",
       "    </tr>\n",
       "    <tr>\n",
       "      <th>555</th>\n",
       "      <td>altay</td>\n",
       "      <td>47.87</td>\n",
       "      <td>88.12</td>\n",
       "      <td>290.03</td>\n",
       "      <td>31</td>\n",
       "      <td>27</td>\n",
       "      <td>3.46</td>\n",
       "      <td>CN</td>\n",
       "      <td>1593893316</td>\n",
       "    </tr>\n",
       "    <tr>\n",
       "      <th>556</th>\n",
       "      <td>rudkobing</td>\n",
       "      <td>54.94</td>\n",
       "      <td>10.71</td>\n",
       "      <td>290.37</td>\n",
       "      <td>93</td>\n",
       "      <td>100</td>\n",
       "      <td>4.10</td>\n",
       "      <td>DK</td>\n",
       "      <td>1593893316</td>\n",
       "    </tr>\n",
       "    <tr>\n",
       "      <th>557</th>\n",
       "      <td>canmore</td>\n",
       "      <td>51.08</td>\n",
       "      <td>-115.35</td>\n",
       "      <td>285.37</td>\n",
       "      <td>76</td>\n",
       "      <td>90</td>\n",
       "      <td>3.10</td>\n",
       "      <td>CA</td>\n",
       "      <td>1593893316</td>\n",
       "    </tr>\n",
       "  </tbody>\n",
       "</table>\n",
       "<p>558 rows × 9 columns</p>\n",
       "</div>"
      ],
      "text/plain": [
       "               City  Latitude  Longitude  Maximum Temperature  Humidity  \\\n",
       "0          imbituba    -28.24     -48.67               293.15        49   \n",
       "1       yellowknife     62.46    -114.35               290.15        82   \n",
       "2            albany     42.60     -73.97               304.82        34   \n",
       "3      beringovskiy     63.05     179.32               279.83        98   \n",
       "4    ribeira grande     38.52     -28.70               296.15        83   \n",
       "..              ...       ...        ...                  ...       ...   \n",
       "553    high prairie     55.43    -116.49               285.34        89   \n",
       "554        araouane     18.90      -3.53               311.36         8   \n",
       "555           altay     47.87      88.12               290.03        31   \n",
       "556       rudkobing     54.94      10.71               290.37        93   \n",
       "557         canmore     51.08    -115.35               285.37        76   \n",
       "\n",
       "     Cloud Cover  Wind Speed Country        Date  \n",
       "0              0        5.10      BR  1593893246  \n",
       "1             75        4.60      CA  1593893162  \n",
       "2             38        0.66      US  1593893247  \n",
       "3            100        5.38      RU  1593893247  \n",
       "4             40        3.10      PT  1593893247  \n",
       "..           ...         ...     ...         ...  \n",
       "553          100        4.28      CA  1593893129  \n",
       "554           82        4.96      ML  1593893315  \n",
       "555           27        3.46      CN  1593893316  \n",
       "556          100        4.10      DK  1593893316  \n",
       "557           90        3.10      CA  1593893316  \n",
       "\n",
       "[558 rows x 9 columns]"
      ]
     },
     "execution_count": 6,
     "metadata": {},
     "output_type": "execute_result"
    }
   ],
   "source": [
    "cityweather_df = pd.DataFrame(city_data)\n",
    "\n",
    "cityweather_df"
   ]
  },
  {
   "cell_type": "code",
   "execution_count": 7,
   "metadata": {},
   "outputs": [],
   "source": [
    "outputpath = 'output_cities.csv'\n",
    "cityweather_df.to_csv(outputpath, index_label = 'City ID')"
   ]
  },
  {
   "cell_type": "markdown",
   "metadata": {},
   "source": [
    "## Inspect the data and remove the cities where the humidity > 100%.\n",
    "----\n",
    "Skip this step if there are no cities that have humidity > 100%. "
   ]
  },
  {
   "cell_type": "code",
   "execution_count": 8,
   "metadata": {},
   "outputs": [
    {
     "data": {
      "text/html": [
       "<div>\n",
       "<style scoped>\n",
       "    .dataframe tbody tr th:only-of-type {\n",
       "        vertical-align: middle;\n",
       "    }\n",
       "\n",
       "    .dataframe tbody tr th {\n",
       "        vertical-align: top;\n",
       "    }\n",
       "\n",
       "    .dataframe thead th {\n",
       "        text-align: right;\n",
       "    }\n",
       "</style>\n",
       "<table border=\"1\" class=\"dataframe\">\n",
       "  <thead>\n",
       "    <tr style=\"text-align: right;\">\n",
       "      <th></th>\n",
       "      <th>Latitude</th>\n",
       "      <th>Longitude</th>\n",
       "      <th>Maximum Temperature</th>\n",
       "      <th>Humidity</th>\n",
       "      <th>Cloud Cover</th>\n",
       "      <th>Wind Speed</th>\n",
       "      <th>Date</th>\n",
       "    </tr>\n",
       "  </thead>\n",
       "  <tbody>\n",
       "    <tr>\n",
       "      <th>count</th>\n",
       "      <td>558.000000</td>\n",
       "      <td>558.000000</td>\n",
       "      <td>558.000000</td>\n",
       "      <td>558.000000</td>\n",
       "      <td>558.000000</td>\n",
       "      <td>558.000000</td>\n",
       "      <td>5.580000e+02</td>\n",
       "    </tr>\n",
       "    <tr>\n",
       "      <th>mean</th>\n",
       "      <td>19.621810</td>\n",
       "      <td>10.742616</td>\n",
       "      <td>293.680000</td>\n",
       "      <td>68.145161</td>\n",
       "      <td>53.412186</td>\n",
       "      <td>3.605573</td>\n",
       "      <td>1.593893e+09</td>\n",
       "    </tr>\n",
       "    <tr>\n",
       "      <th>std</th>\n",
       "      <td>34.369348</td>\n",
       "      <td>92.143665</td>\n",
       "      <td>8.358501</td>\n",
       "      <td>21.562537</td>\n",
       "      <td>38.761740</td>\n",
       "      <td>2.151224</td>\n",
       "      <td>6.428007e+01</td>\n",
       "    </tr>\n",
       "    <tr>\n",
       "      <th>min</th>\n",
       "      <td>-54.800000</td>\n",
       "      <td>-179.170000</td>\n",
       "      <td>274.150000</td>\n",
       "      <td>1.000000</td>\n",
       "      <td>0.000000</td>\n",
       "      <td>0.190000</td>\n",
       "      <td>1.593893e+09</td>\n",
       "    </tr>\n",
       "    <tr>\n",
       "      <th>25%</th>\n",
       "      <td>-9.712500</td>\n",
       "      <td>-68.457500</td>\n",
       "      <td>287.150000</td>\n",
       "      <td>55.000000</td>\n",
       "      <td>16.000000</td>\n",
       "      <td>2.000000</td>\n",
       "      <td>1.593893e+09</td>\n",
       "    </tr>\n",
       "    <tr>\n",
       "      <th>50%</th>\n",
       "      <td>24.115000</td>\n",
       "      <td>15.445000</td>\n",
       "      <td>295.150000</td>\n",
       "      <td>73.000000</td>\n",
       "      <td>59.000000</td>\n",
       "      <td>3.100000</td>\n",
       "      <td>1.593893e+09</td>\n",
       "    </tr>\n",
       "    <tr>\n",
       "      <th>75%</th>\n",
       "      <td>49.827500</td>\n",
       "      <td>87.357500</td>\n",
       "      <td>300.195000</td>\n",
       "      <td>84.000000</td>\n",
       "      <td>90.750000</td>\n",
       "      <td>4.750000</td>\n",
       "      <td>1.593893e+09</td>\n",
       "    </tr>\n",
       "    <tr>\n",
       "      <th>max</th>\n",
       "      <td>78.220000</td>\n",
       "      <td>179.320000</td>\n",
       "      <td>313.440000</td>\n",
       "      <td>100.000000</td>\n",
       "      <td>100.000000</td>\n",
       "      <td>12.900000</td>\n",
       "      <td>1.593893e+09</td>\n",
       "    </tr>\n",
       "  </tbody>\n",
       "</table>\n",
       "</div>"
      ],
      "text/plain": [
       "         Latitude   Longitude  Maximum Temperature    Humidity  Cloud Cover  \\\n",
       "count  558.000000  558.000000           558.000000  558.000000   558.000000   \n",
       "mean    19.621810   10.742616           293.680000   68.145161    53.412186   \n",
       "std     34.369348   92.143665             8.358501   21.562537    38.761740   \n",
       "min    -54.800000 -179.170000           274.150000    1.000000     0.000000   \n",
       "25%     -9.712500  -68.457500           287.150000   55.000000    16.000000   \n",
       "50%     24.115000   15.445000           295.150000   73.000000    59.000000   \n",
       "75%     49.827500   87.357500           300.195000   84.000000    90.750000   \n",
       "max     78.220000  179.320000           313.440000  100.000000   100.000000   \n",
       "\n",
       "       Wind Speed          Date  \n",
       "count  558.000000  5.580000e+02  \n",
       "mean     3.605573  1.593893e+09  \n",
       "std      2.151224  6.428007e+01  \n",
       "min      0.190000  1.593893e+09  \n",
       "25%      2.000000  1.593893e+09  \n",
       "50%      3.100000  1.593893e+09  \n",
       "75%      4.750000  1.593893e+09  \n",
       "max     12.900000  1.593893e+09  "
      ]
     },
     "execution_count": 8,
     "metadata": {},
     "output_type": "execute_result"
    }
   ],
   "source": [
    "cityweather_df.describe()"
   ]
  },
  {
   "cell_type": "code",
   "execution_count": 9,
   "metadata": {},
   "outputs": [],
   "source": [
    "#  Get the indices of cities that have humidity over 100%.\n"
   ]
  },
  {
   "cell_type": "code",
   "execution_count": 10,
   "metadata": {},
   "outputs": [
    {
     "data": {
      "text/plain": [
       "Int64Index([], dtype='int64')"
      ]
     },
     "execution_count": 10,
     "metadata": {},
     "output_type": "execute_result"
    }
   ],
   "source": [
    "reallyhumid = cityweather_df[(cityweather_df['Humidity'] > 100)].index\n",
    "reallyhumid"
   ]
  },
  {
   "cell_type": "code",
   "execution_count": 11,
   "metadata": {},
   "outputs": [],
   "source": [
    "# Make a new DataFrame equal to the city data to drop all humidity outliers by index.\n",
    "# Passing \"inplace=False\" will make a copy of the city_data DataFrame, which we call \"clean_city_data\".\n"
   ]
  },
  {
   "cell_type": "code",
   "execution_count": 12,
   "metadata": {},
   "outputs": [],
   "source": [
    "# Extract relevant fields from the data frame\n",
    "\n",
    "\n",
    "# Export the City_Data into a csv\n"
   ]
  },
  {
   "cell_type": "markdown",
   "metadata": {},
   "source": [
    "## Plotting the Data\n",
    "* Use proper labeling of the plots using plot titles (including date of analysis) and axes labels.\n",
    "* Save the plotted figures as .pngs."
   ]
  },
  {
   "cell_type": "markdown",
   "metadata": {},
   "source": [
    "## Latitude vs. Temperature Plot"
   ]
  },
  {
   "cell_type": "code",
   "execution_count": 27,
   "metadata": {
    "scrolled": true
   },
   "outputs": [
    {
     "data": {
      "image/png": "[encoded data removed]",
      "text/plain": [
       "<Figure size 432x288 with 1 Axes>"
      ]
     },
     "metadata": {
      "needs_background": "light"
     },
     "output_type": "display_data"
    },
    {
     "name": "stdout",
     "output_type": "stream",
     "text": [
      "This plot shows the relationship between latitude and temperature on the globe. As expected, the temperature goes up the closer you get to the equator.\n"
     ]
    },
    {
     "data": {
      "text/plain": [
       "<Figure size 432x288 with 0 Axes>"
      ]
     },
     "metadata": {},
     "output_type": "display_data"
    }
   ],
   "source": [
    "scatterlat = cityweather_df['Latitude']\n",
    "scatterhumid = cityweather_df['Humidity']\n",
    "scattertemp = cityweather_df['Maximum Temperature']\n",
    "scattercloud = cityweather_df['Cloud Cover']\n",
    "scatterwind = cityweather_df['Wind Speed']\n",
    "#------------------------------------------\n",
    "plt.scatter(scatterlat, scattertemp, marker = 'o')\n",
    "plt.grid(True)\n",
    "plt.xlabel(\"Latitude\")\n",
    "plt.ylabel(\"Maximum Temperature (F)\")\n",
    "plt.title(\"Latitude vs. Temperature\")\n",
    "plt.show()\n",
    "plt.savefig('latvstemp.png')\n",
    "print(\"This plot shows the relationship between latitude and temperature on the globe. As expected, the temperature goes up the closer you get to the equator.\")"
   ]
  },
  {
   "cell_type": "markdown",
   "metadata": {},
   "source": [
    "## Latitude vs. Humidity Plot"
   ]
  },
  {
   "cell_type": "code",
   "execution_count": 14,
   "metadata": {},
   "outputs": [
    {
     "data": {
      "image/png": "[encoded data removed]",
      "text/plain": [
       "<Figure size 432x288 with 1 Axes>"
      ]
     },
     "metadata": {
      "needs_background": "light"
     },
     "output_type": "display_data"
    },
    {
     "name": "stdout",
     "output_type": "stream",
     "text": [
      "This plot shows the relationship between humidity and latitude. It seems like it gets more humid the farther you get from the equator.\n"
     ]
    },
    {
     "data": {
      "text/plain": [
       "<Figure size 432x288 with 0 Axes>"
      ]
     },
     "metadata": {},
     "output_type": "display_data"
    }
   ],
   "source": [
    "plt.scatter(scatterlat, scatterhumid, marker = 'o')\n",
    "plt.grid(True)\n",
    "plt.xlabel(\"Latitude\")\n",
    "plt.ylabel(\"Humidity Percentage\")\n",
    "plt.title(\"Latitude vs. Humidity\")\n",
    "plt.show()\n",
    "print('This plot shows the relationship between humidity and latitude. It seems like it gets more humid the farther you get from the equator.')\n",
    "plt.savefig('latvshum.png')"
   ]
  },
  {
   "cell_type": "markdown",
   "metadata": {},
   "source": [
    "## Latitude vs. Cloudiness Plot"
   ]
  },
  {
   "cell_type": "code",
   "execution_count": 15,
   "metadata": {},
   "outputs": [
    {
     "data": {
      "image/png": "[encoded data removed]",
      "text/plain": [
       "<Figure size 432x288 with 1 Axes>"
      ]
     },
     "metadata": {
      "needs_background": "light"
     },
     "output_type": "display_data"
    },
    {
     "name": "stdout",
     "output_type": "stream",
     "text": [
      "This plot shows the relationship between latitude and cloudiness. Seems like it gets cloudier toward the poles. \n"
     ]
    },
    {
     "data": {
      "text/plain": [
       "<Figure size 432x288 with 0 Axes>"
      ]
     },
     "metadata": {},
     "output_type": "display_data"
    }
   ],
   "source": [
    "plt.scatter(scatterlat, scattercloud, marker = 'o')\n",
    "plt.grid(True)\n",
    "plt.xlabel(\"Latitude\")\n",
    "plt.ylabel(\"Cloudiness\")\n",
    "plt.title(\"Latitude vs. Cloudiness\")\n",
    "plt.show()\n",
    "print('This plot shows the relationship between latitude and cloudiness. Seems like it gets cloudier toward the poles. ')\n",
    "plt.savefig('latvscloud.png')"
   ]
  },
  {
   "cell_type": "markdown",
   "metadata": {},
   "source": [
    "## Latitude vs. Wind Speed Plot"
   ]
  },
  {
   "cell_type": "code",
   "execution_count": 16,
   "metadata": {},
   "outputs": [
    {
     "data": {
      "image/png": "[encoded data removed]",
      "text/plain": [
       "<Figure size 432x288 with 1 Axes>"
      ]
     },
     "metadata": {
      "needs_background": "light"
     },
     "output_type": "display_data"
    },
    {
     "data": {
      "text/plain": [
       "<Figure size 432x288 with 0 Axes>"
      ]
     },
     "metadata": {},
     "output_type": "display_data"
    }
   ],
   "source": [
    "plt.scatter(scatterlat, scatterwind, marker = 'o')\n",
    "plt.grid(True)\n",
    "plt.xlabel(\"Latitude\")\n",
    "plt.ylabel(\"Wind Speed\")\n",
    "plt.title(\"Latitude vs. Wind Speed\")\n",
    "plt.show()\n",
    "\"This plot shows the relationship of latitude and wind speed. This plot reflects that it gets windier as you get closer to the equator.\"\n",
    "plt.savefig('latvswind.png')"
   ]
  },
  {
   "cell_type": "markdown",
   "metadata": {},
   "source": [
    "## Linear Regression"
   ]
  },
  {
   "cell_type": "code",
   "execution_count": 17,
   "metadata": {},
   "outputs": [],
   "source": [
    "# OPTIONAL: Create a function to create Linear Regression plots\n",
    "def plotLR(xvalues, yvalues):\n",
    "    (slope, intercept, rvalue, pvalue, stderr) = linregress(x_values, y_values)\n",
    "    regress_values = x_values * slope + intercept\n",
    "    line_eq = \"y = \" + str(round(slope,2)) + \"x + \" + str(round(intercept,2))\n",
    "    plt.scatter(xvalues, yvalues)\n",
    "    plt.annotate(line_eq,text_coordinates,fontsize=15,color=\"red\")"
   ]
  },
  {
   "cell_type": "code",
   "execution_count": 18,
   "metadata": {},
   "outputs": [
    {
     "data": {
      "text/html": [
       "<div>\n",
       "<style scoped>\n",
       "    .dataframe tbody tr th:only-of-type {\n",
       "        vertical-align: middle;\n",
       "    }\n",
       "\n",
       "    .dataframe tbody tr th {\n",
       "        vertical-align: top;\n",
       "    }\n",
       "\n",
       "    .dataframe thead th {\n",
       "        text-align: right;\n",
       "    }\n",
       "</style>\n",
       "<table border=\"1\" class=\"dataframe\">\n",
       "  <thead>\n",
       "    <tr style=\"text-align: right;\">\n",
       "      <th></th>\n",
       "      <th>City</th>\n",
       "      <th>Latitude</th>\n",
       "      <th>Longitude</th>\n",
       "      <th>Maximum Temperature</th>\n",
       "      <th>Humidity</th>\n",
       "      <th>Cloud Cover</th>\n",
       "      <th>Wind Speed</th>\n",
       "      <th>Country</th>\n",
       "      <th>Date</th>\n",
       "    </tr>\n",
       "  </thead>\n",
       "  <tbody>\n",
       "    <tr>\n",
       "      <th>1</th>\n",
       "      <td>yellowknife</td>\n",
       "      <td>62.46</td>\n",
       "      <td>-114.35</td>\n",
       "      <td>290.15</td>\n",
       "      <td>82</td>\n",
       "      <td>75</td>\n",
       "      <td>4.60</td>\n",
       "      <td>CA</td>\n",
       "      <td>1593893162</td>\n",
       "    </tr>\n",
       "    <tr>\n",
       "      <th>2</th>\n",
       "      <td>albany</td>\n",
       "      <td>42.60</td>\n",
       "      <td>-73.97</td>\n",
       "      <td>304.82</td>\n",
       "      <td>34</td>\n",
       "      <td>38</td>\n",
       "      <td>0.66</td>\n",
       "      <td>US</td>\n",
       "      <td>1593893247</td>\n",
       "    </tr>\n",
       "    <tr>\n",
       "      <th>3</th>\n",
       "      <td>beringovskiy</td>\n",
       "      <td>63.05</td>\n",
       "      <td>179.32</td>\n",
       "      <td>279.83</td>\n",
       "      <td>98</td>\n",
       "      <td>100</td>\n",
       "      <td>5.38</td>\n",
       "      <td>RU</td>\n",
       "      <td>1593893247</td>\n",
       "    </tr>\n",
       "    <tr>\n",
       "      <th>4</th>\n",
       "      <td>ribeira grande</td>\n",
       "      <td>38.52</td>\n",
       "      <td>-28.70</td>\n",
       "      <td>296.15</td>\n",
       "      <td>83</td>\n",
       "      <td>40</td>\n",
       "      <td>3.10</td>\n",
       "      <td>PT</td>\n",
       "      <td>1593893247</td>\n",
       "    </tr>\n",
       "    <tr>\n",
       "      <th>6</th>\n",
       "      <td>kapaa</td>\n",
       "      <td>22.08</td>\n",
       "      <td>-159.32</td>\n",
       "      <td>300.15</td>\n",
       "      <td>78</td>\n",
       "      <td>20</td>\n",
       "      <td>3.60</td>\n",
       "      <td>US</td>\n",
       "      <td>1593893247</td>\n",
       "    </tr>\n",
       "    <tr>\n",
       "      <th>...</th>\n",
       "      <td>...</td>\n",
       "      <td>...</td>\n",
       "      <td>...</td>\n",
       "      <td>...</td>\n",
       "      <td>...</td>\n",
       "      <td>...</td>\n",
       "      <td>...</td>\n",
       "      <td>...</td>\n",
       "      <td>...</td>\n",
       "    </tr>\n",
       "    <tr>\n",
       "      <th>553</th>\n",
       "      <td>high prairie</td>\n",
       "      <td>55.43</td>\n",
       "      <td>-116.49</td>\n",
       "      <td>285.34</td>\n",
       "      <td>89</td>\n",
       "      <td>100</td>\n",
       "      <td>4.28</td>\n",
       "      <td>CA</td>\n",
       "      <td>1593893129</td>\n",
       "    </tr>\n",
       "    <tr>\n",
       "      <th>554</th>\n",
       "      <td>araouane</td>\n",
       "      <td>18.90</td>\n",
       "      <td>-3.53</td>\n",
       "      <td>311.36</td>\n",
       "      <td>8</td>\n",
       "      <td>82</td>\n",
       "      <td>4.96</td>\n",
       "      <td>ML</td>\n",
       "      <td>1593893315</td>\n",
       "    </tr>\n",
       "    <tr>\n",
       "      <th>555</th>\n",
       "      <td>altay</td>\n",
       "      <td>47.87</td>\n",
       "      <td>88.12</td>\n",
       "      <td>290.03</td>\n",
       "      <td>31</td>\n",
       "      <td>27</td>\n",
       "      <td>3.46</td>\n",
       "      <td>CN</td>\n",
       "      <td>1593893316</td>\n",
       "    </tr>\n",
       "    <tr>\n",
       "      <th>556</th>\n",
       "      <td>rudkobing</td>\n",
       "      <td>54.94</td>\n",
       "      <td>10.71</td>\n",
       "      <td>290.37</td>\n",
       "      <td>93</td>\n",
       "      <td>100</td>\n",
       "      <td>4.10</td>\n",
       "      <td>DK</td>\n",
       "      <td>1593893316</td>\n",
       "    </tr>\n",
       "    <tr>\n",
       "      <th>557</th>\n",
       "      <td>canmore</td>\n",
       "      <td>51.08</td>\n",
       "      <td>-115.35</td>\n",
       "      <td>285.37</td>\n",
       "      <td>76</td>\n",
       "      <td>90</td>\n",
       "      <td>3.10</td>\n",
       "      <td>CA</td>\n",
       "      <td>1593893316</td>\n",
       "    </tr>\n",
       "  </tbody>\n",
       "</table>\n",
       "<p>373 rows × 9 columns</p>\n",
       "</div>"
      ],
      "text/plain": [
       "               City  Latitude  Longitude  Maximum Temperature  Humidity  \\\n",
       "1       yellowknife     62.46    -114.35               290.15        82   \n",
       "2            albany     42.60     -73.97               304.82        34   \n",
       "3      beringovskiy     63.05     179.32               279.83        98   \n",
       "4    ribeira grande     38.52     -28.70               296.15        83   \n",
       "6             kapaa     22.08    -159.32               300.15        78   \n",
       "..              ...       ...        ...                  ...       ...   \n",
       "553    high prairie     55.43    -116.49               285.34        89   \n",
       "554        araouane     18.90      -3.53               311.36         8   \n",
       "555           altay     47.87      88.12               290.03        31   \n",
       "556       rudkobing     54.94      10.71               290.37        93   \n",
       "557         canmore     51.08    -115.35               285.37        76   \n",
       "\n",
       "     Cloud Cover  Wind Speed Country        Date  \n",
       "1             75        4.60      CA  1593893162  \n",
       "2             38        0.66      US  1593893247  \n",
       "3            100        5.38      RU  1593893247  \n",
       "4             40        3.10      PT  1593893247  \n",
       "6             20        3.60      US  1593893247  \n",
       "..           ...         ...     ...         ...  \n",
       "553          100        4.28      CA  1593893129  \n",
       "554           82        4.96      ML  1593893315  \n",
       "555           27        3.46      CN  1593893316  \n",
       "556          100        4.10      DK  1593893316  \n",
       "557           90        3.10      CA  1593893316  \n",
       "\n",
       "[373 rows x 9 columns]"
      ]
     },
     "execution_count": 18,
     "metadata": {},
     "output_type": "execute_result"
    }
   ],
   "source": [
    "# Create Northern and Southern Hemisphere DataFrames\n",
    "northerndf = cityweather_df[cityweather_df['Latitude'] > 0]\n",
    "southerndf = cityweather_df[cityweather_df['Latitude'] < 0]\n",
    "northerndf"
   ]
  },
  {
   "cell_type": "markdown",
   "metadata": {},
   "source": [
    "####  Northern Hemisphere - Max Temp vs. Latitude Linear Regression"
   ]
  },
  {
   "cell_type": "code",
   "execution_count": 19,
   "metadata": {
    "scrolled": true
   },
   "outputs": [
    {
     "name": "stderr",
     "output_type": "stream",
     "text": [
      "No handles with labels found to put in legend.\n"
     ]
    },
    {
     "name": "stdout",
     "output_type": "stream",
     "text": [
      "slope: -0.302338    intercept: 307.080102\n",
      "R-squared: 0.514009\n",
      "R-squared: 0.514009\n"
     ]
    },
    {
     "data": {
      "image/png": "[encoded data removed]",
      "text/plain": [
       "<Figure size 432x288 with 1 Axes>"
      ]
     },
     "metadata": {
      "needs_background": "light"
     },
     "output_type": "display_data"
    },
    {
     "name": "stdout",
     "output_type": "stream",
     "text": [
      "This plot shows the relationship between degrees in Kelvin and the latitude. The temperature is clearly higher toward the equator.\n"
     ]
    },
    {
     "data": {
      "text/plain": [
       "<Figure size 432x288 with 0 Axes>"
      ]
     },
     "metadata": {},
     "output_type": "display_data"
    }
   ],
   "source": [
    "northernmaxtemp = northerndf['Maximum Temperature']\n",
    "northernlat = northerndf[\"Latitude\"]\n",
    "slope, intercept, r_value, p_value, std_err = linregress(northernlat, northernmaxtemp)\n",
    "print(\"slope: %f    intercept: %f\" % (slope, intercept))\n",
    "print(\"R-squared: %f\" % r_value**2)\n",
    "plt.plot(northernlat, northernmaxtemp, \"*\")\n",
    "plt.plot(northernlat, intercept + slope*northernlat, \"r\")\n",
    "plt.title(\"Northern Hemisphere - Max Temp vs. Latitude Linear Regression\")\n",
    "plt.xlabel(\"Latitude\")\n",
    "plt.ylabel(\"Max Temp\")\n",
    "plt.legend()\n",
    "print(\"R-squared: %f\" % r_value**2)\n",
    "line_eq = \"y = \" + str(round(slope,2)) + \"x + \" + str(round(intercept,2))\n",
    "plt.annotate(line_eq,(10,30),fontsize=15,color=\"red\")\n",
    "plt.show()\n",
    "plt.savefig(\"NtempvsLLR.png\")\n",
    "print('This plot shows the relationship between degrees in Kelvin and the latitude. The temperature is clearly higher toward the equator.')"
   ]
  },
  {
   "cell_type": "markdown",
   "metadata": {},
   "source": [
    "####  Southern Hemisphere - Max Temp vs. Latitude Linear Regression"
   ]
  },
  {
   "cell_type": "code",
   "execution_count": 20,
   "metadata": {},
   "outputs": [
    {
     "name": "stderr",
     "output_type": "stream",
     "text": [
      "No handles with labels found to put in legend.\n"
     ]
    },
    {
     "name": "stdout",
     "output_type": "stream",
     "text": [
      "slope: 0.434837    intercept: 300.599634\n",
      "R-squared: 0.603832\n",
      "R-squared: 0.603832\n"
     ]
    },
    {
     "data": {
      "image/png": "[encoded data removed]",
      "text/plain": [
       "<Figure size 432x288 with 1 Axes>"
      ]
     },
     "metadata": {
      "needs_background": "light"
     },
     "output_type": "display_data"
    },
    {
     "name": "stdout",
     "output_type": "stream",
     "text": [
      "This graph reflects the temperature in Kelvin in relation to latitudes. This parallels the previous chart and shows that the temperature raises when you get closer to the equator.\n"
     ]
    },
    {
     "data": {
      "text/plain": [
       "<Figure size 432x288 with 0 Axes>"
      ]
     },
     "metadata": {},
     "output_type": "display_data"
    }
   ],
   "source": [
    "southernmaxtemp = southerndf['Maximum Temperature']\n",
    "southernlat = southerndf['Latitude']\n",
    "slope, intercept, r_value, p_value, std_err = linregress(southernlat, southernmaxtemp)\n",
    "print(\"slope: %f    intercept: %f\" % (slope, intercept))\n",
    "print(\"R-squared: %f\" % r_value**2)\n",
    "plt.plot(southernlat, southernmaxtemp, \"*\")\n",
    "plt.plot(southernlat, intercept + slope*southernlat, \"r\")\n",
    "plt.title(\"Southern Hemisphere - Max Temp vs. Latitude Linear Regression\")\n",
    "plt.xlabel(\"Latitude\")\n",
    "plt.ylabel(\"Max Temp\")\n",
    "plt.legend()\n",
    "print(\"R-squared: %f\" % r_value**2)\n",
    "line_eq = \"y = \" + str(round(slope,2)) + \"x + \" + str(round(intercept,2))\n",
    "plt.annotate(line_eq,(10,30),fontsize=15,color=\"red\")\n",
    "plt.show()\n",
    "plt.savefig(\"StempvsLLR.png\")\n",
    "print('This graph reflects the temperature in Kelvin in relation to latitudes. This parallels the previous chart and shows that the temperature raises when you get closer to the equator.')"
   ]
  },
  {
   "cell_type": "markdown",
   "metadata": {},
   "source": [
    "####  Northern Hemisphere - Humidity (%) vs. Latitude Linear Regression"
   ]
  },
  {
   "cell_type": "code",
   "execution_count": 21,
   "metadata": {},
   "outputs": [
    {
     "name": "stdout",
     "output_type": "stream",
     "text": [
      "slope: 0.036023    intercept: 37.762538\n",
      "R-squared: 0.001697\n"
     ]
    },
    {
     "name": "stderr",
     "output_type": "stream",
     "text": [
      "No handles with labels found to put in legend.\n"
     ]
    },
    {
     "name": "stdout",
     "output_type": "stream",
     "text": [
      "R-squared: 0.001697\n"
     ]
    },
    {
     "data": {
      "image/png": "[encoded data removed]",
      "text/plain": [
       "<Figure size 432x288 with 1 Axes>"
      ]
     },
     "metadata": {
      "needs_background": "light"
     },
     "output_type": "display_data"
    },
    {
     "name": "stdout",
     "output_type": "stream",
     "text": [
      "This plot shows relationship between humidity and latitude in the Northern Hemisphere. I dont think there is a clear trend.\n"
     ]
    },
    {
     "data": {
      "text/plain": [
       "<Figure size 432x288 with 0 Axes>"
      ]
     },
     "metadata": {},
     "output_type": "display_data"
    }
   ],
   "source": [
    "northernhumidity = northerndf['Humidity']\n",
    "northernlat = northerndf['Latitude']\n",
    "slope, intercept, r_value, p_value, std_err = linregress(northernhumidity, northernlat)\n",
    "print(\"slope: %f    intercept: %f\" % (slope, intercept))\n",
    "print(\"R-squared: %f\" % r_value**2)\n",
    "plt.plot(northernhumidity, northernlat, \"*\")\n",
    "plt.plot(northernlat, intercept + slope*northernlat, \"r\")\n",
    "plt.title(\"Northern Hemisphere - Humidity (%) vs. Latitude Linear Regression\")\n",
    "plt.xlabel(\"Humidity\")\n",
    "plt.ylabel(\"Latitude Linear Regression\")\n",
    "plt.legend()\n",
    "print(\"R-squared: %f\" % r_value**2)\n",
    "line_eq = \"y = \" + str(round(slope,2)) + \"x + \" + str(round(intercept,2))\n",
    "plt.annotate(line_eq,(10,30),fontsize=15,color=\"red\")\n",
    "plt.show()\n",
    "plt.savefig(\"NHumidvsLLR.png\")\n",
    "print('This plot shows relationship between humidity and latitude in the Northern Hemisphere. I dont think there is a clear trend.')"
   ]
  },
  {
   "cell_type": "markdown",
   "metadata": {},
   "source": [
    "####  Southern Hemisphere - Humidity (%) vs. Latitude Linear Regression"
   ]
  },
  {
   "cell_type": "code",
   "execution_count": 22,
   "metadata": {},
   "outputs": [
    {
     "name": "stderr",
     "output_type": "stream",
     "text": [
      "No handles with labels found to put in legend.\n"
     ]
    },
    {
     "name": "stdout",
     "output_type": "stream",
     "text": [
      "slope: -0.070336    intercept: -16.698433\n",
      "R-squared: 0.008635\n",
      "R-squared: 0.008635\n"
     ]
    },
    {
     "data": {
      "image/png": "[encoded data removed]",
      "text/plain": [
       "<Figure size 432x288 with 1 Axes>"
      ]
     },
     "metadata": {
      "needs_background": "light"
     },
     "output_type": "display_data"
    },
    {
     "name": "stdout",
     "output_type": "stream",
     "text": [
      "This plot shows relationship between humidity and latitude in the Southern Hemisphere. I dont think there is a clear trend.\n"
     ]
    },
    {
     "data": {
      "text/plain": [
       "<Figure size 432x288 with 0 Axes>"
      ]
     },
     "metadata": {},
     "output_type": "display_data"
    }
   ],
   "source": [
    "southernhumidity = southerndf['Humidity']\n",
    "southernlat = southerndf['Latitude']\n",
    "slope, intercept, r_value, p_value, std_err = linregress(southernhumidity, southernlat)\n",
    "print(\"slope: %f    intercept: %f\" % (slope, intercept))\n",
    "print(\"R-squared: %f\" % r_value**2)\n",
    "plt.plot(southernhumidity, southernlat, \"*\")\n",
    "plt.plot(southernlat, intercept + slope*southernlat, \"r\")\n",
    "plt.title(\"Southern Hemisphere - Humidity (%) vs. Latitude Linear Regression\")\n",
    "plt.xlabel(\"Humidity\")\n",
    "plt.ylabel(\"Latitude Linear Regression\")\n",
    "plt.legend()\n",
    "print(\"R-squared: %f\" % r_value**2)\n",
    "line_eq = \"y = \" + str(round(slope,2)) + \"x + \" + str(round(intercept,2))\n",
    "plt.annotate(line_eq,(10,30),fontsize=15,color=\"red\")\n",
    "plt.show()\n",
    "plt.savefig(\"ShumidvsLLR.png\")\n",
    "print('This plot shows relationship between humidity and latitude in the Southern Hemisphere. I dont think there is a clear trend.')"
   ]
  },
  {
   "cell_type": "markdown",
   "metadata": {},
   "source": [
    "####  Northern Hemisphere - Cloudiness (%) vs. Latitude Linear Regression"
   ]
  },
  {
   "cell_type": "code",
   "execution_count": 23,
   "metadata": {},
   "outputs": [
    {
     "name": "stderr",
     "output_type": "stream",
     "text": [
      "No handles with labels found to put in legend.\n"
     ]
    },
    {
     "name": "stdout",
     "output_type": "stream",
     "text": [
      "slope: 0.000578    intercept: 40.115674\n",
      "R-squared: 0.000001\n",
      "R-squared: 0.000001\n"
     ]
    },
    {
     "data": {
      "image/png": "[encoded data removed]",
      "text/plain": [
       "<Figure size 432x288 with 1 Axes>"
      ]
     },
     "metadata": {
      "needs_background": "light"
     },
     "output_type": "display_data"
    },
    {
     "name": "stdout",
     "output_type": "stream",
     "text": [
      "This plot shows relationship between cloudiness and latitude in the Northern Hemisphere. This looks like another one without a clear trend.\n"
     ]
    },
    {
     "data": {
      "text/plain": [
       "<Figure size 432x288 with 0 Axes>"
      ]
     },
     "metadata": {},
     "output_type": "display_data"
    }
   ],
   "source": [
    "northerncloudiness = northerndf['Cloud Cover']\n",
    "northernlat = northerndf['Latitude']\n",
    "slope, intercept, r_value, p_value, std_err = linregress(northerncloudiness, northernlat)\n",
    "print(\"slope: %f    intercept: %f\" % (slope, intercept))\n",
    "print(\"R-squared: %f\" % r_value**2)\n",
    "plt.plot(northerncloudiness, northernlat, \"*\")\n",
    "plt.plot(northernlat, intercept + slope*northernlat, \"r\")\n",
    "plt.title(\"Northern Hemisphere - Cloudiness (%) vs. Latitude Linear Regression\")\n",
    "plt.xlabel(\"Cloudiness\")\n",
    "plt.ylabel(\"Latitude Linear Regression\")\n",
    "plt.legend()\n",
    "print(\"R-squared: %f\" % r_value**2)\n",
    "line_eq = \"y = \" + str(round(slope,2)) + \"x + \" + str(round(intercept,2))\n",
    "plt.annotate(line_eq,(10,30),fontsize=15,color=\"red\")\n",
    "plt.show()\n",
    "plt.savefig(\"NcloudvsLLR.png\")\n",
    "print('This plot shows relationship between cloudiness and latitude in the Northern Hemisphere. This looks like another one without a clear trend.')"
   ]
  },
  {
   "cell_type": "markdown",
   "metadata": {},
   "source": [
    "####  Southern Hemisphere - Cloudiness (%) vs. Latitude Linear Regression"
   ]
  },
  {
   "cell_type": "code",
   "execution_count": 24,
   "metadata": {},
   "outputs": [
    {
     "name": "stdout",
     "output_type": "stream",
     "text": [
      "slope: -0.062029    intercept: -18.806178\n",
      "R-squared: 0.034011\n"
     ]
    },
    {
     "name": "stderr",
     "output_type": "stream",
     "text": [
      "No handles with labels found to put in legend.\n"
     ]
    },
    {
     "name": "stdout",
     "output_type": "stream",
     "text": [
      "R-squared: 0.034011\n"
     ]
    },
    {
     "data": {
      "image/png": "[encoded data removed]",
      "text/plain": [
       "<Figure size 432x288 with 1 Axes>"
      ]
     },
     "metadata": {
      "needs_background": "light"
     },
     "output_type": "display_data"
    },
    {
     "name": "stdout",
     "output_type": "stream",
     "text": [
      "This plot shows relationship between cloudiness and latitude in the Southern Hemisphere. This looks like another one without a clear trend.\n"
     ]
    },
    {
     "data": {
      "text/plain": [
       "<Figure size 432x288 with 0 Axes>"
      ]
     },
     "metadata": {},
     "output_type": "display_data"
    }
   ],
   "source": [
    "southerncloudiness = southerndf['Cloud Cover']\n",
    "southernlat = southerndf['Latitude']\n",
    "slope, intercept, r_value, p_value, std_err = linregress(southerncloudiness, southernlat)\n",
    "print(\"slope: %f    intercept: %f\" % (slope, intercept))\n",
    "print(\"R-squared: %f\" % r_value**2)\n",
    "plt.plot(southerncloudiness, southernlat, \"*\")\n",
    "plt.plot(southernlat, intercept + slope*southernlat, \"r\")\n",
    "plt.title(\"Southern Hemisphere - Cloudiness (%) vs. Latitude Linear Regression\")\n",
    "plt.xlabel(\"Cloudiness\")\n",
    "plt.ylabel(\"Latitude Linear Regression\")\n",
    "plt.legend()\n",
    "print(\"R-squared: %f\" % r_value**2)\n",
    "line_eq = \"y = \" + str(round(slope,2)) + \"x + \" + str(round(intercept,2))\n",
    "plt.annotate(line_eq,(10,30),fontsize=15,color=\"red\")\n",
    "plt.show()\n",
    "plt.savefig(\"SCloudvsLLR.png\")\n",
    "print('This plot shows relationship between cloudiness and latitude in the Southern Hemisphere. This looks like another one without a clear trend.')"
   ]
  },
  {
   "cell_type": "markdown",
   "metadata": {},
   "source": [
    "####  Northern Hemisphere - Wind Speed (mph) vs. Latitude Linear Regression"
   ]
  },
  {
   "cell_type": "code",
   "execution_count": 25,
   "metadata": {},
   "outputs": [
    {
     "name": "stdout",
     "output_type": "stream",
     "text": [
      "slope: -0.804233    intercept: 43.032763\n",
      "R-squared: 0.007118\n"
     ]
    },
    {
     "name": "stderr",
     "output_type": "stream",
     "text": [
      "No handles with labels found to put in legend.\n"
     ]
    },
    {
     "name": "stdout",
     "output_type": "stream",
     "text": [
      "R-squared: 0.007118\n"
     ]
    },
    {
     "data": {
      "image/png": "[encoded data removed]",
      "text/plain": [
       "<Figure size 432x288 with 1 Axes>"
      ]
     },
     "metadata": {
      "needs_background": "light"
     },
     "output_type": "display_data"
    },
    {
     "name": "stdout",
     "output_type": "stream",
     "text": [
      "This plot shows relationship between wind speed and latitude in the Northern Hemisphere. Definitely seems to trend to be windier toward the equator.\n"
     ]
    },
    {
     "data": {
      "text/plain": [
       "<Figure size 432x288 with 0 Axes>"
      ]
     },
     "metadata": {},
     "output_type": "display_data"
    }
   ],
   "source": [
    "northwindspeed = northerndf['Wind Speed']\n",
    "northernlat = northerndf['Latitude']\n",
    "slope, intercept, r_value, p_value, std_err = linregress(northwindspeed, northernlat)\n",
    "print(\"slope: %f    intercept: %f\" % (slope, intercept))\n",
    "print(\"R-squared: %f\" % r_value**2)\n",
    "plt.plot(northwindspeed, northernlat, \"*\")\n",
    "plt.plot(northernlat, intercept + slope*northernlat, \"r\")\n",
    "plt.title(\"Northern Hemisphere - Wind Speed (mph) vs. Latitude Linear Regression\")\n",
    "plt.xlabel(\"Wind Speed\")\n",
    "plt.ylabel(\"Latitude Linear Regression\")\n",
    "plt.legend()\n",
    "print(\"R-squared: %f\" % r_value**2)\n",
    "line_eq = \"y = \" + str(round(slope,2)) + \"x + \" + str(round(intercept,2))\n",
    "plt.annotate(line_eq,(10,30),fontsize=15,color=\"red\")\n",
    "plt.show()\n",
    "plt.savefig(\"NWindvsLLR.png\")\n",
    "print('This plot shows relationship between wind speed and latitude in the Northern Hemisphere. Definitely seems to trend to be windier toward the equator.')"
   ]
  },
  {
   "cell_type": "markdown",
   "metadata": {},
   "source": [
    "####  Southern Hemisphere - Wind Speed (mph) vs. Latitude Linear Regression"
   ]
  },
  {
   "cell_type": "code",
   "execution_count": 26,
   "metadata": {},
   "outputs": [
    {
     "name": "stderr",
     "output_type": "stream",
     "text": [
      "No handles with labels found to put in legend.\n"
     ]
    },
    {
     "name": "stdout",
     "output_type": "stream",
     "text": [
      "slope: -0.162904    intercept: -21.170241\n",
      "R-squared: 0.000742\n",
      "R-squared: 0.000742\n"
     ]
    },
    {
     "data": {
      "image/png": "[encoded data removed]",
      "text/plain": [
       "<Figure size 432x288 with 1 Axes>"
      ]
     },
     "metadata": {
      "needs_background": "light"
     },
     "output_type": "display_data"
    },
    {
     "name": "stdout",
     "output_type": "stream",
     "text": [
      "This plot shows relationship between wind speed and latitude in the Southern Hemisphere. Definitely seems to trend to be windier toward the equator.\n"
     ]
    },
    {
     "data": {
      "text/plain": [
       "<Figure size 432x288 with 0 Axes>"
      ]
     },
     "metadata": {},
     "output_type": "display_data"
    }
   ],
   "source": [
    "southwindspeed = southerndf['Wind Speed']\n",
    "southernlat = southerndf['Latitude']\n",
    "slope, intercept, r_value, p_value, std_err = linregress(southwindspeed, southernlat)\n",
    "print(\"slope: %f    intercept: %f\" % (slope, intercept))\n",
    "print(\"R-squared: %f\" % r_value**2)\n",
    "plt.plot(southwindspeed, southernlat, \"*\")\n",
    "plt.plot(southernlat, intercept + slope*southernlat, \"r\")\n",
    "plt.title(\"Southern Hemisphere - Wind Speed (mph) vs. Latitude Linear Regression\")\n",
    "plt.xlabel(\"Wind Speed\")\n",
    "plt.ylabel(\"Latitude Linear Regression\")\n",
    "plt.legend()\n",
    "print(\"R-squared: %f\" % r_value**2)\n",
    "line_eq = \"y = \" + str(round(slope,2)) + \"x + \" + str(round(intercept,2))\n",
    "plt.annotate(line_eq,(10,30),fontsize=15,color=\"red\")\n",
    "plt.show()\n",
    "plt.savefig(\"SWindvsLLR.png\")\n",
    "print('This plot shows relationship between wind speed and latitude in the Southern Hemisphere. Definitely seems to trend to be windier toward the equator.')"
   ]
  },
  {
   "cell_type": "code",
   "execution_count": null,
   "metadata": {},
   "outputs": [],
   "source": []
  }
 ],
 "metadata": {
  "anaconda-cloud": {},
  "kernel_info": {
   "name": "python3"
  },
  "kernelspec": {
   "display_name": "Python 3",
   "language": "python",
   "name": "python3"
  },
  "language_info": {
   "codemirror_mode": {
    "name": "ipython",
    "version": 3
   },
   "file_extension": ".py",
   "mimetype": "text/x-python",
   "name": "python",
   "nbconvert_exporter": "python",
   "pygments_lexer": "ipython3",
   "version": "3.7.6"
  },
  "latex_envs": {
   "LaTeX_envs_menu_present": true,
   "autoclose": false,
   "autocomplete": true,
   "bibliofile": "biblio.bib",
   "cite_by": "apalike",
   "current_citInitial": 1,
   "eqLabelWithNumbers": true,
   "eqNumInitial": 1,
   "hotkeys": {
    "equation": "Ctrl-E",
    "itemize": "Ctrl-I"
   },
   "labels_anchors": false,
   "latex_user_defs": false,
   "report_style_numbering": false,
   "user_envs_cfg": false
  },
  "nteract": {
   "version": "0.12.3"
  }
 },
 "nbformat": 4,
 "nbformat_minor": 2
}
