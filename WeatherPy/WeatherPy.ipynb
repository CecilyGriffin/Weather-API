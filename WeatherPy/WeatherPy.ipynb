{
 "cells": [
  {
   "cell_type": "markdown",
   "metadata": {},
   "source": [
    "# WeatherPy\n",
    "----\n",
    "\n",
    "#### Note\n",
    "* Instructions have been included for each segment. You do not have to follow them exactly, but they are included to help you think through the steps."
   ]
  },
  {
   "cell_type": "code",
   "execution_count": 29,
   "metadata": {
    "scrolled": true
   },
   "outputs": [],
   "source": [
    " # Dependencies and Setup\n",
    "import matplotlib.pyplot as plt\n",
    "import pandas as pd\n",
    "import numpy as np\n",
    "import requests\n",
    "import time\n",
    "from scipy.stats import linregress\n",
    "\n",
    "# Import API key\n",
    "from api_keys import weather_api_key\n",
    "\n",
    "# Incorporated citipy to determine city based on latitude and longitude\n",
    "from citipy import citipy\n",
    "\n",
    "# Output File (CSV)\n",
    "output_data_file = \"output_data/cities.csv\"\n",
    "\n",
    "# Range of latitudes and longitudes\n",
    "lat_range = (-90, 90)\n",
    "lng_range = (-180, 180)"
   ]
  },
  {
   "cell_type": "markdown",
   "metadata": {},
   "source": [
    "## Generate Cities List"
   ]
  },
  {
   "cell_type": "code",
   "execution_count": 30,
   "metadata": {},
   "outputs": [
    {
     "data": {
      "text/plain": [
       "613"
      ]
     },
     "execution_count": 30,
     "metadata": {},
     "output_type": "execute_result"
    }
   ],
   "source": [
    "# List for holding lat_lngs and cities\n",
    "lat_lngs = []\n",
    "cities = []\n",
    "\n",
    "# Create a set of random lat and lng combinations\n",
    "lats = np.random.uniform(lat_range[0], lat_range[1], size=1500)\n",
    "lngs = np.random.uniform(lng_range[0], lng_range[1], size=1500)\n",
    "lat_lngs = zip(lats, lngs)\n",
    "\n",
    "# Identify nearest city for each lat, lng combination\n",
    "for lat_lng in lat_lngs:\n",
    "    city = citipy.nearest_city(lat_lng[0], lat_lng[1]).city_name\n",
    "    \n",
    "    # If the city is unique, then add it to a our cities list\n",
    "    if city not in cities:\n",
    "        cities.append(city)\n",
    "\n",
    "# Print the city count to confirm sufficient count\n",
    "len(cities)"
   ]
  },
  {
   "cell_type": "markdown",
   "metadata": {},
   "source": [
    "### Perform API Calls\n",
    "* Perform a weather check on each city using a series of successive API calls.\n",
    "* Include a print log of each city as it'sbeing processed (with the city number and city name).\n"
   ]
  },
  {
   "cell_type": "code",
   "execution_count": 31,
   "metadata": {},
   "outputs": [
    {
     "data": {
      "text/plain": [
       "{'coord': {'lon': -155.09, 'lat': 19.73},\n",
       " 'weather': [{'id': 802,\n",
       "   'main': 'Clouds',\n",
       "   'description': 'scattered clouds',\n",
       "   'icon': '03d'}],\n",
       " 'base': 'stations',\n",
       " 'main': {'temp': 297.74,\n",
       "  'feels_like': 297.83,\n",
       "  'temp_min': 295.37,\n",
       "  'temp_max': 301.15,\n",
       "  'pressure': 1018,\n",
       "  'humidity': 65},\n",
       " 'visibility': 16093,\n",
       " 'wind': {'speed': 3.6, 'deg': 140},\n",
       " 'clouds': {'all': 40},\n",
       " 'dt': 1593976569,\n",
       " 'sys': {'type': 1,\n",
       "  'id': 7881,\n",
       "  'country': 'US',\n",
       "  'sunrise': 1593963990,\n",
       "  'sunset': 1594011796},\n",
       " 'timezone': -36000,\n",
       " 'id': 5855927,\n",
       " 'name': 'Hilo',\n",
       " 'cod': 200}"
      ]
     },
     "execution_count": 31,
     "metadata": {},
     "output_type": "execute_result"
    }
   ],
   "source": [
    "import requests\n",
    "\n",
    "url = f'http://api.openweathermap.org/data/2.5/weather?q={city}&appid={weather_api_key}'\n",
    "replaceUrl = url.replace(\" \", \"%20\")\n",
    "city_weather = requests.get(replaceUrl).json()\n",
    "city_weather"
   ]
  },
  {
   "cell_type": "code",
   "execution_count": 32,
   "metadata": {},
   "outputs": [
    {
     "name": "stdout",
     "output_type": "stream",
     "text": [
      "Beginning Data Retrieval\n",
      "~~~~~~~~~~~~~~~~~~~~~~~~\n",
      "Processing Record 1 of Set 1 | seymchan\n",
      "Processing Record 2 of Set 1 | busselton\n",
      "Processing Record 3 of Set 1 | hobart\n",
      "Processing Record 4 of Set 1 | ushuaia\n",
      "Processing Record 5 of Set 1 | punta arenas\n",
      "Processing Record 6 of Set 1 | silopi\n",
      "Processing Record 7 of Set 1 | angoche\n",
      "Processing Record 8 of Set 1 | la cruz\n",
      "Processing Record 9 of Set 1 | rikitea\n",
      "Processing Record 10 of Set 1 | bambanglipuro\n",
      "Processing Record 11 of Set 1 | puerto ayora\n",
      "Processing Record 12 of Set 1 | wonosari\n",
      "Processing Record 13 of Set 1 | mishan\n",
      "Processing Record 14 of Set 1 | san cristobal\n",
      "Processing Record 15 of Set 1 | kapaa\n",
      "Skipping... City not found\n",
      "Processing Record 16 of Set 1 | kutum\n",
      "Processing Record 17 of Set 1 | cordoba\n",
      "Processing Record 18 of Set 1 | kaitangata\n",
      "Processing Record 19 of Set 1 | tezu\n",
      "Processing Record 20 of Set 1 | trairi\n",
      "Processing Record 21 of Set 1 | port alfred\n",
      "Processing Record 22 of Set 1 | san andres\n",
      "Processing Record 23 of Set 1 | inhambane\n",
      "Skipping... City not found\n",
      "Processing Record 24 of Set 1 | bara\n",
      "Processing Record 25 of Set 1 | port elizabeth\n",
      "Processing Record 26 of Set 1 | butaritari\n",
      "Skipping... City not found\n",
      "Processing Record 27 of Set 1 | valreas\n",
      "Processing Record 28 of Set 1 | balikpapan\n",
      "Processing Record 29 of Set 1 | laguna\n",
      "Processing Record 30 of Set 1 | smiths falls\n",
      "Processing Record 31 of Set 1 | cape town\n",
      "Processing Record 32 of Set 1 | hermanus\n",
      "Processing Record 33 of Set 1 | shimoda\n",
      "Processing Record 34 of Set 1 | coihaique\n",
      "Processing Record 35 of Set 1 | bambous virieux\n",
      "Processing Record 36 of Set 1 | norman wells\n",
      "Processing Record 37 of Set 1 | mataura\n",
      "Processing Record 38 of Set 1 | noyabrsk\n",
      "Processing Record 39 of Set 1 | shingu\n",
      "Processing Record 40 of Set 1 | saint-augustin\n",
      "Processing Record 41 of Set 1 | sao geraldo do araguaia\n",
      "Processing Record 42 of Set 1 | husavik\n",
      "Processing Record 43 of Set 1 | arraial do cabo\n",
      "Processing Record 44 of Set 1 | bredasdorp\n",
      "Processing Record 45 of Set 1 | tayu\n",
      "Processing Record 46 of Set 1 | kahului\n",
      "Processing Record 47 of Set 1 | altamira\n",
      "Processing Record 0 of Set 2 | nha trang\n",
      "Processing Record 1 of Set 2 | ponta delgada\n",
      "Processing Record 2 of Set 2 | atuona\n",
      "Skipping... City not found\n",
      "Skipping... City not found\n",
      "Processing Record 3 of Set 2 | pacific grove\n",
      "Processing Record 4 of Set 2 | tuktoyaktuk\n",
      "Processing Record 5 of Set 2 | suixi\n",
      "Skipping... City not found\n",
      "Processing Record 6 of Set 2 | imbituba\n",
      "Processing Record 7 of Set 2 | esperance\n",
      "Processing Record 8 of Set 2 | ola\n",
      "Processing Record 9 of Set 2 | saskylakh\n",
      "Processing Record 10 of Set 2 | caucaia\n",
      "Processing Record 11 of Set 2 | carpenedolo\n",
      "Processing Record 12 of Set 2 | palu\n",
      "Processing Record 13 of Set 2 | blagoyevo\n",
      "Skipping... City not found\n",
      "Processing Record 14 of Set 2 | thompson\n",
      "Processing Record 15 of Set 2 | dumas\n",
      "Processing Record 16 of Set 2 | solnechnyy\n",
      "Processing Record 17 of Set 2 | cabo san lucas\n",
      "Processing Record 18 of Set 2 | nikolskoye\n",
      "Processing Record 19 of Set 2 | ilulissat\n",
      "Processing Record 20 of Set 2 | amahai\n",
      "Processing Record 21 of Set 2 | dafeng\n",
      "Skipping... City not found\n",
      "Processing Record 22 of Set 2 | muros\n",
      "Processing Record 23 of Set 2 | kuminskiy\n",
      "Processing Record 24 of Set 2 | san patricio\n",
      "Processing Record 25 of Set 2 | qaanaaq\n",
      "Processing Record 26 of Set 2 | celestun\n",
      "Skipping... City not found\n",
      "Processing Record 27 of Set 2 | komsomolskiy\n",
      "Processing Record 28 of Set 2 | barbosa\n",
      "Processing Record 29 of Set 2 | northam\n",
      "Processing Record 30 of Set 2 | havre-saint-pierre\n",
      "Processing Record 31 of Set 2 | faanui\n",
      "Processing Record 32 of Set 2 | mindelo\n",
      "Processing Record 33 of Set 2 | goderich\n",
      "Processing Record 34 of Set 2 | naze\n",
      "Processing Record 35 of Set 2 | kapit\n",
      "Processing Record 36 of Set 2 | castro\n",
      "Processing Record 37 of Set 2 | kirando\n",
      "Processing Record 38 of Set 2 | hasaki\n",
      "Processing Record 39 of Set 2 | saint-philippe\n",
      "Processing Record 40 of Set 2 | carnarvon\n",
      "Processing Record 41 of Set 2 | nautla\n",
      "Processing Record 42 of Set 2 | juazeiro\n",
      "Processing Record 43 of Set 2 | robertsport\n",
      "Processing Record 0 of Set 3 | longyearbyen\n",
      "Processing Record 1 of Set 3 | zhezkazgan\n",
      "Processing Record 2 of Set 3 | tazovskiy\n",
      "Processing Record 3 of Set 3 | lompoc\n",
      "Processing Record 4 of Set 3 | dikson\n",
      "Skipping... City not found\n",
      "Processing Record 5 of Set 3 | georgetown\n",
      "Processing Record 6 of Set 3 | hithadhoo\n",
      "Processing Record 7 of Set 3 | abonnema\n",
      "Processing Record 8 of Set 3 | honiara\n",
      "Skipping... City not found\n",
      "Processing Record 9 of Set 3 | banda aceh\n",
      "Processing Record 10 of Set 3 | albany\n",
      "Processing Record 11 of Set 3 | glendive\n",
      "Processing Record 12 of Set 3 | maputo\n",
      "Processing Record 13 of Set 3 | katherine\n",
      "Processing Record 14 of Set 3 | bluff\n",
      "Processing Record 15 of Set 3 | shubarshi\n",
      "Processing Record 16 of Set 3 | provideniya\n",
      "Processing Record 17 of Set 3 | jamestown\n",
      "Processing Record 18 of Set 3 | beringovskiy\n",
      "Processing Record 19 of Set 3 | malamig\n",
      "Processing Record 20 of Set 3 | saint-pierre\n",
      "Processing Record 21 of Set 3 | vila velha\n",
      "Processing Record 22 of Set 3 | newport\n",
      "Processing Record 23 of Set 3 | ribeira grande\n",
      "Processing Record 24 of Set 3 | east millcreek\n",
      "Processing Record 25 of Set 3 | iqaluit\n",
      "Processing Record 26 of Set 3 | ban dung\n",
      "Processing Record 27 of Set 3 | port hardy\n",
      "Processing Record 28 of Set 3 | geraldton\n",
      "Processing Record 29 of Set 3 | aklavik\n",
      "Processing Record 30 of Set 3 | acarau\n",
      "Processing Record 31 of Set 3 | springdale\n",
      "Processing Record 32 of Set 3 | mareeba\n",
      "Processing Record 33 of Set 3 | buchanan\n",
      "Processing Record 34 of Set 3 | qui nhon\n",
      "Processing Record 35 of Set 3 | tasiilaq\n",
      "Processing Record 36 of Set 3 | khatanga\n",
      "Skipping... City not found\n",
      "Processing Record 37 of Set 3 | nhulunbuy\n",
      "Processing Record 38 of Set 3 | dosso\n",
      "Processing Record 39 of Set 3 | katsuura\n",
      "Processing Record 40 of Set 3 | haimen\n",
      "Processing Record 41 of Set 3 | vestmannaeyjar\n",
      "Processing Record 42 of Set 3 | kodiak\n",
      "Processing Record 43 of Set 3 | mokrousovo\n",
      "Processing Record 44 of Set 3 | luganville\n",
      "Processing Record 45 of Set 3 | kavieng\n",
      "Processing Record 46 of Set 3 | yellowknife\n",
      "Processing Record 0 of Set 4 | ponta do sol\n",
      "Processing Record 1 of Set 4 | vaini\n",
      "Processing Record 2 of Set 4 | kenora\n",
      "Processing Record 3 of Set 4 | potosi\n",
      "Processing Record 4 of Set 4 | new norfolk\n",
      "Processing Record 5 of Set 4 | upernavik\n",
      "Processing Record 6 of Set 4 | vostok\n",
      "Processing Record 7 of Set 4 | egvekinot\n",
      "Processing Record 8 of Set 4 | victoria\n",
      "Processing Record 9 of Set 4 | zhigansk\n",
      "Processing Record 10 of Set 4 | atar\n",
      "Processing Record 11 of Set 4 | aksha\n",
      "Processing Record 12 of Set 4 | barrow\n",
      "Processing Record 13 of Set 4 | kulu\n",
      "Processing Record 14 of Set 4 | cabedelo\n",
      "Processing Record 15 of Set 4 | shenjiamen\n",
      "Processing Record 16 of Set 4 | mhlume\n",
      "Processing Record 17 of Set 4 | cherskiy\n",
      "Processing Record 18 of Set 4 | ossora\n",
      "Processing Record 19 of Set 4 | avarua\n",
      "Processing Record 20 of Set 4 | severo-kurilsk\n",
      "Processing Record 21 of Set 4 | pevek\n",
      "Processing Record 22 of Set 4 | xining\n",
      "Processing Record 23 of Set 4 | brae\n",
      "Processing Record 24 of Set 4 | roebourne\n",
      "Processing Record 25 of Set 4 | ostersund\n",
      "Skipping... City not found\n",
      "Skipping... City not found\n",
      "Processing Record 26 of Set 4 | lebu\n",
      "Processing Record 27 of Set 4 | oistins\n",
      "Processing Record 28 of Set 4 | bundaberg\n",
      "Processing Record 29 of Set 4 | bulawayo\n",
      "Processing Record 30 of Set 4 | gatton\n",
      "Processing Record 31 of Set 4 | mahebourg\n",
      "Processing Record 32 of Set 4 | yerbogachen\n",
      "Skipping... City not found\n",
      "Processing Record 33 of Set 4 | airai\n",
      "Processing Record 34 of Set 4 | nome\n",
      "Processing Record 35 of Set 4 | bengkulu\n",
      "Processing Record 36 of Set 4 | pandan\n",
      "Processing Record 37 of Set 4 | quatre cocos\n",
      "Processing Record 38 of Set 4 | jacareacanga\n",
      "Processing Record 39 of Set 4 | villa constitucion\n",
      "Processing Record 40 of Set 4 | leningradskiy\n",
      "Processing Record 41 of Set 4 | taybad\n",
      "Processing Record 42 of Set 4 | hervey bay\n",
      "Skipping... City not found\n",
      "Processing Record 43 of Set 4 | knysna\n",
      "Processing Record 44 of Set 4 | mujiayingzi\n",
      "Processing Record 45 of Set 4 | la ronge\n",
      "Processing Record 0 of Set 5 | bo rai\n",
      "Processing Record 1 of Set 5 | mulege\n",
      "Processing Record 2 of Set 5 | tilichiki\n",
      "Processing Record 3 of Set 5 | torbay\n",
      "Processing Record 4 of Set 5 | sfantu gheorghe\n",
      "Processing Record 5 of Set 5 | guerrero negro\n"
     ]
    },
    {
     "name": "stdout",
     "output_type": "stream",
     "text": [
      "Processing Record 6 of Set 5 | tortosa\n",
      "Skipping... City not found\n",
      "Processing Record 7 of Set 5 | faya\n",
      "Processing Record 8 of Set 5 | ankara\n",
      "Processing Record 9 of Set 5 | hilo\n",
      "Processing Record 10 of Set 5 | coquimbo\n",
      "Processing Record 11 of Set 5 | pushkinskiye gory\n",
      "Processing Record 12 of Set 5 | mar del plata\n",
      "Processing Record 13 of Set 5 | snasa\n",
      "Processing Record 14 of Set 5 | antofagasta\n",
      "Processing Record 15 of Set 5 | ancud\n",
      "Processing Record 16 of Set 5 | lamphun\n",
      "Processing Record 17 of Set 5 | santa maria\n",
      "Processing Record 18 of Set 5 | east london\n",
      "Processing Record 19 of Set 5 | kristiansund\n",
      "Processing Record 20 of Set 5 | kruisfontein\n",
      "Processing Record 21 of Set 5 | pisco\n",
      "Processing Record 22 of Set 5 | verkhnevilyuysk\n",
      "Processing Record 23 of Set 5 | tecoanapa\n",
      "Processing Record 24 of Set 5 | pitimbu\n",
      "Processing Record 25 of Set 5 | severnyy\n",
      "Processing Record 26 of Set 5 | cockburn town\n",
      "Processing Record 27 of Set 5 | suruc\n",
      "Processing Record 28 of Set 5 | semypolky\n",
      "Processing Record 29 of Set 5 | fort nelson\n",
      "Processing Record 30 of Set 5 | fortuna\n",
      "Processing Record 31 of Set 5 | hudson bay\n",
      "Processing Record 32 of Set 5 | berlevag\n",
      "Processing Record 33 of Set 5 | tuatapere\n",
      "Processing Record 34 of Set 5 | turki\n",
      "Processing Record 35 of Set 5 | ewa beach\n",
      "Processing Record 36 of Set 5 | vao\n",
      "Processing Record 37 of Set 5 | sibolga\n",
      "Processing Record 38 of Set 5 | bowmore\n",
      "Processing Record 39 of Set 5 | nizhniy kuranakh\n",
      "Processing Record 40 of Set 5 | mecca\n",
      "Processing Record 41 of Set 5 | lasa\n",
      "Processing Record 42 of Set 5 | nuoro\n",
      "Processing Record 43 of Set 5 | nishihara\n",
      "Processing Record 44 of Set 5 | itarema\n",
      "Processing Record 45 of Set 5 | turrialba\n",
      "Processing Record 46 of Set 5 | stonewall\n",
      "Processing Record 47 of Set 5 | taoudenni\n",
      "Processing Record 48 of Set 5 | dingle\n",
      "Processing Record 0 of Set 6 | jerusalen\n",
      "Processing Record 1 of Set 6 | jiaojiang\n",
      "Processing Record 2 of Set 6 | lakes entrance\n",
      "Processing Record 3 of Set 6 | saint-georges\n",
      "Processing Record 4 of Set 6 | fare\n",
      "Processing Record 5 of Set 6 | yining\n",
      "Processing Record 6 of Set 6 | vallenar\n",
      "Processing Record 7 of Set 6 | tres arroyos\n",
      "Processing Record 8 of Set 6 | springfield\n",
      "Processing Record 9 of Set 6 | bokoro\n",
      "Processing Record 10 of Set 6 | tautira\n",
      "Processing Record 11 of Set 6 | cervo\n",
      "Processing Record 12 of Set 6 | margate\n",
      "Processing Record 13 of Set 6 | ous\n",
      "Skipping... City not found\n",
      "Processing Record 14 of Set 6 | san luis obispo\n",
      "Skipping... City not found\n",
      "Processing Record 15 of Set 6 | siverek\n",
      "Processing Record 16 of Set 6 | sao felix do xingu\n",
      "Processing Record 17 of Set 6 | orlik\n",
      "Processing Record 18 of Set 6 | asau\n",
      "Processing Record 19 of Set 6 | clyde river\n",
      "Processing Record 20 of Set 6 | ahuimanu\n",
      "Processing Record 21 of Set 6 | henties bay\n",
      "Processing Record 22 of Set 6 | vardo\n",
      "Processing Record 23 of Set 6 | chuy\n",
      "Processing Record 24 of Set 6 | ust-kalmanka\n",
      "Processing Record 25 of Set 6 | lorengau\n",
      "Processing Record 26 of Set 6 | denizli\n",
      "Processing Record 27 of Set 6 | kamyshlov\n",
      "Skipping... City not found\n",
      "Processing Record 28 of Set 6 | lata\n",
      "Processing Record 29 of Set 6 | fasa\n",
      "Skipping... City not found\n",
      "Processing Record 30 of Set 6 | nakusp\n",
      "Processing Record 31 of Set 6 | dzhebariki-khaya\n",
      "Processing Record 32 of Set 6 | yumen\n",
      "Processing Record 33 of Set 6 | hofn\n",
      "Processing Record 34 of Set 6 | north bend\n",
      "Processing Record 35 of Set 6 | miroslav\n",
      "Processing Record 36 of Set 6 | chokurdakh\n",
      "Processing Record 37 of Set 6 | smithers\n",
      "Processing Record 38 of Set 6 | galveston\n",
      "Skipping... City not found\n",
      "Processing Record 39 of Set 6 | acurenam\n",
      "Processing Record 40 of Set 6 | jiuquan\n",
      "Processing Record 41 of Set 6 | north platte\n",
      "Processing Record 42 of Set 6 | vryburg\n",
      "Skipping... City not found\n",
      "Processing Record 43 of Set 6 | yeppoon\n",
      "Processing Record 0 of Set 7 | lumphat\n",
      "Processing Record 1 of Set 7 | yar-sale\n",
      "Processing Record 2 of Set 7 | kaeo\n",
      "Processing Record 3 of Set 7 | maniitsoq\n",
      "Processing Record 4 of Set 7 | blacksburg\n",
      "Skipping... City not found\n",
      "Processing Record 5 of Set 7 | muroto\n",
      "Processing Record 6 of Set 7 | phek\n",
      "Processing Record 7 of Set 7 | presidencia roque saenz pena\n",
      "Processing Record 8 of Set 7 | kieta\n",
      "Processing Record 9 of Set 7 | mount isa\n",
      "Processing Record 10 of Set 7 | salalah\n",
      "Processing Record 11 of Set 7 | ahipara\n",
      "Skipping... City not found\n",
      "Processing Record 12 of Set 7 | bonfim\n",
      "Processing Record 13 of Set 7 | bulgan\n",
      "Processing Record 14 of Set 7 | iquitos\n",
      "Processing Record 15 of Set 7 | otane\n",
      "Processing Record 16 of Set 7 | vestmanna\n",
      "Processing Record 17 of Set 7 | puerto parra\n",
      "Processing Record 18 of Set 7 | nemuro\n",
      "Processing Record 19 of Set 7 | at-bashi\n",
      "Processing Record 20 of Set 7 | kavaratti\n",
      "Processing Record 21 of Set 7 | huangpi\n",
      "Processing Record 22 of Set 7 | mandera\n",
      "Skipping... City not found\n",
      "Processing Record 23 of Set 7 | tigre\n",
      "Processing Record 24 of Set 7 | pangnirtung\n",
      "Processing Record 25 of Set 7 | beyneu\n",
      "Processing Record 26 of Set 7 | shache\n",
      "Processing Record 27 of Set 7 | kirakira\n",
      "Processing Record 28 of Set 7 | manggar\n",
      "Processing Record 29 of Set 7 | bose\n",
      "Processing Record 30 of Set 7 | charters towers\n",
      "Processing Record 31 of Set 7 | dawlatabad\n",
      "Processing Record 32 of Set 7 | portland\n",
      "Processing Record 33 of Set 7 | fairbanks\n",
      "Processing Record 34 of Set 7 | carnduff\n",
      "Skipping... City not found\n",
      "Processing Record 35 of Set 7 | sitka\n",
      "Processing Record 36 of Set 7 | richards bay\n",
      "Processing Record 37 of Set 7 | saint anthony\n",
      "Processing Record 38 of Set 7 | sainte-adele\n",
      "Processing Record 39 of Set 7 | narsaq\n",
      "Processing Record 40 of Set 7 | rio gallegos\n",
      "Skipping... City not found\n",
      "Processing Record 41 of Set 7 | la baneza\n",
      "Processing Record 42 of Set 7 | kralendijk\n",
      "Processing Record 43 of Set 7 | westport\n",
      "Processing Record 44 of Set 7 | souillac\n",
      "Skipping... City not found\n",
      "Processing Record 0 of Set 8 | mundo nuevo\n",
      "Processing Record 1 of Set 8 | burnie\n",
      "Skipping... City not found\n",
      "Processing Record 2 of Set 8 | hay river\n",
      "Processing Record 3 of Set 8 | saint george\n",
      "Processing Record 4 of Set 8 | humaita\n",
      "Processing Record 5 of Set 8 | katobu\n",
      "Processing Record 6 of Set 8 | asfi\n",
      "Processing Record 7 of Set 8 | dakar\n",
      "Processing Record 8 of Set 8 | broken hill\n",
      "Processing Record 9 of Set 8 | pemberton\n",
      "Processing Record 10 of Set 8 | gamba\n",
      "Processing Record 11 of Set 8 | mocuba\n",
      "Processing Record 12 of Set 8 | fengzhen\n",
      "Processing Record 13 of Set 8 | helong\n",
      "Processing Record 14 of Set 8 | axim\n",
      "Processing Record 15 of Set 8 | miri\n",
      "Processing Record 16 of Set 8 | mariinsk\n",
      "Processing Record 17 of Set 8 | praia da vitoria\n",
      "Processing Record 18 of Set 8 | san carlos\n",
      "Processing Record 19 of Set 8 | porto novo\n",
      "Processing Record 20 of Set 8 | gigmoto\n",
      "Processing Record 21 of Set 8 | toktogul\n",
      "Processing Record 22 of Set 8 | ixtapa\n",
      "Processing Record 23 of Set 8 | nikolayevsk-na-amure\n",
      "Processing Record 24 of Set 8 | salinas\n",
      "Processing Record 25 of Set 8 | brewer\n",
      "Processing Record 26 of Set 8 | kenai\n",
      "Skipping... City not found\n",
      "Processing Record 27 of Set 8 | kailua\n",
      "Processing Record 28 of Set 8 | agogo\n",
      "Processing Record 29 of Set 8 | kijang\n",
      "Processing Record 30 of Set 8 | kindu\n",
      "Processing Record 31 of Set 8 | pringsewu\n",
      "Processing Record 32 of Set 8 | jardim\n",
      "Processing Record 33 of Set 8 | inta\n",
      "Processing Record 34 of Set 8 | manacapuru\n",
      "Processing Record 35 of Set 8 | makakilo city\n",
      "Processing Record 36 of Set 8 | garowe\n",
      "Processing Record 37 of Set 8 | morant bay\n",
      "Processing Record 38 of Set 8 | bethel\n",
      "Processing Record 39 of Set 8 | santa fe\n",
      "Processing Record 40 of Set 8 | mingaora\n",
      "Processing Record 41 of Set 8 | ekhabi\n",
      "Processing Record 42 of Set 8 | arroyo\n",
      "Processing Record 43 of Set 8 | isangel\n",
      "Processing Record 44 of Set 8 | jurm\n",
      "Processing Record 45 of Set 8 | mogok\n",
      "Processing Record 46 of Set 8 | huilong\n",
      "Processing Record 0 of Set 9 | port hedland\n",
      "Skipping... City not found\n",
      "Processing Record 1 of Set 9 | eresos\n",
      "Processing Record 2 of Set 9 | exeter\n",
      "Processing Record 3 of Set 9 | namibe\n",
      "Processing Record 4 of Set 9 | west point\n",
      "Processing Record 5 of Set 9 | poronaysk\n",
      "Processing Record 6 of Set 9 | andros town\n",
      "Processing Record 7 of Set 9 | san ignacio\n",
      "Processing Record 8 of Set 9 | boa vista\n",
      "Processing Record 9 of Set 9 | nantucket\n",
      "Processing Record 10 of Set 9 | thurso\n"
     ]
    },
    {
     "name": "stdout",
     "output_type": "stream",
     "text": [
      "Processing Record 11 of Set 9 | manokwari\n",
      "Processing Record 12 of Set 9 | sur\n",
      "Processing Record 13 of Set 9 | dong hoi\n",
      "Processing Record 14 of Set 9 | wagar\n",
      "Processing Record 15 of Set 9 | udgir\n",
      "Processing Record 16 of Set 9 | constitucion\n",
      "Processing Record 17 of Set 9 | akdepe\n",
      "Processing Record 18 of Set 9 | diplo\n",
      "Processing Record 19 of Set 9 | bairnsdale\n",
      "Processing Record 20 of Set 9 | tocopilla\n",
      "Processing Record 21 of Set 9 | yanam\n",
      "Processing Record 22 of Set 9 | alta floresta\n",
      "Processing Record 23 of Set 9 | klaksvik\n",
      "Processing Record 24 of Set 9 | sao filipe\n",
      "Processing Record 25 of Set 9 | arman\n",
      "Processing Record 26 of Set 9 | kargasok\n",
      "Processing Record 27 of Set 9 | ryabovo\n",
      "Processing Record 28 of Set 9 | nouadhibou\n",
      "Processing Record 29 of Set 9 | kerema\n",
      "Processing Record 30 of Set 9 | banjar\n",
      "Processing Record 31 of Set 9 | ostrovnoy\n",
      "Processing Record 32 of Set 9 | port blair\n",
      "Processing Record 33 of Set 9 | gubkinskiy\n",
      "Processing Record 34 of Set 9 | comodoro rivadavia\n",
      "Processing Record 35 of Set 9 | nichinan\n",
      "Skipping... City not found\n",
      "Processing Record 36 of Set 9 | abu samrah\n",
      "Processing Record 37 of Set 9 | marau\n",
      "Processing Record 38 of Set 9 | parsons\n",
      "Skipping... City not found\n",
      "Processing Record 39 of Set 9 | vila franca do campo\n",
      "Processing Record 40 of Set 9 | ust-maya\n",
      "Processing Record 41 of Set 9 | cuyo\n",
      "Processing Record 42 of Set 9 | vilhena\n",
      "Processing Record 43 of Set 9 | mehamn\n",
      "Processing Record 44 of Set 9 | ardakan\n",
      "Processing Record 45 of Set 9 | la primavera\n",
      "Processing Record 46 of Set 9 | maltahohe\n",
      "Processing Record 0 of Set 10 | frome\n",
      "Processing Record 1 of Set 10 | londiani\n",
      "Processing Record 2 of Set 10 | padang\n",
      "Processing Record 3 of Set 10 | tawang\n",
      "Processing Record 4 of Set 10 | talnakh\n",
      "Processing Record 5 of Set 10 | kirovskiy\n",
      "Processing Record 6 of Set 10 | hambantota\n",
      "Processing Record 7 of Set 10 | palermo\n",
      "Skipping... City not found\n",
      "Processing Record 8 of Set 10 | vaitape\n",
      "Processing Record 9 of Set 10 | tiksi\n",
      "Processing Record 10 of Set 10 | meybod\n",
      "Processing Record 11 of Set 10 | codrington\n",
      "Processing Record 12 of Set 10 | shieli\n",
      "Processing Record 13 of Set 10 | biak\n",
      "Processing Record 14 of Set 10 | meulaboh\n",
      "Processing Record 15 of Set 10 | nanortalik\n",
      "Processing Record 16 of Set 10 | kloulklubed\n",
      "Processing Record 17 of Set 10 | lavrentiya\n",
      "Processing Record 18 of Set 10 | gornopravdinsk\n",
      "Processing Record 19 of Set 10 | abashiri\n",
      "Processing Record 20 of Set 10 | deputatskiy\n",
      "Skipping... City not found\n",
      "Processing Record 21 of Set 10 | hovd\n",
      "Skipping... City not found\n",
      "Processing Record 22 of Set 10 | lewiston\n",
      "Processing Record 23 of Set 10 | alofi\n",
      "Processing Record 24 of Set 10 | dunedin\n",
      "Processing Record 25 of Set 10 | kapoeta\n",
      "Processing Record 26 of Set 10 | tobetsu\n",
      "Processing Record 27 of Set 10 | sarangarh\n",
      "Processing Record 28 of Set 10 | port lincoln\n",
      "Processing Record 29 of Set 10 | muisne\n",
      "Processing Record 30 of Set 10 | calama\n",
      "Processing Record 31 of Set 10 | luderitz\n",
      "Processing Record 32 of Set 10 | fene\n",
      "Processing Record 33 of Set 10 | turayf\n",
      "Processing Record 34 of Set 10 | olafsvik\n",
      "Skipping... City not found\n",
      "Processing Record 35 of Set 10 | kampot\n",
      "Processing Record 36 of Set 10 | tongliao\n",
      "Processing Record 37 of Set 10 | dymer\n",
      "Processing Record 38 of Set 10 | penzance\n",
      "Processing Record 39 of Set 10 | baft\n",
      "Processing Record 40 of Set 10 | pauini\n",
      "Processing Record 41 of Set 10 | sabang\n",
      "Processing Record 42 of Set 10 | port keats\n",
      "Processing Record 43 of Set 10 | miraflores\n",
      "Skipping... City not found\n",
      "Processing Record 44 of Set 10 | novikovo\n",
      "Processing Record 0 of Set 11 | saldanha\n",
      "Skipping... City not found\n",
      "Processing Record 1 of Set 11 | chapais\n",
      "Processing Record 2 of Set 11 | buxton\n",
      "Processing Record 3 of Set 11 | abalak\n",
      "Processing Record 4 of Set 11 | bandarbeyla\n",
      "Processing Record 5 of Set 11 | arlit\n",
      "Processing Record 6 of Set 11 | rybnik\n",
      "Processing Record 7 of Set 11 | yongan\n",
      "Processing Record 8 of Set 11 | kyabram\n",
      "Processing Record 9 of Set 11 | korla\n",
      "Processing Record 10 of Set 11 | gorodishche\n",
      "Processing Record 11 of Set 11 | sinnamary\n",
      "Processing Record 12 of Set 11 | oranjestad\n",
      "Processing Record 13 of Set 11 | chumikan\n",
      "Processing Record 14 of Set 11 | aswan\n",
      "Processing Record 15 of Set 11 | cidreira\n",
      "Processing Record 16 of Set 11 | juan lacaze\n",
      "Processing Record 17 of Set 11 | japura\n",
      "Processing Record 18 of Set 11 | magomeni\n",
      "Processing Record 19 of Set 11 | grand-lahou\n",
      "Processing Record 20 of Set 11 | sabha\n",
      "Processing Record 21 of Set 11 | palmas\n",
      "Processing Record 22 of Set 11 | ginda\n",
      "Processing Record 23 of Set 11 | nhamunda\n",
      "Processing Record 24 of Set 11 | sioux lookout\n",
      "Processing Record 25 of Set 11 | maceio\n",
      "Processing Record 26 of Set 11 | bonthe\n",
      "Processing Record 27 of Set 11 | lagoa\n",
      "Processing Record 28 of Set 11 | skjervoy\n",
      "Skipping... City not found\n",
      "Processing Record 29 of Set 11 | oksfjord\n",
      "Processing Record 30 of Set 11 | wairoa\n",
      "Processing Record 31 of Set 11 | waingapu\n",
      "Processing Record 32 of Set 11 | campbell river\n",
      "Processing Record 33 of Set 11 | ejura\n",
      "Processing Record 34 of Set 11 | atambua\n",
      "Processing Record 35 of Set 11 | gdov\n",
      "Processing Record 36 of Set 11 | kiama\n",
      "Skipping... City not found\n",
      "Processing Record 37 of Set 11 | dombarovskiy\n",
      "Processing Record 38 of Set 11 | killybegs\n",
      "Skipping... City not found\n",
      "Processing Record 39 of Set 11 | sawtell\n",
      "Skipping... City not found\n",
      "Processing Record 40 of Set 11 | casper\n",
      "Processing Record 41 of Set 11 | cap malheureux\n",
      "Processing Record 42 of Set 11 | carauari\n",
      "Processing Record 43 of Set 11 | camacha\n",
      "Skipping... City not found\n",
      "Processing Record 0 of Set 12 | verkhoturye\n",
      "Processing Record 1 of Set 12 | nalut\n",
      "Processing Record 2 of Set 12 | qena\n",
      "Processing Record 3 of Set 12 | hualmay\n",
      "Processing Record 4 of Set 12 | neiafu\n",
      "Processing Record 5 of Set 12 | pavlovka\n",
      "Processing Record 6 of Set 12 | slyudyanka\n",
      "Processing Record 7 of Set 12 | san quintin\n",
      "Processing Record 8 of Set 12 | belaya gora\n",
      "Processing Record 9 of Set 12 | sabzevar\n",
      "Processing Record 10 of Set 12 | pudozh\n",
      "Processing Record 11 of Set 12 | touros\n",
      "Processing Record 12 of Set 12 | torres\n",
      "Skipping... City not found\n",
      "Processing Record 13 of Set 12 | camargo\n",
      "Processing Record 14 of Set 12 | avera\n",
      "Processing Record 15 of Set 12 | sayansk\n",
      "Skipping... City not found\n",
      "Processing Record 16 of Set 12 | kamaishi\n",
      "Processing Record 17 of Set 12 | lexington park\n",
      "Processing Record 18 of Set 12 | sobolevo\n",
      "Processing Record 19 of Set 12 | bismarck\n",
      "Skipping... City not found\n",
      "Processing Record 20 of Set 12 | fevik\n",
      "Processing Record 21 of Set 12 | prieska\n",
      "Processing Record 22 of Set 12 | bugiri\n",
      "Processing Record 23 of Set 12 | xichang\n",
      "Processing Record 24 of Set 12 | dudinka\n",
      "Processing Record 25 of Set 12 | puerto vallarta\n",
      "Processing Record 26 of Set 12 | puerto suarez\n",
      "Processing Record 27 of Set 12 | beruwala\n",
      "Processing Record 28 of Set 12 | oum hadjer\n",
      "Processing Record 29 of Set 12 | marienburg\n",
      "Processing Record 30 of Set 12 | levokumskoye\n",
      "Processing Record 31 of Set 12 | mayahi\n",
      "Processing Record 32 of Set 12 | byron bay\n",
      "Processing Record 33 of Set 12 | de aar\n",
      "Processing Record 34 of Set 12 | hami\n",
      "Processing Record 35 of Set 12 | sozimskiy\n",
      "Processing Record 36 of Set 12 | mino\n",
      "Processing Record 37 of Set 12 | los llanos de aridane\n",
      "Processing Record 38 of Set 12 | grindavik\n",
      "Processing Record 39 of Set 12 | whitehaven\n",
      "Processing Record 40 of Set 12 | gizo\n",
      "Processing Record 41 of Set 12 | coromoro\n",
      "Processing Record 42 of Set 12 | villazon\n",
      "Processing Record 43 of Set 12 | saltpond\n",
      "Processing Record 44 of Set 12 | bodden town\n",
      "Processing Record 45 of Set 12 | wukari\n",
      "Processing Record 46 of Set 12 | anadyr\n",
      "Processing Record 0 of Set 13 | guymon\n",
      "Processing Record 1 of Set 13 | harnosand\n",
      "Processing Record 2 of Set 13 | suoyarvi\n",
      "Processing Record 3 of Set 13 | sedro-woolley\n",
      "Processing Record 4 of Set 13 | santiago del estero\n",
      "Processing Record 5 of Set 13 | homer\n",
      "Processing Record 6 of Set 13 | sharjah\n",
      "Processing Record 7 of Set 13 | bangkal\n",
      "Processing Record 8 of Set 13 | piopio\n",
      "Processing Record 9 of Set 13 | grand-santi\n",
      "Processing Record 10 of Set 13 | sheridan\n",
      "Processing Record 11 of Set 13 | necochea\n",
      "Processing Record 12 of Set 13 | tokur\n"
     ]
    }
   ],
   "source": [
    "print('Beginning Data Retrieval')\n",
    "print('~~~~~~~~~~~~~~~~~~~~~~~~')\n",
    "\n",
    "# make counters\n",
    "set_count = 1\n",
    "record_count = 1\n",
    "city_data = []\n",
    "\n",
    "# loop through all the cities in the cities list\n",
    "for i, city in enumerate (cities):\n",
    "    #grouping cities in groups of 50\n",
    "    if i%50 == 0 and i >= 50:\n",
    "        set_count = set_count + 1\n",
    "        record_count = 0\n",
    "    #print(f'Processing Record {record_count} of Set {set_count} | {city}')\n",
    "    \n",
    "    \n",
    "    city_url = f'http://api.openweathermap.org/data/2.5/weather?appid={weather_api_key}&q={city}'\n",
    "    \n",
    "    cityweather = requests.get(city_url).json()\n",
    "    if \"message\" in cityweather:\n",
    "        if cityweather[\"message\"]==\"city not found\":\n",
    "            print('Skipping... City not found')\n",
    "    else:\n",
    "        print(f'Processing Record {record_count} of Set {set_count} | {city}')\n",
    "        record_count = record_count + 1\n",
    "        citylat = cityweather['coord']['lat']\n",
    "        citylong = cityweather['coord']['lon']\n",
    "        maxtemp = cityweather['main']['temp_max']\n",
    "        humidity = cityweather['main']['humidity']\n",
    "        clouds = cityweather['clouds']['all']\n",
    "        wind = cityweather['wind']['speed']\n",
    "        country = cityweather['sys']['country']\n",
    "        date = cityweather['dt']\n",
    "        \n",
    "        city_data.append({'City': city,\n",
    "                         'Latitude': citylat,\n",
    "                         'Longitude': citylong,\n",
    "                         'Maximum Temperature': maxtemp,\n",
    "                         'Humidity': humidity,\n",
    "                         'Cloud Cover': clouds,\n",
    "                         'Wind Speed': wind,\n",
    "                         'Country': country,\n",
    "                         'Date': date})\n",
    "        \n",
    "    #print(cityweather)\n",
    "    "
   ]
  },
  {
   "cell_type": "markdown",
   "metadata": {},
   "source": [
    "### Convert Raw Data to DataFrame\n",
    "* Export the city data into a .csv.\n",
    "* Display the DataFrame"
   ]
  },
  {
   "cell_type": "code",
   "execution_count": 33,
   "metadata": {},
   "outputs": [
    {
     "data": {
      "text/html": [
       "<div>\n",
       "<style scoped>\n",
       "    .dataframe tbody tr th:only-of-type {\n",
       "        vertical-align: middle;\n",
       "    }\n",
       "\n",
       "    .dataframe tbody tr th {\n",
       "        vertical-align: top;\n",
       "    }\n",
       "\n",
       "    .dataframe thead th {\n",
       "        text-align: right;\n",
       "    }\n",
       "</style>\n",
       "<table border=\"1\" class=\"dataframe\">\n",
       "  <thead>\n",
       "    <tr style=\"text-align: right;\">\n",
       "      <th></th>\n",
       "      <th>City</th>\n",
       "      <th>Latitude</th>\n",
       "      <th>Longitude</th>\n",
       "      <th>Maximum Temperature</th>\n",
       "      <th>Humidity</th>\n",
       "      <th>Cloud Cover</th>\n",
       "      <th>Wind Speed</th>\n",
       "      <th>Country</th>\n",
       "      <th>Date</th>\n",
       "    </tr>\n",
       "  </thead>\n",
       "  <tbody>\n",
       "    <tr>\n",
       "      <th>0</th>\n",
       "      <td>seymchan</td>\n",
       "      <td>62.88</td>\n",
       "      <td>152.43</td>\n",
       "      <td>286.04</td>\n",
       "      <td>63</td>\n",
       "      <td>98</td>\n",
       "      <td>1.68</td>\n",
       "      <td>RU</td>\n",
       "      <td>1593976689</td>\n",
       "    </tr>\n",
       "    <tr>\n",
       "      <th>1</th>\n",
       "      <td>busselton</td>\n",
       "      <td>-33.65</td>\n",
       "      <td>115.33</td>\n",
       "      <td>286.48</td>\n",
       "      <td>80</td>\n",
       "      <td>0</td>\n",
       "      <td>6.12</td>\n",
       "      <td>AU</td>\n",
       "      <td>1593976689</td>\n",
       "    </tr>\n",
       "    <tr>\n",
       "      <th>2</th>\n",
       "      <td>hobart</td>\n",
       "      <td>-42.88</td>\n",
       "      <td>147.33</td>\n",
       "      <td>282.59</td>\n",
       "      <td>87</td>\n",
       "      <td>90</td>\n",
       "      <td>2.32</td>\n",
       "      <td>AU</td>\n",
       "      <td>1593976690</td>\n",
       "    </tr>\n",
       "    <tr>\n",
       "      <th>3</th>\n",
       "      <td>ushuaia</td>\n",
       "      <td>-54.80</td>\n",
       "      <td>-68.30</td>\n",
       "      <td>274.15</td>\n",
       "      <td>74</td>\n",
       "      <td>75</td>\n",
       "      <td>0.93</td>\n",
       "      <td>AR</td>\n",
       "      <td>1593976455</td>\n",
       "    </tr>\n",
       "    <tr>\n",
       "      <th>4</th>\n",
       "      <td>punta arenas</td>\n",
       "      <td>-53.15</td>\n",
       "      <td>-70.92</td>\n",
       "      <td>274.15</td>\n",
       "      <td>88</td>\n",
       "      <td>40</td>\n",
       "      <td>3.60</td>\n",
       "      <td>CL</td>\n",
       "      <td>1593976450</td>\n",
       "    </tr>\n",
       "    <tr>\n",
       "      <th>...</th>\n",
       "      <td>...</td>\n",
       "      <td>...</td>\n",
       "      <td>...</td>\n",
       "      <td>...</td>\n",
       "      <td>...</td>\n",
       "      <td>...</td>\n",
       "      <td>...</td>\n",
       "      <td>...</td>\n",
       "      <td>...</td>\n",
       "    </tr>\n",
       "    <tr>\n",
       "      <th>560</th>\n",
       "      <td>piopio</td>\n",
       "      <td>-38.47</td>\n",
       "      <td>175.02</td>\n",
       "      <td>284.82</td>\n",
       "      <td>90</td>\n",
       "      <td>100</td>\n",
       "      <td>0.89</td>\n",
       "      <td>NZ</td>\n",
       "      <td>1593976757</td>\n",
       "    </tr>\n",
       "    <tr>\n",
       "      <th>561</th>\n",
       "      <td>grand-santi</td>\n",
       "      <td>4.25</td>\n",
       "      <td>-54.38</td>\n",
       "      <td>301.12</td>\n",
       "      <td>83</td>\n",
       "      <td>100</td>\n",
       "      <td>2.29</td>\n",
       "      <td>GF</td>\n",
       "      <td>1593976757</td>\n",
       "    </tr>\n",
       "    <tr>\n",
       "      <th>562</th>\n",
       "      <td>sheridan</td>\n",
       "      <td>44.83</td>\n",
       "      <td>-106.92</td>\n",
       "      <td>301.15</td>\n",
       "      <td>28</td>\n",
       "      <td>1</td>\n",
       "      <td>3.10</td>\n",
       "      <td>US</td>\n",
       "      <td>1593976600</td>\n",
       "    </tr>\n",
       "    <tr>\n",
       "      <th>563</th>\n",
       "      <td>necochea</td>\n",
       "      <td>-38.55</td>\n",
       "      <td>-58.74</td>\n",
       "      <td>282.59</td>\n",
       "      <td>80</td>\n",
       "      <td>28</td>\n",
       "      <td>0.89</td>\n",
       "      <td>AR</td>\n",
       "      <td>1593976757</td>\n",
       "    </tr>\n",
       "    <tr>\n",
       "      <th>564</th>\n",
       "      <td>tokur</td>\n",
       "      <td>53.13</td>\n",
       "      <td>132.90</td>\n",
       "      <td>280.62</td>\n",
       "      <td>96</td>\n",
       "      <td>100</td>\n",
       "      <td>1.57</td>\n",
       "      <td>RU</td>\n",
       "      <td>1593976757</td>\n",
       "    </tr>\n",
       "  </tbody>\n",
       "</table>\n",
       "<p>565 rows × 9 columns</p>\n",
       "</div>"
      ],
      "text/plain": [
       "             City  Latitude  Longitude  Maximum Temperature  Humidity  \\\n",
       "0        seymchan     62.88     152.43               286.04        63   \n",
       "1       busselton    -33.65     115.33               286.48        80   \n",
       "2          hobart    -42.88     147.33               282.59        87   \n",
       "3         ushuaia    -54.80     -68.30               274.15        74   \n",
       "4    punta arenas    -53.15     -70.92               274.15        88   \n",
       "..            ...       ...        ...                  ...       ...   \n",
       "560        piopio    -38.47     175.02               284.82        90   \n",
       "561   grand-santi      4.25     -54.38               301.12        83   \n",
       "562      sheridan     44.83    -106.92               301.15        28   \n",
       "563      necochea    -38.55     -58.74               282.59        80   \n",
       "564         tokur     53.13     132.90               280.62        96   \n",
       "\n",
       "     Cloud Cover  Wind Speed Country        Date  \n",
       "0             98        1.68      RU  1593976689  \n",
       "1              0        6.12      AU  1593976689  \n",
       "2             90        2.32      AU  1593976690  \n",
       "3             75        0.93      AR  1593976455  \n",
       "4             40        3.60      CL  1593976450  \n",
       "..           ...         ...     ...         ...  \n",
       "560          100        0.89      NZ  1593976757  \n",
       "561          100        2.29      GF  1593976757  \n",
       "562            1        3.10      US  1593976600  \n",
       "563           28        0.89      AR  1593976757  \n",
       "564          100        1.57      RU  1593976757  \n",
       "\n",
       "[565 rows x 9 columns]"
      ]
     },
     "execution_count": 33,
     "metadata": {},
     "output_type": "execute_result"
    }
   ],
   "source": [
    "cityweather_df = pd.DataFrame(city_data)\n",
    "\n",
    "cityweather_df"
   ]
  },
  {
   "cell_type": "code",
   "execution_count": 34,
   "metadata": {},
   "outputs": [],
   "source": [
    "outputpath = 'output_cities.csv'\n",
    "cityweather_df.to_csv(outputpath, index_label = 'City ID')"
   ]
  },
  {
   "cell_type": "markdown",
   "metadata": {},
   "source": [
    "## Inspect the data and remove the cities where the humidity > 100%.\n",
    "----\n",
    "Skip this step if there are no cities that have humidity > 100%. "
   ]
  },
  {
   "cell_type": "code",
   "execution_count": 35,
   "metadata": {},
   "outputs": [
    {
     "data": {
      "text/html": [
       "<div>\n",
       "<style scoped>\n",
       "    .dataframe tbody tr th:only-of-type {\n",
       "        vertical-align: middle;\n",
       "    }\n",
       "\n",
       "    .dataframe tbody tr th {\n",
       "        vertical-align: top;\n",
       "    }\n",
       "\n",
       "    .dataframe thead th {\n",
       "        text-align: right;\n",
       "    }\n",
       "</style>\n",
       "<table border=\"1\" class=\"dataframe\">\n",
       "  <thead>\n",
       "    <tr style=\"text-align: right;\">\n",
       "      <th></th>\n",
       "      <th>Latitude</th>\n",
       "      <th>Longitude</th>\n",
       "      <th>Maximum Temperature</th>\n",
       "      <th>Humidity</th>\n",
       "      <th>Cloud Cover</th>\n",
       "      <th>Wind Speed</th>\n",
       "      <th>Date</th>\n",
       "    </tr>\n",
       "  </thead>\n",
       "  <tbody>\n",
       "    <tr>\n",
       "      <th>count</th>\n",
       "      <td>565.00000</td>\n",
       "      <td>565.000000</td>\n",
       "      <td>565.000000</td>\n",
       "      <td>565.000000</td>\n",
       "      <td>565.000000</td>\n",
       "      <td>565.000000</td>\n",
       "      <td>5.650000e+02</td>\n",
       "    </tr>\n",
       "    <tr>\n",
       "      <th>mean</th>\n",
       "      <td>20.44469</td>\n",
       "      <td>17.910779</td>\n",
       "      <td>294.040655</td>\n",
       "      <td>69.276106</td>\n",
       "      <td>53.407080</td>\n",
       "      <td>3.593540</td>\n",
       "      <td>1.593977e+09</td>\n",
       "    </tr>\n",
       "    <tr>\n",
       "      <th>std</th>\n",
       "      <td>33.31769</td>\n",
       "      <td>93.290586</td>\n",
       "      <td>8.264021</td>\n",
       "      <td>21.775243</td>\n",
       "      <td>39.522962</td>\n",
       "      <td>2.393589</td>\n",
       "      <td>6.929509e+01</td>\n",
       "    </tr>\n",
       "    <tr>\n",
       "      <th>min</th>\n",
       "      <td>-54.80000</td>\n",
       "      <td>-179.170000</td>\n",
       "      <td>267.150000</td>\n",
       "      <td>3.000000</td>\n",
       "      <td>0.000000</td>\n",
       "      <td>0.050000</td>\n",
       "      <td>1.593976e+09</td>\n",
       "    </tr>\n",
       "    <tr>\n",
       "      <th>25%</th>\n",
       "      <td>-6.54000</td>\n",
       "      <td>-64.180000</td>\n",
       "      <td>288.080000</td>\n",
       "      <td>56.000000</td>\n",
       "      <td>12.000000</td>\n",
       "      <td>1.840000</td>\n",
       "      <td>1.593977e+09</td>\n",
       "    </tr>\n",
       "    <tr>\n",
       "      <th>50%</th>\n",
       "      <td>24.47000</td>\n",
       "      <td>23.050000</td>\n",
       "      <td>295.460000</td>\n",
       "      <td>74.000000</td>\n",
       "      <td>65.000000</td>\n",
       "      <td>3.100000</td>\n",
       "      <td>1.593977e+09</td>\n",
       "    </tr>\n",
       "    <tr>\n",
       "      <th>75%</th>\n",
       "      <td>48.81000</td>\n",
       "      <td>102.540000</td>\n",
       "      <td>300.330000</td>\n",
       "      <td>87.000000</td>\n",
       "      <td>95.000000</td>\n",
       "      <td>5.000000</td>\n",
       "      <td>1.593977e+09</td>\n",
       "    </tr>\n",
       "    <tr>\n",
       "      <th>max</th>\n",
       "      <td>78.22000</td>\n",
       "      <td>179.320000</td>\n",
       "      <td>316.710000</td>\n",
       "      <td>100.000000</td>\n",
       "      <td>100.000000</td>\n",
       "      <td>16.430000</td>\n",
       "      <td>1.593977e+09</td>\n",
       "    </tr>\n",
       "  </tbody>\n",
       "</table>\n",
       "</div>"
      ],
      "text/plain": [
       "        Latitude   Longitude  Maximum Temperature    Humidity  Cloud Cover  \\\n",
       "count  565.00000  565.000000           565.000000  565.000000   565.000000   \n",
       "mean    20.44469   17.910779           294.040655   69.276106    53.407080   \n",
       "std     33.31769   93.290586             8.264021   21.775243    39.522962   \n",
       "min    -54.80000 -179.170000           267.150000    3.000000     0.000000   \n",
       "25%     -6.54000  -64.180000           288.080000   56.000000    12.000000   \n",
       "50%     24.47000   23.050000           295.460000   74.000000    65.000000   \n",
       "75%     48.81000  102.540000           300.330000   87.000000    95.000000   \n",
       "max     78.22000  179.320000           316.710000  100.000000   100.000000   \n",
       "\n",
       "       Wind Speed          Date  \n",
       "count  565.000000  5.650000e+02  \n",
       "mean     3.593540  1.593977e+09  \n",
       "std      2.393589  6.929509e+01  \n",
       "min      0.050000  1.593976e+09  \n",
       "25%      1.840000  1.593977e+09  \n",
       "50%      3.100000  1.593977e+09  \n",
       "75%      5.000000  1.593977e+09  \n",
       "max     16.430000  1.593977e+09  "
      ]
     },
     "execution_count": 35,
     "metadata": {},
     "output_type": "execute_result"
    }
   ],
   "source": [
    "cityweather_df.describe()"
   ]
  },
  {
   "cell_type": "code",
   "execution_count": 36,
   "metadata": {},
   "outputs": [],
   "source": [
    "#  Get the indices of cities that have humidity over 100%.\n"
   ]
  },
  {
   "cell_type": "code",
   "execution_count": 37,
   "metadata": {},
   "outputs": [
    {
     "data": {
      "text/plain": [
       "Int64Index([], dtype='int64')"
      ]
     },
     "execution_count": 37,
     "metadata": {},
     "output_type": "execute_result"
    }
   ],
   "source": [
    "reallyhumid = cityweather_df[(cityweather_df['Humidity'] > 100)].index\n",
    "reallyhumid"
   ]
  },
  {
   "cell_type": "code",
   "execution_count": 38,
   "metadata": {},
   "outputs": [],
   "source": [
    "# Make a new DataFrame equal to the city data to drop all humidity outliers by index.\n",
    "# Passing \"inplace=False\" will make a copy of the city_data DataFrame, which we call \"clean_city_data\".\n"
   ]
  },
  {
   "cell_type": "code",
   "execution_count": 39,
   "metadata": {},
   "outputs": [],
   "source": [
    "# Extract relevant fields from the data frame\n",
    "\n",
    "\n",
    "# Export the City_Data into a csv\n"
   ]
  },
  {
   "cell_type": "markdown",
   "metadata": {},
   "source": [
    "## Plotting the Data\n",
    "* Use proper labeling of the plots using plot titles (including date of analysis) and axes labels.\n",
    "* Save the plotted figures as .pngs."
   ]
  },
  {
   "cell_type": "markdown",
   "metadata": {},
   "source": [
    "## Latitude vs. Temperature Plot"
   ]
  },
  {
   "cell_type": "code",
   "execution_count": 40,
   "metadata": {
    "scrolled": true
   },
   "outputs": [
    {
     "data": {
      "image/png": "[encoded data removed]",
      "text/plain": [
       "<Figure size 432x288 with 1 Axes>"
      ]
     },
     "metadata": {
      "needs_background": "light"
     },
     "output_type": "display_data"
    },
    {
     "name": "stdout",
     "output_type": "stream",
     "text": [
      "This plot shows the relationship between latitude and temperature on the globe. As expected, the temperature goes up the closer you get to the equator.\n"
     ]
    }
   ],
   "source": [
    "scatterlat = cityweather_df['Latitude']\n",
    "scatterhumid = cityweather_df['Humidity']\n",
    "scattertemp = cityweather_df['Maximum Temperature']\n",
    "scattercloud = cityweather_df['Cloud Cover']\n",
    "scatterwind = cityweather_df['Wind Speed']\n",
    "#------------------------------------------\n",
    "plt.scatter(scatterlat, scattertemp, marker = 'o')\n",
    "plt.grid(True)\n",
    "plt.xlabel(\"Latitude\")\n",
    "plt.ylabel(\"Maximum Temperature (F)\")\n",
    "plt.title(\"Latitude vs. Temperature\")\n",
    "plt.savefig('latvstemp.png')\n",
    "plt.show()\n",
    "print(\"This plot shows the relationship between latitude and temperature on the globe. As expected, the temperature goes up the closer you get to the equator.\")"
   ]
  },
  {
   "cell_type": "markdown",
   "metadata": {},
   "source": [
    "## Latitude vs. Humidity Plot"
   ]
  },
  {
   "cell_type": "code",
   "execution_count": 41,
   "metadata": {},
   "outputs": [
    {
     "data": {
      "image/png": "[encoded data removed]",
      "text/plain": [
       "<Figure size 432x288 with 1 Axes>"
      ]
     },
     "metadata": {
      "needs_background": "light"
     },
     "output_type": "display_data"
    },
    {
     "name": "stdout",
     "output_type": "stream",
     "text": [
      "This plot shows the relationship between humidity and latitude. It seems like it gets more humid the farther you get from the equator.\n"
     ]
    }
   ],
   "source": [
    "plt.scatter(scatterlat, scatterhumid, marker = 'o')\n",
    "plt.grid(True)\n",
    "plt.xlabel(\"Latitude\")\n",
    "plt.ylabel(\"Humidity Percentage\")\n",
    "plt.title(\"Latitude vs. Humidity\")\n",
    "plt.savefig('latvshum.png')\n",
    "plt.show()\n",
    "print('This plot shows the relationship between humidity and latitude. It seems like it gets more humid the farther you get from the equator.')"
   ]
  },
  {
   "cell_type": "markdown",
   "metadata": {},
   "source": [
    "## Latitude vs. Cloudiness Plot"
   ]
  },
  {
   "cell_type": "code",
   "execution_count": 42,
   "metadata": {},
   "outputs": [
    {
     "data": {
      "image/png": "[encoded data removed]",
      "text/plain": [
       "<Figure size 432x288 with 1 Axes>"
      ]
     },
     "metadata": {
      "needs_background": "light"
     },
     "output_type": "display_data"
    },
    {
     "name": "stdout",
     "output_type": "stream",
     "text": [
      "This plot shows the relationship between latitude and cloudiness. Seems like it gets cloudier toward the poles. \n"
     ]
    }
   ],
   "source": [
    "plt.scatter(scatterlat, scattercloud, marker = 'o')\n",
    "plt.grid(True)\n",
    "plt.xlabel(\"Latitude\")\n",
    "plt.ylabel(\"Cloudiness\")\n",
    "plt.title(\"Latitude vs. Cloudiness\")\n",
    "plt.savefig('latvscloud.png')\n",
    "plt.show()\n",
    "print('This plot shows the relationship between latitude and cloudiness. Seems like it gets cloudier toward the poles. ')"
   ]
  },
  {
   "cell_type": "markdown",
   "metadata": {},
   "source": [
    "## Latitude vs. Wind Speed Plot"
   ]
  },
  {
   "cell_type": "code",
   "execution_count": 43,
   "metadata": {},
   "outputs": [
    {
     "data": {
      "image/png": "[encoded data removed]",
      "text/plain": [
       "<Figure size 432x288 with 1 Axes>"
      ]
     },
     "metadata": {
      "needs_background": "light"
     },
     "output_type": "display_data"
    },
    {
     "data": {
      "text/plain": [
       "'This plot shows the relationship of latitude and wind speed. This plot reflects that it gets windier as you get closer to the equator.'"
      ]
     },
     "execution_count": 43,
     "metadata": {},
     "output_type": "execute_result"
    }
   ],
   "source": [
    "plt.scatter(scatterlat, scatterwind, marker = 'o')\n",
    "plt.grid(True)\n",
    "plt.xlabel(\"Latitude\")\n",
    "plt.ylabel(\"Wind Speed\")\n",
    "plt.title(\"Latitude vs. Wind Speed\")\n",
    "plt.savefig('latvswind.png')\n",
    "plt.show()\n",
    "\"This plot shows the relationship of latitude and wind speed. This plot reflects that it gets windier as you get closer to the equator.\""
   ]
  },
  {
   "cell_type": "markdown",
   "metadata": {},
   "source": [
    "## Linear Regression"
   ]
  },
  {
   "cell_type": "code",
   "execution_count": 44,
   "metadata": {},
   "outputs": [],
   "source": [
    "# OPTIONAL: Create a function to create Linear Regression plots\n",
    "def plotLR(xvalues, yvalues):\n",
    "    (slope, intercept, rvalue, pvalue, stderr) = linregress(x_values, y_values)\n",
    "    regress_values = x_values * slope + intercept\n",
    "    line_eq = \"y = \" + str(round(slope,2)) + \"x + \" + str(round(intercept,2))\n",
    "    plt.scatter(xvalues, yvalues)\n",
    "    plt.annotate(line_eq,text_coordinates,fontsize=15,color=\"red\")"
   ]
  },
  {
   "cell_type": "code",
   "execution_count": 45,
   "metadata": {},
   "outputs": [
    {
     "data": {
      "text/html": [
       "<div>\n",
       "<style scoped>\n",
       "    .dataframe tbody tr th:only-of-type {\n",
       "        vertical-align: middle;\n",
       "    }\n",
       "\n",
       "    .dataframe tbody tr th {\n",
       "        vertical-align: top;\n",
       "    }\n",
       "\n",
       "    .dataframe thead th {\n",
       "        text-align: right;\n",
       "    }\n",
       "</style>\n",
       "<table border=\"1\" class=\"dataframe\">\n",
       "  <thead>\n",
       "    <tr style=\"text-align: right;\">\n",
       "      <th></th>\n",
       "      <th>City</th>\n",
       "      <th>Latitude</th>\n",
       "      <th>Longitude</th>\n",
       "      <th>Maximum Temperature</th>\n",
       "      <th>Humidity</th>\n",
       "      <th>Cloud Cover</th>\n",
       "      <th>Wind Speed</th>\n",
       "      <th>Country</th>\n",
       "      <th>Date</th>\n",
       "    </tr>\n",
       "  </thead>\n",
       "  <tbody>\n",
       "    <tr>\n",
       "      <th>0</th>\n",
       "      <td>seymchan</td>\n",
       "      <td>62.88</td>\n",
       "      <td>152.43</td>\n",
       "      <td>286.04</td>\n",
       "      <td>63</td>\n",
       "      <td>98</td>\n",
       "      <td>1.68</td>\n",
       "      <td>RU</td>\n",
       "      <td>1593976689</td>\n",
       "    </tr>\n",
       "    <tr>\n",
       "      <th>5</th>\n",
       "      <td>silopi</td>\n",
       "      <td>37.25</td>\n",
       "      <td>42.47</td>\n",
       "      <td>303.25</td>\n",
       "      <td>29</td>\n",
       "      <td>1</td>\n",
       "      <td>3.34</td>\n",
       "      <td>TR</td>\n",
       "      <td>1593976690</td>\n",
       "    </tr>\n",
       "    <tr>\n",
       "      <th>7</th>\n",
       "      <td>la cruz</td>\n",
       "      <td>23.92</td>\n",
       "      <td>-106.90</td>\n",
       "      <td>304.13</td>\n",
       "      <td>62</td>\n",
       "      <td>40</td>\n",
       "      <td>3.38</td>\n",
       "      <td>MX</td>\n",
       "      <td>1593976690</td>\n",
       "    </tr>\n",
       "    <tr>\n",
       "      <th>12</th>\n",
       "      <td>mishan</td>\n",
       "      <td>45.55</td>\n",
       "      <td>131.88</td>\n",
       "      <td>289.85</td>\n",
       "      <td>94</td>\n",
       "      <td>100</td>\n",
       "      <td>2.42</td>\n",
       "      <td>CN</td>\n",
       "      <td>1593976691</td>\n",
       "    </tr>\n",
       "    <tr>\n",
       "      <th>13</th>\n",
       "      <td>san cristobal</td>\n",
       "      <td>7.77</td>\n",
       "      <td>-72.22</td>\n",
       "      <td>305.15</td>\n",
       "      <td>46</td>\n",
       "      <td>40</td>\n",
       "      <td>7.70</td>\n",
       "      <td>VE</td>\n",
       "      <td>1593976691</td>\n",
       "    </tr>\n",
       "    <tr>\n",
       "      <th>...</th>\n",
       "      <td>...</td>\n",
       "      <td>...</td>\n",
       "      <td>...</td>\n",
       "      <td>...</td>\n",
       "      <td>...</td>\n",
       "      <td>...</td>\n",
       "      <td>...</td>\n",
       "      <td>...</td>\n",
       "      <td>...</td>\n",
       "    </tr>\n",
       "    <tr>\n",
       "      <th>558</th>\n",
       "      <td>sharjah</td>\n",
       "      <td>25.36</td>\n",
       "      <td>55.40</td>\n",
       "      <td>308.15</td>\n",
       "      <td>62</td>\n",
       "      <td>88</td>\n",
       "      <td>1.50</td>\n",
       "      <td>AE</td>\n",
       "      <td>1593976757</td>\n",
       "    </tr>\n",
       "    <tr>\n",
       "      <th>559</th>\n",
       "      <td>bangkal</td>\n",
       "      <td>6.07</td>\n",
       "      <td>121.07</td>\n",
       "      <td>298.50</td>\n",
       "      <td>84</td>\n",
       "      <td>27</td>\n",
       "      <td>1.82</td>\n",
       "      <td>PH</td>\n",
       "      <td>1593976757</td>\n",
       "    </tr>\n",
       "    <tr>\n",
       "      <th>561</th>\n",
       "      <td>grand-santi</td>\n",
       "      <td>4.25</td>\n",
       "      <td>-54.38</td>\n",
       "      <td>301.12</td>\n",
       "      <td>83</td>\n",
       "      <td>100</td>\n",
       "      <td>2.29</td>\n",
       "      <td>GF</td>\n",
       "      <td>1593976757</td>\n",
       "    </tr>\n",
       "    <tr>\n",
       "      <th>562</th>\n",
       "      <td>sheridan</td>\n",
       "      <td>44.83</td>\n",
       "      <td>-106.92</td>\n",
       "      <td>301.15</td>\n",
       "      <td>28</td>\n",
       "      <td>1</td>\n",
       "      <td>3.10</td>\n",
       "      <td>US</td>\n",
       "      <td>1593976600</td>\n",
       "    </tr>\n",
       "    <tr>\n",
       "      <th>564</th>\n",
       "      <td>tokur</td>\n",
       "      <td>53.13</td>\n",
       "      <td>132.90</td>\n",
       "      <td>280.62</td>\n",
       "      <td>96</td>\n",
       "      <td>100</td>\n",
       "      <td>1.57</td>\n",
       "      <td>RU</td>\n",
       "      <td>1593976757</td>\n",
       "    </tr>\n",
       "  </tbody>\n",
       "</table>\n",
       "<p>391 rows × 9 columns</p>\n",
       "</div>"
      ],
      "text/plain": [
       "              City  Latitude  Longitude  Maximum Temperature  Humidity  \\\n",
       "0         seymchan     62.88     152.43               286.04        63   \n",
       "5           silopi     37.25      42.47               303.25        29   \n",
       "7          la cruz     23.92    -106.90               304.13        62   \n",
       "12          mishan     45.55     131.88               289.85        94   \n",
       "13   san cristobal      7.77     -72.22               305.15        46   \n",
       "..             ...       ...        ...                  ...       ...   \n",
       "558        sharjah     25.36      55.40               308.15        62   \n",
       "559        bangkal      6.07     121.07               298.50        84   \n",
       "561    grand-santi      4.25     -54.38               301.12        83   \n",
       "562       sheridan     44.83    -106.92               301.15        28   \n",
       "564          tokur     53.13     132.90               280.62        96   \n",
       "\n",
       "     Cloud Cover  Wind Speed Country        Date  \n",
       "0             98        1.68      RU  1593976689  \n",
       "5              1        3.34      TR  1593976690  \n",
       "7             40        3.38      MX  1593976690  \n",
       "12           100        2.42      CN  1593976691  \n",
       "13            40        7.70      VE  1593976691  \n",
       "..           ...         ...     ...         ...  \n",
       "558           88        1.50      AE  1593976757  \n",
       "559           27        1.82      PH  1593976757  \n",
       "561          100        2.29      GF  1593976757  \n",
       "562            1        3.10      US  1593976600  \n",
       "564          100        1.57      RU  1593976757  \n",
       "\n",
       "[391 rows x 9 columns]"
      ]
     },
     "execution_count": 45,
     "metadata": {},
     "output_type": "execute_result"
    }
   ],
   "source": [
    "# Create Northern and Southern Hemisphere DataFrames\n",
    "northerndf = cityweather_df[cityweather_df['Latitude'] > 0]\n",
    "southerndf = cityweather_df[cityweather_df['Latitude'] < 0]\n",
    "northerndf"
   ]
  },
  {
   "cell_type": "markdown",
   "metadata": {},
   "source": [
    "####  Northern Hemisphere - Max Temp vs. Latitude Linear Regression"
   ]
  },
  {
   "cell_type": "code",
   "execution_count": 46,
   "metadata": {
    "scrolled": true
   },
   "outputs": [
    {
     "name": "stderr",
     "output_type": "stream",
     "text": [
      "No handles with labels found to put in legend.\n"
     ]
    },
    {
     "name": "stdout",
     "output_type": "stream",
     "text": [
      "slope: -0.299128    intercept: 306.681230\n",
      "R-squared: 0.530728\n",
      "R-squared: 0.530728\n"
     ]
    },
    {
     "data": {
      "image/png": "[encoded data removed]",
      "text/plain": [
       "<Figure size 432x288 with 1 Axes>"
      ]
     },
     "metadata": {
      "needs_background": "light"
     },
     "output_type": "display_data"
    },
    {
     "name": "stdout",
     "output_type": "stream",
     "text": [
      "This plot shows the relationship between degrees in Kelvin and the latitude. The temperature is clearly higher toward the equator.\n"
     ]
    }
   ],
   "source": [
    "northernmaxtemp = northerndf['Maximum Temperature']\n",
    "northernlat = northerndf[\"Latitude\"]\n",
    "slope, intercept, r_value, p_value, std_err = linregress(northernlat, northernmaxtemp)\n",
    "print(\"slope: %f    intercept: %f\" % (slope, intercept))\n",
    "print(\"R-squared: %f\" % r_value**2)\n",
    "plt.plot(northernlat, northernmaxtemp, \"*\")\n",
    "plt.plot(northernlat, intercept + slope*northernlat, \"r\")\n",
    "plt.title(\"Northern Hemisphere - Max Temp vs. Latitude Linear Regression\")\n",
    "plt.xlabel(\"Latitude\")\n",
    "plt.ylabel(\"Max Temp\")\n",
    "plt.legend()\n",
    "print(\"R-squared: %f\" % r_value**2)\n",
    "line_eq = \"y = \" + str(round(slope,2)) + \"x + \" + str(round(intercept,2))\n",
    "plt.annotate(line_eq,(10,30),fontsize=15,color=\"red\")\n",
    "plt.savefig(\"NtempvsLLR.png\")\n",
    "plt.show()\n",
    "print('This plot shows the relationship between degrees in Kelvin and the latitude. The temperature is clearly higher toward the equator.')"
   ]
  },
  {
   "cell_type": "markdown",
   "metadata": {},
   "source": [
    "####  Southern Hemisphere - Max Temp vs. Latitude Linear Regression"
   ]
  },
  {
   "cell_type": "code",
   "execution_count": 47,
   "metadata": {},
   "outputs": [
    {
     "name": "stdout",
     "output_type": "stream",
     "text": [
      "slope: 0.486009    intercept: 302.240589\n",
      "R-squared: 0.682173\n"
     ]
    },
    {
     "name": "stderr",
     "output_type": "stream",
     "text": [
      "No handles with labels found to put in legend.\n"
     ]
    },
    {
     "name": "stdout",
     "output_type": "stream",
     "text": [
      "R-squared: 0.682173\n"
     ]
    },
    {
     "data": {
      "image/png": "[encoded data removed]",
      "text/plain": [
       "<Figure size 432x288 with 1 Axes>"
      ]
     },
     "metadata": {
      "needs_background": "light"
     },
     "output_type": "display_data"
    },
    {
     "name": "stdout",
     "output_type": "stream",
     "text": [
      "This graph reflects the temperature in Kelvin in relation to latitudes. This parallels the previous chart and shows that the temperature raises when you get closer to the equator.\n"
     ]
    }
   ],
   "source": [
    "southernmaxtemp = southerndf['Maximum Temperature']\n",
    "southernlat = southerndf['Latitude']\n",
    "slope, intercept, r_value, p_value, std_err = linregress(southernlat, southernmaxtemp)\n",
    "print(\"slope: %f    intercept: %f\" % (slope, intercept))\n",
    "print(\"R-squared: %f\" % r_value**2)\n",
    "plt.plot(southernlat, southernmaxtemp, \"*\")\n",
    "plt.plot(southernlat, intercept + slope*southernlat, \"r\")\n",
    "plt.title(\"Southern Hemisphere - Max Temp vs. Latitude Linear Regression\")\n",
    "plt.xlabel(\"Latitude\")\n",
    "plt.ylabel(\"Max Temp\")\n",
    "plt.legend()\n",
    "print(\"R-squared: %f\" % r_value**2)\n",
    "line_eq = \"y = \" + str(round(slope,2)) + \"x + \" + str(round(intercept,2))\n",
    "plt.annotate(line_eq,(10,30),fontsize=15,color=\"red\")\n",
    "plt.savefig(\"StempvsLLR.png\")\n",
    "plt.show()\n",
    "print('This graph reflects the temperature in Kelvin in relation to latitudes. This parallels the previous chart and shows that the temperature raises when you get closer to the equator.')"
   ]
  },
  {
   "cell_type": "markdown",
   "metadata": {},
   "source": [
    "####  Northern Hemisphere - Humidity (%) vs. Latitude Linear Regression"
   ]
  },
  {
   "cell_type": "code",
   "execution_count": 48,
   "metadata": {},
   "outputs": [
    {
     "name": "stdout",
     "output_type": "stream",
     "text": [
      "slope: 0.092151    intercept: 32.758774\n",
      "R-squared: 0.010464\n"
     ]
    },
    {
     "name": "stderr",
     "output_type": "stream",
     "text": [
      "No handles with labels found to put in legend.\n"
     ]
    },
    {
     "name": "stdout",
     "output_type": "stream",
     "text": [
      "R-squared: 0.010464\n"
     ]
    },
    {
     "data": {
      "image/png": "[encoded data removed]",
      "text/plain": [
       "<Figure size 432x288 with 1 Axes>"
      ]
     },
     "metadata": {
      "needs_background": "light"
     },
     "output_type": "display_data"
    },
    {
     "name": "stdout",
     "output_type": "stream",
     "text": [
      "This plot shows relationship between humidity and latitude in the Northern Hemisphere. I dont think there is a clear trend.\n"
     ]
    }
   ],
   "source": [
    "northernhumidity = northerndf['Humidity']\n",
    "northernlat = northerndf['Latitude']\n",
    "slope, intercept, r_value, p_value, std_err = linregress(northernhumidity, northernlat)\n",
    "print(\"slope: %f    intercept: %f\" % (slope, intercept))\n",
    "print(\"R-squared: %f\" % r_value**2)\n",
    "plt.plot(northernhumidity, northernlat, \"*\")\n",
    "plt.plot(northernlat, intercept + slope*northernlat, \"r\")\n",
    "plt.title(\"Northern Hemisphere - Humidity (%) vs. Latitude Linear Regression\")\n",
    "plt.xlabel(\"Humidity\")\n",
    "plt.ylabel(\"Latitude Linear Regression\")\n",
    "plt.legend()\n",
    "print(\"R-squared: %f\" % r_value**2)\n",
    "line_eq = \"y = \" + str(round(slope,2)) + \"x + \" + str(round(intercept,2))\n",
    "plt.annotate(line_eq,(10,30),fontsize=15,color=\"red\")\n",
    "plt.savefig(\"NHumidvsLLR.png\")\n",
    "plt.show()\n",
    "print('This plot shows relationship between humidity and latitude in the Northern Hemisphere. I dont think there is a clear trend.')"
   ]
  },
  {
   "cell_type": "markdown",
   "metadata": {},
   "source": [
    "####  Southern Hemisphere - Humidity (%) vs. Latitude Linear Regression"
   ]
  },
  {
   "cell_type": "code",
   "execution_count": 49,
   "metadata": {},
   "outputs": [
    {
     "name": "stdout",
     "output_type": "stream",
     "text": [
      "slope: -0.072986    intercept: -16.082018"
     ]
    },
    {
     "name": "stderr",
     "output_type": "stream",
     "text": [
      "No handles with labels found to put in legend.\n"
     ]
    },
    {
     "name": "stdout",
     "output_type": "stream",
     "text": [
      "\n",
      "R-squared: 0.012296\n",
      "R-squared: 0.012296\n"
     ]
    },
    {
     "data": {
      "image/png": "[encoded data removed]",
      "text/plain": [
       "<Figure size 432x288 with 1 Axes>"
      ]
     },
     "metadata": {
      "needs_background": "light"
     },
     "output_type": "display_data"
    },
    {
     "name": "stdout",
     "output_type": "stream",
     "text": [
      "This plot shows relationship between humidity and latitude in the Southern Hemisphere. I dont think there is a clear trend.\n"
     ]
    }
   ],
   "source": [
    "southernhumidity = southerndf['Humidity']\n",
    "southernlat = southerndf['Latitude']\n",
    "slope, intercept, r_value, p_value, std_err = linregress(southernhumidity, southernlat)\n",
    "print(\"slope: %f    intercept: %f\" % (slope, intercept))\n",
    "print(\"R-squared: %f\" % r_value**2)\n",
    "plt.plot(southernhumidity, southernlat, \"*\")\n",
    "plt.plot(southernlat, intercept + slope*southernlat, \"r\")\n",
    "plt.title(\"Southern Hemisphere - Humidity (%) vs. Latitude Linear Regression\")\n",
    "plt.xlabel(\"Humidity\")\n",
    "plt.ylabel(\"Latitude Linear Regression\")\n",
    "plt.legend()\n",
    "print(\"R-squared: %f\" % r_value**2)\n",
    "line_eq = \"y = \" + str(round(slope,2)) + \"x + \" + str(round(intercept,2))\n",
    "plt.annotate(line_eq,(10,30),fontsize=15,color=\"red\")\n",
    "plt.savefig(\"ShumidvsLLR.png\")\n",
    "plt.show()\n",
    "print('This plot shows relationship between humidity and latitude in the Southern Hemisphere. I dont think there is a clear trend.')"
   ]
  },
  {
   "cell_type": "markdown",
   "metadata": {},
   "source": [
    "####  Northern Hemisphere - Cloudiness (%) vs. Latitude Linear Regression"
   ]
  },
  {
   "cell_type": "code",
   "execution_count": 50,
   "metadata": {},
   "outputs": [
    {
     "name": "stdout",
     "output_type": "stream",
     "text": [
      "slope: 0.050816    intercept: 36.347896\n",
      "R-squared: 0.010354\n"
     ]
    },
    {
     "name": "stderr",
     "output_type": "stream",
     "text": [
      "No handles with labels found to put in legend.\n"
     ]
    },
    {
     "name": "stdout",
     "output_type": "stream",
     "text": [
      "R-squared: 0.010354\n"
     ]
    },
    {
     "data": {
      "image/png": "[encoded data removed]",
      "text/plain": [
       "<Figure size 432x288 with 1 Axes>"
      ]
     },
     "metadata": {
      "needs_background": "light"
     },
     "output_type": "display_data"
    },
    {
     "name": "stdout",
     "output_type": "stream",
     "text": [
      "This plot shows relationship between cloudiness and latitude in the Northern Hemisphere. This looks like another one without a clear trend.\n"
     ]
    }
   ],
   "source": [
    "northerncloudiness = northerndf['Cloud Cover']\n",
    "northernlat = northerndf['Latitude']\n",
    "slope, intercept, r_value, p_value, std_err = linregress(northerncloudiness, northernlat)\n",
    "print(\"slope: %f    intercept: %f\" % (slope, intercept))\n",
    "print(\"R-squared: %f\" % r_value**2)\n",
    "plt.plot(northerncloudiness, northernlat, \"*\")\n",
    "plt.plot(northernlat, intercept + slope*northernlat, \"r\")\n",
    "plt.title(\"Northern Hemisphere - Cloudiness (%) vs. Latitude Linear Regression\")\n",
    "plt.xlabel(\"Cloudiness\")\n",
    "plt.ylabel(\"Latitude Linear Regression\")\n",
    "plt.legend()\n",
    "print(\"R-squared: %f\" % r_value**2)\n",
    "line_eq = \"y = \" + str(round(slope,2)) + \"x + \" + str(round(intercept,2))\n",
    "plt.annotate(line_eq,(10,30),fontsize=15,color=\"red\")\n",
    "plt.savefig(\"NcloudvsLLR.png\")\n",
    "plt.show()\n",
    "print('This plot shows relationship between cloudiness and latitude in the Northern Hemisphere. This looks like another one without a clear trend.')"
   ]
  },
  {
   "cell_type": "markdown",
   "metadata": {},
   "source": [
    "####  Southern Hemisphere - Cloudiness (%) vs. Latitude Linear Regression"
   ]
  },
  {
   "cell_type": "code",
   "execution_count": 51,
   "metadata": {},
   "outputs": [
    {
     "name": "stdout",
     "output_type": "stream",
     "text": [
      "slope: -0.034726    intercept: -19.433907\n",
      "R-squared: 0.009657\n"
     ]
    },
    {
     "name": "stderr",
     "output_type": "stream",
     "text": [
      "No handles with labels found to put in legend.\n"
     ]
    },
    {
     "name": "stdout",
     "output_type": "stream",
     "text": [
      "R-squared: 0.009657\n"
     ]
    },
    {
     "data": {
      "image/png": "[encoded data removed]",
      "text/plain": [
       "<Figure size 432x288 with 1 Axes>"
      ]
     },
     "metadata": {
      "needs_background": "light"
     },
     "output_type": "display_data"
    },
    {
     "name": "stdout",
     "output_type": "stream",
     "text": [
      "This plot shows relationship between cloudiness and latitude in the Southern Hemisphere. This looks like another one without a clear trend.\n"
     ]
    }
   ],
   "source": [
    "southerncloudiness = southerndf['Cloud Cover']\n",
    "southernlat = southerndf['Latitude']\n",
    "slope, intercept, r_value, p_value, std_err = linregress(southerncloudiness, southernlat)\n",
    "print(\"slope: %f    intercept: %f\" % (slope, intercept))\n",
    "print(\"R-squared: %f\" % r_value**2)\n",
    "plt.plot(southerncloudiness, southernlat, \"*\")\n",
    "plt.plot(southernlat, intercept + slope*southernlat, \"r\")\n",
    "plt.title(\"Southern Hemisphere - Cloudiness (%) vs. Latitude Linear Regression\")\n",
    "plt.xlabel(\"Cloudiness\")\n",
    "plt.ylabel(\"Latitude Linear Regression\")\n",
    "plt.legend()\n",
    "print(\"R-squared: %f\" % r_value**2)\n",
    "line_eq = \"y = \" + str(round(slope,2)) + \"x + \" + str(round(intercept,2))\n",
    "plt.annotate(line_eq,(10,30),fontsize=15,color=\"red\")\n",
    "plt.savefig(\"SCloudvsLLR.png\")\n",
    "plt.show()\n",
    "print('This plot shows relationship between cloudiness and latitude in the Southern Hemisphere. This looks like another one without a clear trend.')"
   ]
  },
  {
   "cell_type": "markdown",
   "metadata": {},
   "source": [
    "####  Northern Hemisphere - Wind Speed (mph) vs. Latitude Linear Regression"
   ]
  },
  {
   "cell_type": "code",
   "execution_count": 52,
   "metadata": {},
   "outputs": [
    {
     "name": "stdout",
     "output_type": "stream",
     "text": [
      "slope: -0.020666    intercept: 39.112230\n",
      "R-squared: 0.000007\n"
     ]
    },
    {
     "name": "stderr",
     "output_type": "stream",
     "text": [
      "No handles with labels found to put in legend.\n"
     ]
    },
    {
     "name": "stdout",
     "output_type": "stream",
     "text": [
      "R-squared: 0.000007\n"
     ]
    },
    {
     "data": {
      "image/png": "[encoded data removed]",
      "text/plain": [
       "<Figure size 432x288 with 1 Axes>"
      ]
     },
     "metadata": {
      "needs_background": "light"
     },
     "output_type": "display_data"
    },
    {
     "name": "stdout",
     "output_type": "stream",
     "text": [
      "This plot shows relationship between wind speed and latitude in the Northern Hemisphere. Definitely seems to trend to be windier toward the equator.\n"
     ]
    }
   ],
   "source": [
    "northwindspeed = northerndf['Wind Speed']\n",
    "northernlat = northerndf['Latitude']\n",
    "slope, intercept, r_value, p_value, std_err = linregress(northwindspeed, northernlat)\n",
    "print(\"slope: %f    intercept: %f\" % (slope, intercept))\n",
    "print(\"R-squared: %f\" % r_value**2)\n",
    "plt.plot(northwindspeed, northernlat, \"*\")\n",
    "plt.plot(northernlat, intercept + slope*northernlat, \"r\")\n",
    "plt.title(\"Northern Hemisphere - Wind Speed (mph) vs. Latitude Linear Regression\")\n",
    "plt.xlabel(\"Wind Speed\")\n",
    "plt.ylabel(\"Latitude Linear Regression\")\n",
    "plt.legend()\n",
    "print(\"R-squared: %f\" % r_value**2)\n",
    "line_eq = \"y = \" + str(round(slope,2)) + \"x + \" + str(round(intercept,2))\n",
    "plt.annotate(line_eq,(10,30),fontsize=15,color=\"red\")\n",
    "plt.savefig(\"NWindvsLLR.png\")\n",
    "plt.show()\n",
    "print('This plot shows relationship between wind speed and latitude in the Northern Hemisphere. Definitely seems to trend to be windier toward the equator.')"
   ]
  },
  {
   "cell_type": "markdown",
   "metadata": {},
   "source": [
    "####  Southern Hemisphere - Wind Speed (mph) vs. Latitude Linear Regression"
   ]
  },
  {
   "cell_type": "code",
   "execution_count": 53,
   "metadata": {},
   "outputs": [
    {
     "name": "stderr",
     "output_type": "stream",
     "text": [
      "No handles with labels found to put in legend.\n"
     ]
    },
    {
     "name": "stdout",
     "output_type": "stream",
     "text": [
      "slope: 0.642700    intercept: -23.425972\n",
      "R-squared: 0.009299\n",
      "R-squared: 0.009299\n"
     ]
    },
    {
     "data": {
      "image/png": "[encoded data removed]",
      "text/plain": [
       "<Figure size 432x288 with 1 Axes>"
      ]
     },
     "metadata": {
      "needs_background": "light"
     },
     "output_type": "display_data"
    },
    {
     "name": "stdout",
     "output_type": "stream",
     "text": [
      "This plot shows relationship between wind speed and latitude in the Southern Hemisphere. Definitely seems to trend to be windier toward the equator.\n"
     ]
    }
   ],
   "source": [
    "southwindspeed = southerndf['Wind Speed']\n",
    "southernlat = southerndf['Latitude']\n",
    "slope, intercept, r_value, p_value, std_err = linregress(southwindspeed, southernlat)\n",
    "print(\"slope: %f    intercept: %f\" % (slope, intercept))\n",
    "print(\"R-squared: %f\" % r_value**2)\n",
    "plt.plot(southwindspeed, southernlat, \"*\")\n",
    "plt.plot(southernlat, intercept + slope*southernlat, \"r\")\n",
    "plt.title(\"Southern Hemisphere - Wind Speed (mph) vs. Latitude Linear Regression\")\n",
    "plt.xlabel(\"Wind Speed\")\n",
    "plt.ylabel(\"Latitude Linear Regression\")\n",
    "plt.legend()\n",
    "print(\"R-squared: %f\" % r_value**2)\n",
    "line_eq = \"y = \" + str(round(slope,2)) + \"x + \" + str(round(intercept,2))\n",
    "plt.annotate(line_eq,(10,30),fontsize=15,color=\"red\")\n",
    "plt.savefig(\"SWindvsLLR.png\")\n",
    "plt.show()\n",
    "print('This plot shows relationship between wind speed and latitude in the Southern Hemisphere. Definitely seems to trend to be windier toward the equator.')"
   ]
  },
  {
   "cell_type": "code",
   "execution_count": null,
   "metadata": {},
   "outputs": [],
   "source": []
  }
 ],
 "metadata": {
  "anaconda-cloud": {},
  "kernel_info": {
   "name": "python3"
  },
  "kernelspec": {
   "display_name": "Python 3",
   "language": "python",
   "name": "python3"
  },
  "language_info": {
   "codemirror_mode": {
    "name": "ipython",
    "version": 3
   },
   "file_extension": ".py",
   "mimetype": "text/x-python",
   "name": "python",
   "nbconvert_exporter": "python",
   "pygments_lexer": "ipython3",
   "version": "3.7.6"
  },
  "latex_envs": {
   "LaTeX_envs_menu_present": true,
   "autoclose": false,
   "autocomplete": true,
   "bibliofile": "biblio.bib",
   "cite_by": "apalike",
   "current_citInitial": 1,
   "eqLabelWithNumbers": true,
   "eqNumInitial": 1,
   "hotkeys": {
    "equation": "Ctrl-E",
    "itemize": "Ctrl-I"
   },
   "labels_anchors": false,
   "latex_user_defs": false,
   "report_style_numbering": false,
   "user_envs_cfg": false
  },
  "nteract": {
   "version": "0.12.3"
  }
 },
 "nbformat": 4,
 "nbformat_minor": 2
}
