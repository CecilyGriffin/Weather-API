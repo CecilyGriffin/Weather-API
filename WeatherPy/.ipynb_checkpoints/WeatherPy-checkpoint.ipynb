{
 "cells": [
  {
   "cell_type": "markdown",
   "metadata": {},
   "source": [
    "# WeatherPy\n",
    "----\n",
    "\n",
    "#### Note\n",
    "* Instructions have been included for each segment. You do not have to follow them exactly, but they are included to help you think through the steps."
   ]
  },
  {
   "cell_type": "code",
   "execution_count": 1,
   "metadata": {
    "scrolled": true
   },
   "outputs": [],
   "source": [
    " # Dependencies and Setup\n",
    "import matplotlib.pyplot as plt\n",
    "import pandas as pd\n",
    "import numpy as np\n",
    "import requests\n",
    "import time\n",
    "from scipy.stats import linregress\n",
    "\n",
    "# Import API key\n",
    "from api_keys import weather_api_key\n",
    "\n",
    "# Incorporated citipy to determine city based on latitude and longitude\n",
    "from citipy import citipy\n",
    "\n",
    "# Output File (CSV)\n",
    "output_data_file = \"output_data/cities.csv\"\n",
    "\n",
    "# Range of latitudes and longitudes\n",
    "lat_range = (-90, 90)\n",
    "lng_range = (-180, 180)"
   ]
  },
  {
   "cell_type": "markdown",
   "metadata": {},
   "source": [
    "## Generate Cities List"
   ]
  },
  {
   "cell_type": "code",
   "execution_count": 2,
   "metadata": {},
   "outputs": [
    {
     "data": {
      "text/plain": [
       "609"
      ]
     },
     "execution_count": 2,
     "metadata": {},
     "output_type": "execute_result"
    }
   ],
   "source": [
    "# List for holding lat_lngs and cities\n",
    "lat_lngs = []\n",
    "cities = []\n",
    "\n",
    "# Create a set of random lat and lng combinations\n",
    "lats = np.random.uniform(lat_range[0], lat_range[1], size=1500)\n",
    "lngs = np.random.uniform(lng_range[0], lng_range[1], size=1500)\n",
    "lat_lngs = zip(lats, lngs)\n",
    "\n",
    "# Identify nearest city for each lat, lng combination\n",
    "for lat_lng in lat_lngs:\n",
    "    city = citipy.nearest_city(lat_lng[0], lat_lng[1]).city_name\n",
    "    \n",
    "    # If the city is unique, then add it to a our cities list\n",
    "    if city not in cities:\n",
    "        cities.append(city)\n",
    "\n",
    "# Print the city count to confirm sufficient count\n",
    "len(cities)"
   ]
  },
  {
   "cell_type": "markdown",
   "metadata": {},
   "source": [
    "### Perform API Calls\n",
    "* Perform a weather check on each city using a series of successive API calls.\n",
    "* Include a print log of each city as it'sbeing processed (with the city number and city name).\n"
   ]
  },
  {
   "cell_type": "code",
   "execution_count": 3,
   "metadata": {},
   "outputs": [
    {
     "data": {
      "text/plain": [
       "{'coord': {'lon': -68.3, 'lat': -54.8},\n",
       " 'weather': [{'id': 803,\n",
       "   'main': 'Clouds',\n",
       "   'description': 'broken clouds',\n",
       "   'icon': '04n'}],\n",
       " 'base': 'stations',\n",
       " 'main': {'temp': 275.15,\n",
       "  'feels_like': 267.83,\n",
       "  'temp_min': 275.15,\n",
       "  'temp_max': 275.15,\n",
       "  'pressure': 971,\n",
       "  'humidity': 74},\n",
       " 'visibility': 10000,\n",
       " 'wind': {'speed': 7.2, 'deg': 290},\n",
       " 'clouds': {'all': 75},\n",
       " 'dt': 1591757214,\n",
       " 'sys': {'type': 1,\n",
       "  'id': 8303,\n",
       "  'country': 'AR',\n",
       "  'sunrise': 1591707167,\n",
       "  'sunset': 1591733553},\n",
       " 'timezone': -10800,\n",
       " 'id': 3833367,\n",
       " 'name': 'Ushuaia',\n",
       " 'cod': 200}"
      ]
     },
     "execution_count": 3,
     "metadata": {},
     "output_type": "execute_result"
    }
   ],
   "source": [
    "import requests\n",
    "\n",
    "url = f'http://api.openweathermap.org/data/2.5/weather?q={city}&appid={weather_api_key}'\n",
    "replaceUrl = url.replace(\" \", \"%20\")\n",
    "city_weather = requests.get(replaceUrl).json()\n",
    "city_weather"
   ]
  },
  {
   "cell_type": "code",
   "execution_count": 4,
   "metadata": {},
   "outputs": [
    {
     "name": "stdout",
     "output_type": "stream",
     "text": [
      "Beginning Data Retrieval\n",
      "~~~~~~~~~~~~~~~~~~~~~~~~\n",
      "Processing Record 1 of Set 1 | avarua\n",
      "Processing Record 2 of Set 1 | te anau\n",
      "Processing Record 3 of Set 1 | acara\n",
      "Processing Record 4 of Set 1 | hobart\n",
      "Processing Record 5 of Set 1 | jamestown\n",
      "Processing Record 6 of Set 1 | new norfolk\n",
      "Processing Record 7 of Set 1 | comodoro rivadavia\n",
      "Processing Record 8 of Set 1 | libenge\n",
      "Processing Record 9 of Set 1 | torbay\n",
      "Processing Record 10 of Set 1 | busselton\n",
      "Processing Record 11 of Set 1 | tuktoyaktuk\n",
      "Processing Record 12 of Set 1 | korla\n",
      "Skipping... City not found\n",
      "Processing Record 13 of Set 1 | raahe\n",
      "Processing Record 14 of Set 1 | kaitangata\n",
      "Processing Record 15 of Set 1 | manta\n",
      "Processing Record 16 of Set 1 | mataura\n",
      "Processing Record 17 of Set 1 | punta arenas\n",
      "Processing Record 18 of Set 1 | ribeira grande\n",
      "Processing Record 19 of Set 1 | mahebourg\n",
      "Processing Record 20 of Set 1 | sao filipe\n",
      "Processing Record 21 of Set 1 | san patricio\n",
      "Processing Record 22 of Set 1 | laukaa\n",
      "Processing Record 23 of Set 1 | waipawa\n",
      "Skipping... City not found\n",
      "Processing Record 24 of Set 1 | tasiilaq\n",
      "Processing Record 25 of Set 1 | berlevag\n",
      "Processing Record 26 of Set 1 | khatanga\n",
      "Processing Record 27 of Set 1 | arraial do cabo\n",
      "Processing Record 28 of Set 1 | shingu\n",
      "Processing Record 29 of Set 1 | namibe\n",
      "Skipping... City not found\n",
      "Processing Record 30 of Set 1 | vaini\n",
      "Processing Record 31 of Set 1 | waghai\n",
      "Processing Record 32 of Set 1 | port macquarie\n",
      "Processing Record 33 of Set 1 | hithadhoo\n",
      "Processing Record 34 of Set 1 | vostok\n",
      "Processing Record 35 of Set 1 | vila franca do campo\n",
      "Processing Record 36 of Set 1 | port alfred\n",
      "Processing Record 37 of Set 1 | alice springs\n",
      "Processing Record 38 of Set 1 | shintomi\n",
      "Processing Record 39 of Set 1 | cedar city\n",
      "Processing Record 40 of Set 1 | mzimba\n",
      "Processing Record 41 of Set 1 | mosquera\n",
      "Processing Record 42 of Set 1 | kalavad\n",
      "Processing Record 43 of Set 1 | hastings\n",
      "Processing Record 44 of Set 1 | atuona\n",
      "Processing Record 45 of Set 1 | ushuaia\n",
      "Skipping... City not found\n",
      "Processing Record 46 of Set 1 | upernavik\n",
      "Processing Record 0 of Set 2 | halvad\n",
      "Skipping... City not found\n",
      "Processing Record 1 of Set 2 | dikson\n",
      "Processing Record 2 of Set 2 | victoria\n",
      "Processing Record 3 of Set 2 | georgetown\n",
      "Processing Record 4 of Set 2 | cherskiy\n",
      "Processing Record 5 of Set 2 | tazovskiy\n",
      "Processing Record 6 of Set 2 | thompson\n",
      "Processing Record 7 of Set 2 | markova\n",
      "Skipping... City not found\n",
      "Processing Record 8 of Set 2 | bethel\n",
      "Processing Record 9 of Set 2 | buin\n",
      "Processing Record 10 of Set 2 | rikitea\n",
      "Processing Record 11 of Set 2 | carnarvon\n",
      "Processing Record 12 of Set 2 | lagoa\n",
      "Processing Record 13 of Set 2 | coihaique\n",
      "Processing Record 14 of Set 2 | faanui\n",
      "Processing Record 15 of Set 2 | tiksi\n",
      "Processing Record 16 of Set 2 | havre-saint-pierre\n",
      "Processing Record 17 of Set 2 | mombasa\n",
      "Processing Record 18 of Set 2 | sete\n",
      "Processing Record 19 of Set 2 | port hardy\n",
      "Skipping... City not found\n",
      "Skipping... City not found\n",
      "Processing Record 20 of Set 2 | kapaa\n",
      "Processing Record 21 of Set 2 | mount gambier\n",
      "Processing Record 22 of Set 2 | mwinilunga\n",
      "Processing Record 23 of Set 2 | okhotsk\n",
      "Processing Record 24 of Set 2 | yellowknife\n",
      "Processing Record 25 of Set 2 | raudeberg\n",
      "Processing Record 26 of Set 2 | sao joao da barra\n",
      "Processing Record 27 of Set 2 | kiama\n",
      "Processing Record 28 of Set 2 | peniche\n",
      "Processing Record 29 of Set 2 | velikooktyabrskiy\n",
      "Skipping... City not found\n",
      "Processing Record 30 of Set 2 | hermanus\n",
      "Processing Record 31 of Set 2 | jining\n",
      "Processing Record 32 of Set 2 | kampot\n",
      "Processing Record 33 of Set 2 | biak\n",
      "Processing Record 34 of Set 2 | nantucket\n",
      "Processing Record 35 of Set 2 | buraydah\n",
      "Processing Record 36 of Set 2 | vestmannaeyjar\n",
      "Skipping... City not found\n",
      "Processing Record 37 of Set 2 | east london\n",
      "Processing Record 38 of Set 2 | poum\n",
      "Processing Record 39 of Set 2 | qaanaaq\n",
      "Processing Record 40 of Set 2 | geraldton\n",
      "Processing Record 41 of Set 2 | bluff\n",
      "Processing Record 42 of Set 2 | cabo san lucas\n",
      "Processing Record 43 of Set 2 | iqaluit\n",
      "Processing Record 0 of Set 3 | andros town\n",
      "Processing Record 1 of Set 3 | husavik\n",
      "Processing Record 2 of Set 3 | puerto ayora\n",
      "Processing Record 3 of Set 3 | seredka\n",
      "Processing Record 4 of Set 3 | ilulissat\n",
      "Processing Record 5 of Set 3 | ust-kut\n",
      "Processing Record 6 of Set 3 | esperance\n",
      "Skipping... City not found\n",
      "Processing Record 7 of Set 3 | butaritari\n",
      "Processing Record 8 of Set 3 | najran\n",
      "Skipping... City not found\n",
      "Processing Record 9 of Set 3 | vila\n",
      "Processing Record 10 of Set 3 | tuatapere\n",
      "Processing Record 11 of Set 3 | saint-joseph\n",
      "Processing Record 12 of Set 3 | mengyin\n",
      "Processing Record 13 of Set 3 | hirara\n",
      "Processing Record 14 of Set 3 | pevek\n",
      "Processing Record 15 of Set 3 | sinnamary\n",
      "Processing Record 16 of Set 3 | albany\n",
      "Processing Record 17 of Set 3 | anloga\n",
      "Processing Record 18 of Set 3 | qingyuan\n",
      "Processing Record 19 of Set 3 | talaya\n",
      "Processing Record 20 of Set 3 | opuwo\n",
      "Processing Record 21 of Set 3 | tashtyp\n",
      "Processing Record 22 of Set 3 | port elizabeth\n",
      "Processing Record 23 of Set 3 | panaba\n",
      "Processing Record 24 of Set 3 | ancud\n",
      "Processing Record 25 of Set 3 | addis abeba\n",
      "Processing Record 26 of Set 3 | itoman\n",
      "Processing Record 27 of Set 3 | beloha\n",
      "Processing Record 28 of Set 3 | issaquah\n",
      "Processing Record 29 of Set 3 | bathsheba\n",
      "Processing Record 30 of Set 3 | isangel\n",
      "Processing Record 31 of Set 3 | castro\n",
      "Processing Record 32 of Set 3 | cayenne\n",
      "Processing Record 33 of Set 3 | komsomolskiy\n",
      "Processing Record 34 of Set 3 | hambantota\n",
      "Processing Record 35 of Set 3 | odessa\n",
      "Processing Record 36 of Set 3 | aswan\n",
      "Skipping... City not found\n",
      "Processing Record 37 of Set 3 | ati\n",
      "Processing Record 38 of Set 3 | yuzhno-kurilsk\n",
      "Processing Record 39 of Set 3 | kodiak\n",
      "Processing Record 40 of Set 3 | provideniya\n",
      "Processing Record 41 of Set 3 | vikulovo\n",
      "Processing Record 42 of Set 3 | raga\n",
      "Processing Record 43 of Set 3 | mehamn\n",
      "Processing Record 44 of Set 3 | aklavik\n",
      "Processing Record 45 of Set 3 | saint george\n",
      "Processing Record 46 of Set 3 | otanche\n",
      "Processing Record 0 of Set 4 | uglovskoye\n",
      "Processing Record 1 of Set 4 | hasaki\n",
      "Processing Record 2 of Set 4 | sistranda\n",
      "Processing Record 3 of Set 4 | ixtapa\n",
      "Processing Record 4 of Set 4 | hilo\n",
      "Skipping... City not found\n",
      "Processing Record 5 of Set 4 | umarkot\n",
      "Skipping... City not found\n",
      "Processing Record 6 of Set 4 | fairbanks\n",
      "Processing Record 7 of Set 4 | porto nacional\n",
      "Processing Record 8 of Set 4 | cap malheureux\n",
      "Processing Record 9 of Set 4 | saint-philippe\n",
      "Processing Record 10 of Set 4 | itarema\n",
      "Processing Record 11 of Set 4 | champerico\n",
      "Processing Record 12 of Set 4 | aguas vermelhas\n",
      "Processing Record 13 of Set 4 | margate\n",
      "Processing Record 14 of Set 4 | leningradskiy\n",
      "Processing Record 15 of Set 4 | barrow\n",
      "Processing Record 16 of Set 4 | syamzha\n",
      "Processing Record 17 of Set 4 | cockburn town\n",
      "Processing Record 18 of Set 4 | karratha\n",
      "Processing Record 19 of Set 4 | valreas\n",
      "Processing Record 20 of Set 4 | port blair\n",
      "Processing Record 21 of Set 4 | quelimane\n",
      "Processing Record 22 of Set 4 | shishou\n",
      "Processing Record 23 of Set 4 | narsaq\n",
      "Processing Record 24 of Set 4 | fiumicino\n",
      "Processing Record 25 of Set 4 | nikolskoye\n",
      "Processing Record 26 of Set 4 | san jose\n",
      "Processing Record 27 of Set 4 | west bay\n",
      "Processing Record 28 of Set 4 | lakes entrance\n",
      "Processing Record 29 of Set 4 | camocim\n",
      "Processing Record 30 of Set 4 | kushima\n",
      "Processing Record 31 of Set 4 | kavieng\n",
      "Processing Record 32 of Set 4 | portland\n",
      "Processing Record 33 of Set 4 | vanavara\n",
      "Processing Record 34 of Set 4 | kahului\n",
      "Skipping... City not found\n",
      "Processing Record 35 of Set 4 | puerto baquerizo moreno\n",
      "Processing Record 36 of Set 4 | bredasdorp\n",
      "Processing Record 37 of Set 4 | mmabatho\n",
      "Processing Record 38 of Set 4 | bengkulu\n",
      "Processing Record 39 of Set 4 | puerto carreno\n",
      "Processing Record 40 of Set 4 | hun\n",
      "Processing Record 41 of Set 4 | lakselv\n",
      "Processing Record 42 of Set 4 | pleasanton\n",
      "Processing Record 43 of Set 4 | bambous virieux\n",
      "Processing Record 44 of Set 4 | kingsland\n",
      "Skipping... City not found\n",
      "Processing Record 45 of Set 4 | ponta do sol\n",
      "Skipping... City not found\n",
      "Processing Record 0 of Set 5 | kavaratti\n",
      "Skipping... City not found\n",
      "Processing Record 1 of Set 5 | goderich\n",
      "Processing Record 2 of Set 5 | cidreira\n",
      "Processing Record 3 of Set 5 | kenai\n"
     ]
    },
    {
     "name": "stdout",
     "output_type": "stream",
     "text": [
      "Processing Record 4 of Set 5 | nemuro\n",
      "Processing Record 5 of Set 5 | juneau\n",
      "Processing Record 6 of Set 5 | delijan\n",
      "Processing Record 7 of Set 5 | sao miguel do araguaia\n",
      "Processing Record 8 of Set 5 | gat\n",
      "Processing Record 9 of Set 5 | chokurdakh\n",
      "Processing Record 10 of Set 5 | hokitika\n",
      "Processing Record 11 of Set 5 | baiyin\n",
      "Processing Record 12 of Set 5 | qaqortoq\n",
      "Skipping... City not found\n",
      "Processing Record 13 of Set 5 | roald\n",
      "Processing Record 14 of Set 5 | belmonte\n",
      "Processing Record 15 of Set 5 | mar del plata\n",
      "Processing Record 16 of Set 5 | boralday\n",
      "Skipping... City not found\n",
      "Processing Record 17 of Set 5 | longyearbyen\n",
      "Processing Record 18 of Set 5 | necochea\n",
      "Processing Record 19 of Set 5 | cine\n",
      "Skipping... City not found\n",
      "Processing Record 20 of Set 5 | broken hill\n",
      "Processing Record 21 of Set 5 | filadelfia\n",
      "Processing Record 22 of Set 5 | mecca\n",
      "Skipping... City not found\n",
      "Skipping... City not found\n",
      "Processing Record 23 of Set 5 | taoudenni\n",
      "Processing Record 24 of Set 5 | bubaque\n",
      "Processing Record 25 of Set 5 | kupang\n",
      "Processing Record 26 of Set 5 | port hedland\n",
      "Processing Record 27 of Set 5 | rio gallegos\n",
      "Processing Record 28 of Set 5 | coquimbo\n",
      "Processing Record 29 of Set 5 | erenhot\n",
      "Processing Record 30 of Set 5 | zuwarah\n",
      "Processing Record 31 of Set 5 | avera\n",
      "Processing Record 32 of Set 5 | tarancon\n",
      "Processing Record 33 of Set 5 | srednekolymsk\n",
      "Processing Record 34 of Set 5 | marrakesh\n",
      "Skipping... City not found\n",
      "Processing Record 35 of Set 5 | kruisfontein\n",
      "Skipping... City not found\n",
      "Processing Record 36 of Set 5 | collie\n",
      "Processing Record 37 of Set 5 | cape town\n",
      "Processing Record 38 of Set 5 | rumonge\n",
      "Processing Record 39 of Set 5 | cascais\n",
      "Processing Record 40 of Set 5 | chuy\n",
      "Processing Record 0 of Set 6 | los llanos de aridane\n",
      "Processing Record 1 of Set 6 | guerrero negro\n",
      "Processing Record 2 of Set 6 | oranienburg\n",
      "Processing Record 3 of Set 6 | hofn\n",
      "Processing Record 4 of Set 6 | tulum\n",
      "Processing Record 5 of Set 6 | storm lake\n",
      "Processing Record 6 of Set 6 | sorland\n",
      "Processing Record 7 of Set 6 | asfi\n",
      "Processing Record 8 of Set 6 | jinchang\n",
      "Processing Record 9 of Set 6 | neuquen\n",
      "Processing Record 10 of Set 6 | adrar\n",
      "Processing Record 11 of Set 6 | saint-pierre\n",
      "Processing Record 12 of Set 6 | huayang\n",
      "Skipping... City not found\n",
      "Processing Record 13 of Set 6 | sretensk\n",
      "Processing Record 14 of Set 6 | varnamo\n",
      "Processing Record 15 of Set 6 | ishigaki\n",
      "Processing Record 16 of Set 6 | la rioja\n",
      "Processing Record 17 of Set 6 | kirov\n",
      "Processing Record 18 of Set 6 | andrushivka\n",
      "Processing Record 19 of Set 6 | fortuna\n",
      "Processing Record 20 of Set 6 | aykhal\n",
      "Processing Record 21 of Set 6 | genhe\n",
      "Processing Record 22 of Set 6 | kashi\n",
      "Processing Record 23 of Set 6 | great falls\n",
      "Processing Record 24 of Set 6 | korkmaskala\n",
      "Processing Record 25 of Set 6 | zhangye\n",
      "Processing Record 26 of Set 6 | soe\n",
      "Processing Record 27 of Set 6 | ilinskiy\n",
      "Processing Record 28 of Set 6 | porto novo\n",
      "Processing Record 29 of Set 6 | morden\n",
      "Skipping... City not found\n",
      "Processing Record 30 of Set 6 | jizan\n",
      "Processing Record 31 of Set 6 | krasnoselkup\n",
      "Processing Record 32 of Set 6 | vila velha\n",
      "Processing Record 33 of Set 6 | kushmurun\n",
      "Processing Record 34 of Set 6 | talcahuano\n",
      "Processing Record 35 of Set 6 | goure\n",
      "Processing Record 36 of Set 6 | bilokurakyne\n",
      "Processing Record 37 of Set 6 | save\n",
      "Processing Record 38 of Set 6 | tongzhou\n",
      "Processing Record 39 of Set 6 | port hueneme\n",
      "Processing Record 40 of Set 6 | naze\n",
      "Processing Record 41 of Set 6 | lewiston\n",
      "Processing Record 42 of Set 6 | sungairaya\n",
      "Skipping... City not found\n",
      "Processing Record 43 of Set 6 | lensk\n",
      "Processing Record 44 of Set 6 | olinda\n",
      "Processing Record 45 of Set 6 | prince rupert\n",
      "Processing Record 46 of Set 6 | charters towers\n",
      "Processing Record 0 of Set 7 | ojinaga\n",
      "Processing Record 1 of Set 7 | sao pedro\n",
      "Processing Record 2 of Set 7 | nanortalik\n",
      "Skipping... City not found\n",
      "Processing Record 3 of Set 7 | oshkosh\n",
      "Processing Record 4 of Set 7 | lafia\n",
      "Processing Record 5 of Set 7 | mizan teferi\n",
      "Processing Record 6 of Set 7 | vadso\n",
      "Processing Record 7 of Set 7 | barabinsk\n",
      "Processing Record 8 of Set 7 | iracoubo\n",
      "Processing Record 9 of Set 7 | lorengau\n",
      "Processing Record 10 of Set 7 | jaumave\n",
      "Processing Record 11 of Set 7 | pacific grove\n",
      "Processing Record 12 of Set 7 | ulladulla\n",
      "Skipping... City not found\n",
      "Skipping... City not found\n",
      "Processing Record 13 of Set 7 | ciudad bolivar\n",
      "Processing Record 14 of Set 7 | presidencia roque saenz pena\n",
      "Processing Record 15 of Set 7 | verkhoyansk\n",
      "Processing Record 16 of Set 7 | santa ines\n",
      "Processing Record 17 of Set 7 | plavsk\n",
      "Processing Record 18 of Set 7 | bisho\n",
      "Processing Record 19 of Set 7 | tigil\n",
      "Processing Record 20 of Set 7 | clyde river\n",
      "Processing Record 21 of Set 7 | whitehorse\n",
      "Processing Record 22 of Set 7 | beringovskiy\n",
      "Processing Record 23 of Set 7 | moron\n",
      "Processing Record 24 of Set 7 | verkhnyaya sinyachikha\n",
      "Processing Record 25 of Set 7 | machico\n",
      "Processing Record 26 of Set 7 | puerto vallarta\n",
      "Processing Record 27 of Set 7 | hobyo\n",
      "Processing Record 28 of Set 7 | dorado\n",
      "Processing Record 29 of Set 7 | akyab\n",
      "Processing Record 30 of Set 7 | lavrentiya\n",
      "Processing Record 31 of Set 7 | ampanihy\n",
      "Processing Record 32 of Set 7 | udankudi\n",
      "Processing Record 33 of Set 7 | severo-kurilsk\n",
      "Processing Record 34 of Set 7 | nawa\n",
      "Processing Record 35 of Set 7 | weihai\n",
      "Processing Record 36 of Set 7 | ugra\n",
      "Processing Record 37 of Set 7 | broome\n",
      "Processing Record 38 of Set 7 | lata\n",
      "Processing Record 39 of Set 7 | agnibilekrou\n",
      "Processing Record 40 of Set 7 | katobu\n",
      "Processing Record 41 of Set 7 | kununurra\n",
      "Processing Record 42 of Set 7 | sao desiderio\n",
      "Processing Record 43 of Set 7 | tete\n",
      "Processing Record 44 of Set 7 | samarai\n",
      "Processing Record 45 of Set 7 | berbera\n",
      "Processing Record 46 of Set 7 | arua\n",
      "Skipping... City not found\n",
      "Processing Record 0 of Set 8 | anadyr\n",
      "Processing Record 1 of Set 8 | bogdanovich\n",
      "Skipping... City not found\n",
      "Processing Record 2 of Set 8 | kayerkan\n",
      "Processing Record 3 of Set 8 | bismarck\n",
      "Processing Record 4 of Set 8 | uyemskiy\n",
      "Processing Record 5 of Set 8 | heidelberg\n",
      "Processing Record 6 of Set 8 | inirida\n",
      "Processing Record 7 of Set 8 | bilibino\n",
      "Processing Record 8 of Set 8 | dicabisagan\n",
      "Processing Record 9 of Set 8 | denizli\n",
      "Processing Record 10 of Set 8 | airai\n",
      "Processing Record 11 of Set 8 | svobodnyy\n",
      "Processing Record 12 of Set 8 | zhigansk\n",
      "Skipping... City not found\n",
      "Processing Record 13 of Set 8 | floriano\n",
      "Processing Record 14 of Set 8 | ostrovnoy\n",
      "Processing Record 15 of Set 8 | pangnirtung\n",
      "Processing Record 16 of Set 8 | tessalit\n",
      "Processing Record 17 of Set 8 | harnosand\n",
      "Processing Record 18 of Set 8 | sitka\n",
      "Processing Record 19 of Set 8 | belyy yar\n",
      "Processing Record 20 of Set 8 | moindou\n",
      "Processing Record 21 of Set 8 | bertoua\n",
      "Processing Record 22 of Set 8 | kaduna\n",
      "Processing Record 23 of Set 8 | malinyi\n",
      "Processing Record 24 of Set 8 | salinopolis\n",
      "Processing Record 25 of Set 8 | scarborough\n",
      "Processing Record 26 of Set 8 | norman wells\n",
      "Processing Record 27 of Set 8 | natitingou\n",
      "Processing Record 28 of Set 8 | leshukonskoye\n",
      "Processing Record 29 of Set 8 | north bend\n",
      "Processing Record 30 of Set 8 | santa maria\n",
      "Skipping... City not found\n",
      "Processing Record 31 of Set 8 | manching\n",
      "Processing Record 32 of Set 8 | port lincoln\n",
      "Processing Record 33 of Set 8 | klaksvik\n",
      "Processing Record 34 of Set 8 | jesup\n",
      "Processing Record 35 of Set 8 | alibag\n",
      "Skipping... City not found\n",
      "Processing Record 36 of Set 8 | atar\n",
      "Processing Record 37 of Set 8 | sobolevo\n",
      "Processing Record 38 of Set 8 | meadow lake\n",
      "Processing Record 39 of Set 8 | eureka\n",
      "Processing Record 40 of Set 8 | dakar\n",
      "Processing Record 41 of Set 8 | hargeysa\n",
      "Processing Record 42 of Set 8 | henties bay\n",
      "Processing Record 43 of Set 8 | bay-khaak\n",
      "Skipping... City not found\n",
      "Processing Record 0 of Set 9 | rio grande\n",
      "Processing Record 1 of Set 9 | bamboo\n",
      "Processing Record 2 of Set 9 | mahibadhoo\n",
      "Skipping... City not found\n",
      "Processing Record 3 of Set 9 | ukiah\n",
      "Processing Record 4 of Set 9 | bentiu\n",
      "Processing Record 5 of Set 9 | sapernoye\n",
      "Processing Record 6 of Set 9 | tobol\n",
      "Processing Record 7 of Set 9 | nsanje\n",
      "Processing Record 8 of Set 9 | kumla\n",
      "Processing Record 9 of Set 9 | kudahuvadhoo\n",
      "Processing Record 10 of Set 9 | sao francisco\n"
     ]
    },
    {
     "name": "stdout",
     "output_type": "stream",
     "text": [
      "Processing Record 11 of Set 9 | semibratovo\n",
      "Processing Record 12 of Set 9 | puerto colombia\n",
      "Processing Record 13 of Set 9 | narasannapeta\n",
      "Processing Record 14 of Set 9 | george town\n",
      "Processing Record 15 of Set 9 | labytnangi\n",
      "Processing Record 16 of Set 9 | novikovo\n",
      "Processing Record 17 of Set 9 | lebu\n",
      "Processing Record 18 of Set 9 | inta\n",
      "Processing Record 19 of Set 9 | port hawkesbury\n",
      "Processing Record 20 of Set 9 | tagusao\n",
      "Processing Record 21 of Set 9 | kismayo\n",
      "Processing Record 22 of Set 9 | carbonia\n",
      "Skipping... City not found\n",
      "Processing Record 23 of Set 9 | skjervoy\n",
      "Processing Record 24 of Set 9 | bondowoso\n",
      "Processing Record 25 of Set 9 | grand gaube\n",
      "Processing Record 26 of Set 9 | sao felipe\n",
      "Processing Record 27 of Set 9 | mahajanga\n",
      "Processing Record 28 of Set 9 | nhamunda\n",
      "Processing Record 29 of Set 9 | hualmay\n",
      "Processing Record 30 of Set 9 | ahipara\n",
      "Processing Record 31 of Set 9 | rocha\n",
      "Processing Record 32 of Set 9 | aranos\n",
      "Skipping... City not found\n",
      "Processing Record 33 of Set 9 | disna\n",
      "Processing Record 34 of Set 9 | nizwa\n",
      "Processing Record 35 of Set 9 | san vicente\n",
      "Processing Record 36 of Set 9 | gawler\n",
      "Processing Record 37 of Set 9 | ruzomberok\n",
      "Processing Record 38 of Set 9 | manado\n",
      "Processing Record 39 of Set 9 | timra\n",
      "Skipping... City not found\n",
      "Processing Record 40 of Set 9 | codrington\n",
      "Processing Record 41 of Set 9 | kitimat\n",
      "Processing Record 42 of Set 9 | kijang\n",
      "Processing Record 43 of Set 9 | muros\n",
      "Processing Record 44 of Set 9 | laguna\n",
      "Processing Record 45 of Set 9 | sandnessjoen\n",
      "Processing Record 0 of Set 10 | bara\n",
      "Processing Record 1 of Set 10 | maniitsoq\n",
      "Processing Record 2 of Set 10 | bani\n",
      "Processing Record 3 of Set 10 | kungurtug\n",
      "Processing Record 4 of Set 10 | poronaysk\n",
      "Processing Record 5 of Set 10 | tiznit\n",
      "Processing Record 6 of Set 10 | waingapu\n",
      "Processing Record 7 of Set 10 | puri\n",
      "Processing Record 8 of Set 10 | mayo\n",
      "Processing Record 9 of Set 10 | ambilobe\n",
      "Processing Record 10 of Set 10 | vao\n",
      "Processing Record 11 of Set 10 | banjarmasin\n",
      "Processing Record 12 of Set 10 | la palma\n",
      "Processing Record 13 of Set 10 | kuching\n",
      "Processing Record 14 of Set 10 | marsaxlokk\n",
      "Processing Record 15 of Set 10 | verkhoshizhemye\n",
      "Processing Record 16 of Set 10 | puerto madryn\n",
      "Processing Record 17 of Set 10 | shakhtinsk\n",
      "Processing Record 18 of Set 10 | togur\n",
      "Processing Record 19 of Set 10 | tipuani\n",
      "Processing Record 20 of Set 10 | awjilah\n",
      "Skipping... City not found\n",
      "Processing Record 21 of Set 10 | atambua\n",
      "Processing Record 22 of Set 10 | darhan\n",
      "Processing Record 23 of Set 10 | plettenberg bay\n",
      "Processing Record 24 of Set 10 | basco\n",
      "Processing Record 25 of Set 10 | ribeira brava\n",
      "Processing Record 26 of Set 10 | lashio\n",
      "Processing Record 27 of Set 10 | westport\n",
      "Skipping... City not found\n",
      "Processing Record 28 of Set 10 | hovd\n",
      "Processing Record 29 of Set 10 | pangody\n",
      "Processing Record 30 of Set 10 | roebourne\n",
      "Processing Record 31 of Set 10 | asau\n",
      "Processing Record 32 of Set 10 | sioux lookout\n",
      "Processing Record 33 of Set 10 | chicama\n",
      "Processing Record 34 of Set 10 | drayton valley\n",
      "Processing Record 35 of Set 10 | maizieres-les-metz\n",
      "Processing Record 36 of Set 10 | usinsk\n",
      "Processing Record 37 of Set 10 | yerbogachen\n",
      "Processing Record 38 of Set 10 | el cope\n",
      "Processing Record 39 of Set 10 | los alamos\n",
      "Processing Record 40 of Set 10 | santa cruz\n",
      "Processing Record 41 of Set 10 | chernyshevsk\n",
      "Processing Record 42 of Set 10 | awbari\n",
      "Skipping... City not found\n",
      "Processing Record 43 of Set 10 | monroe\n",
      "Processing Record 44 of Set 10 | atasu\n",
      "Processing Record 45 of Set 10 | thinadhoo\n",
      "Processing Record 46 of Set 10 | ambovombe\n",
      "Processing Record 0 of Set 11 | caravelas\n",
      "Processing Record 1 of Set 11 | zyryanovsk\n",
      "Processing Record 2 of Set 11 | buchanan\n",
      "Processing Record 3 of Set 11 | chushan\n",
      "Processing Record 4 of Set 11 | aksu\n",
      "Processing Record 5 of Set 11 | moyobamba\n",
      "Processing Record 6 of Set 11 | vardo\n",
      "Processing Record 7 of Set 11 | pisco\n",
      "Skipping... City not found\n",
      "Processing Record 8 of Set 11 | chatakonda\n",
      "Processing Record 9 of Set 11 | olafsvik\n",
      "Skipping... City not found\n",
      "Processing Record 10 of Set 11 | safaga\n",
      "Processing Record 11 of Set 11 | bac lieu\n",
      "Processing Record 12 of Set 11 | young\n",
      "Processing Record 13 of Set 11 | pundaguitan\n",
      "Processing Record 14 of Set 11 | tual\n",
      "Processing Record 15 of Set 11 | grand baie\n",
      "Processing Record 16 of Set 11 | riachao das neves\n",
      "Processing Record 17 of Set 11 | vanderhoof\n",
      "Processing Record 18 of Set 11 | tura\n",
      "Processing Record 19 of Set 11 | morbach\n",
      "Processing Record 20 of Set 11 | turayf\n",
      "Processing Record 21 of Set 11 | clarence town\n",
      "Processing Record 22 of Set 11 | mamaku\n",
      "Skipping... City not found\n",
      "Processing Record 23 of Set 11 | palu\n",
      "Processing Record 24 of Set 11 | galveston\n",
      "Processing Record 25 of Set 11 | mosina\n",
      "Processing Record 26 of Set 11 | vila do maio\n",
      "Processing Record 27 of Set 11 | fort nelson\n",
      "Processing Record 28 of Set 11 | turukhansk\n",
      "Processing Record 29 of Set 11 | la llanada\n",
      "Processing Record 30 of Set 11 | ilhabela\n",
      "Skipping... City not found\n",
      "Processing Record 31 of Set 11 | tautira\n",
      "Skipping... City not found\n",
      "Processing Record 32 of Set 11 | souillac\n",
      "Processing Record 33 of Set 11 | tolaga bay\n",
      "Processing Record 34 of Set 11 | hamilton\n",
      "Processing Record 35 of Set 11 | montoro\n",
      "Processing Record 36 of Set 11 | naron\n",
      "Processing Record 37 of Set 11 | nabire\n",
      "Processing Record 38 of Set 11 | asyut\n",
      "Processing Record 39 of Set 11 | parczew\n",
      "Skipping... City not found\n",
      "Processing Record 40 of Set 11 | xingcheng\n",
      "Processing Record 41 of Set 11 | general roca\n",
      "Processing Record 42 of Set 11 | risod\n",
      "Processing Record 43 of Set 11 | ballina\n",
      "Processing Record 0 of Set 12 | brokopondo\n",
      "Processing Record 1 of Set 12 | kholtoson\n",
      "Skipping... City not found\n",
      "Processing Record 2 of Set 12 | sikar\n",
      "Processing Record 3 of Set 12 | faya\n",
      "Processing Record 4 of Set 12 | seminole\n",
      "Processing Record 5 of Set 12 | ormara\n",
      "Processing Record 6 of Set 12 | manokwari\n",
      "Processing Record 7 of Set 12 | mopipi\n",
      "Processing Record 8 of Set 12 | davila\n",
      "Processing Record 9 of Set 12 | nome\n",
      "Processing Record 10 of Set 12 | inhambane\n",
      "Processing Record 11 of Set 12 | howard springs\n",
      "Processing Record 12 of Set 12 | birao\n",
      "Processing Record 13 of Set 12 | diu\n",
      "Processing Record 14 of Set 12 | wanlaweyn\n",
      "Skipping... City not found\n",
      "Skipping... City not found\n",
      "Processing Record 15 of Set 12 | college\n",
      "Processing Record 16 of Set 12 | vagur\n",
      "Processing Record 17 of Set 12 | kloulklubed\n",
      "Processing Record 18 of Set 12 | ketchikan\n",
      "Processing Record 19 of Set 12 | aksarka\n",
      "Processing Record 20 of Set 12 | noumea\n",
      "Processing Record 21 of Set 12 | port augusta\n",
      "Skipping... City not found\n",
      "Processing Record 22 of Set 12 | acajutla\n",
      "Skipping... City not found\n",
      "Skipping... City not found\n",
      "Processing Record 23 of Set 12 | balad\n",
      "Processing Record 24 of Set 12 | la ronge\n",
      "Processing Record 25 of Set 12 | arequipa\n",
      "Processing Record 26 of Set 12 | ayr\n",
      "Processing Record 27 of Set 12 | dhidhdhoo\n",
      "Processing Record 28 of Set 12 | malinovoye ozero\n",
      "Processing Record 29 of Set 12 | huarmey\n",
      "Processing Record 30 of Set 12 | bayanday\n",
      "Processing Record 31 of Set 12 | lucea\n",
      "Processing Record 32 of Set 12 | qasigiannguit\n",
      "Processing Record 33 of Set 12 | kalmunai\n",
      "Processing Record 34 of Set 12 | saskylakh\n",
      "Processing Record 35 of Set 12 | mae hong son\n",
      "Processing Record 36 of Set 12 | bagdarin\n",
      "Processing Record 37 of Set 12 | grand-santi\n",
      "Processing Record 38 of Set 12 | yerkoy\n",
      "Processing Record 39 of Set 12 | nouadhibou\n",
      "Processing Record 40 of Set 12 | ugoofaaru\n",
      "Processing Record 41 of Set 12 | nalut\n",
      "Skipping... City not found\n",
      "Processing Record 42 of Set 12 | kuytun\n",
      "Processing Record 0 of Set 13 | terrace\n",
      "Processing Record 1 of Set 13 | keti bandar\n",
      "Processing Record 2 of Set 13 | shaunavon\n",
      "Skipping... City not found\n",
      "Processing Record 3 of Set 13 | yurga\n",
      "Processing Record 4 of Set 13 | upata\n",
      "Processing Record 5 of Set 13 | batagay-alyta\n",
      "Processing Record 6 of Set 13 | koslan\n",
      "Processing Record 7 of Set 13 | olga\n"
     ]
    }
   ],
   "source": [
    "print('Beginning Data Retrieval')\n",
    "print('~~~~~~~~~~~~~~~~~~~~~~~~')\n",
    "\n",
    "# make counters\n",
    "set_count = 1\n",
    "record_count = 1\n",
    "city_data = []\n",
    "\n",
    "# loop through all the cities in the cities list\n",
    "for i, city in enumerate (cities):\n",
    "    #grouping cities in groups of 50\n",
    "    if i%50 == 0 and i >= 50:\n",
    "        set_count = set_count + 1\n",
    "        record_count = 0\n",
    "    #print(f'Processing Record {record_count} of Set {set_count} | {city}')\n",
    "    \n",
    "    \n",
    "    city_url = f'http://api.openweathermap.org/data/2.5/weather?appid={weather_api_key}&q={city}'\n",
    "    \n",
    "    cityweather = requests.get(city_url).json()\n",
    "    if \"message\" in cityweather:\n",
    "        if cityweather[\"message\"]==\"city not found\":\n",
    "            print('Skipping... City not found')\n",
    "    else:\n",
    "        print(f'Processing Record {record_count} of Set {set_count} | {city}')\n",
    "        record_count = record_count + 1\n",
    "        citylat = cityweather['coord']['lat']\n",
    "        citylong = cityweather['coord']['lon']\n",
    "        maxtemp = cityweather['main']['temp_max']\n",
    "        humidity = cityweather['main']['humidity']\n",
    "        clouds = cityweather['clouds']['all']\n",
    "        wind = cityweather['wind']['speed']\n",
    "        country = cityweather['sys']['country']\n",
    "        date = cityweather['dt']\n",
    "        \n",
    "        city_data.append({'City': city,\n",
    "                         'Latitude': citylat,\n",
    "                         'Longitude': citylong,\n",
    "                         'Maximum Temperature': maxtemp,\n",
    "                         'Humidity': humidity,\n",
    "                         'Cloud Cover': clouds,\n",
    "                         'Wind Speed': wind,\n",
    "                         'Country': country,\n",
    "                         'Date': date})\n",
    "        \n",
    "    #print(cityweather)\n",
    "    "
   ]
  },
  {
   "cell_type": "markdown",
   "metadata": {},
   "source": [
    "### Convert Raw Data to DataFrame\n",
    "* Export the city data into a .csv.\n",
    "* Display the DataFrame"
   ]
  },
  {
   "cell_type": "code",
   "execution_count": 5,
   "metadata": {},
   "outputs": [
    {
     "data": {
      "text/html": [
       "<div>\n",
       "<style scoped>\n",
       "    .dataframe tbody tr th:only-of-type {\n",
       "        vertical-align: middle;\n",
       "    }\n",
       "\n",
       "    .dataframe tbody tr th {\n",
       "        vertical-align: top;\n",
       "    }\n",
       "\n",
       "    .dataframe thead th {\n",
       "        text-align: right;\n",
       "    }\n",
       "</style>\n",
       "<table border=\"1\" class=\"dataframe\">\n",
       "  <thead>\n",
       "    <tr style=\"text-align: right;\">\n",
       "      <th></th>\n",
       "      <th>City</th>\n",
       "      <th>Latitude</th>\n",
       "      <th>Longitude</th>\n",
       "      <th>Maximum Temperature</th>\n",
       "      <th>Humidity</th>\n",
       "      <th>Cloud Cover</th>\n",
       "      <th>Wind Speed</th>\n",
       "      <th>Country</th>\n",
       "      <th>Date</th>\n",
       "    </tr>\n",
       "  </thead>\n",
       "  <tbody>\n",
       "    <tr>\n",
       "      <th>0</th>\n",
       "      <td>avarua</td>\n",
       "      <td>-21.21</td>\n",
       "      <td>-159.78</td>\n",
       "      <td>299.15</td>\n",
       "      <td>69</td>\n",
       "      <td>96</td>\n",
       "      <td>6.20</td>\n",
       "      <td>CK</td>\n",
       "      <td>1591757261</td>\n",
       "    </tr>\n",
       "    <tr>\n",
       "      <th>1</th>\n",
       "      <td>te anau</td>\n",
       "      <td>-45.42</td>\n",
       "      <td>167.72</td>\n",
       "      <td>284.21</td>\n",
       "      <td>63</td>\n",
       "      <td>29</td>\n",
       "      <td>4.30</td>\n",
       "      <td>NZ</td>\n",
       "      <td>1591757260</td>\n",
       "    </tr>\n",
       "    <tr>\n",
       "      <th>2</th>\n",
       "      <td>acara</td>\n",
       "      <td>-1.96</td>\n",
       "      <td>-48.20</td>\n",
       "      <td>295.64</td>\n",
       "      <td>98</td>\n",
       "      <td>100</td>\n",
       "      <td>0.83</td>\n",
       "      <td>BR</td>\n",
       "      <td>1591757506</td>\n",
       "    </tr>\n",
       "    <tr>\n",
       "      <th>3</th>\n",
       "      <td>hobart</td>\n",
       "      <td>-42.88</td>\n",
       "      <td>147.33</td>\n",
       "      <td>286.48</td>\n",
       "      <td>47</td>\n",
       "      <td>75</td>\n",
       "      <td>5.70</td>\n",
       "      <td>AU</td>\n",
       "      <td>1591757366</td>\n",
       "    </tr>\n",
       "    <tr>\n",
       "      <th>4</th>\n",
       "      <td>jamestown</td>\n",
       "      <td>42.10</td>\n",
       "      <td>-79.24</td>\n",
       "      <td>298.15</td>\n",
       "      <td>53</td>\n",
       "      <td>1</td>\n",
       "      <td>2.10</td>\n",
       "      <td>US</td>\n",
       "      <td>1591757506</td>\n",
       "    </tr>\n",
       "    <tr>\n",
       "      <th>...</th>\n",
       "      <td>...</td>\n",
       "      <td>...</td>\n",
       "      <td>...</td>\n",
       "      <td>...</td>\n",
       "      <td>...</td>\n",
       "      <td>...</td>\n",
       "      <td>...</td>\n",
       "      <td>...</td>\n",
       "      <td>...</td>\n",
       "    </tr>\n",
       "    <tr>\n",
       "      <th>545</th>\n",
       "      <td>yurga</td>\n",
       "      <td>55.72</td>\n",
       "      <td>84.89</td>\n",
       "      <td>285.89</td>\n",
       "      <td>83</td>\n",
       "      <td>100</td>\n",
       "      <td>2.40</td>\n",
       "      <td>RU</td>\n",
       "      <td>1591757562</td>\n",
       "    </tr>\n",
       "    <tr>\n",
       "      <th>546</th>\n",
       "      <td>upata</td>\n",
       "      <td>8.01</td>\n",
       "      <td>-62.40</td>\n",
       "      <td>300.37</td>\n",
       "      <td>82</td>\n",
       "      <td>63</td>\n",
       "      <td>0.45</td>\n",
       "      <td>VE</td>\n",
       "      <td>1591757562</td>\n",
       "    </tr>\n",
       "    <tr>\n",
       "      <th>547</th>\n",
       "      <td>batagay-alyta</td>\n",
       "      <td>67.80</td>\n",
       "      <td>130.41</td>\n",
       "      <td>278.24</td>\n",
       "      <td>67</td>\n",
       "      <td>100</td>\n",
       "      <td>3.78</td>\n",
       "      <td>RU</td>\n",
       "      <td>1591757401</td>\n",
       "    </tr>\n",
       "    <tr>\n",
       "      <th>548</th>\n",
       "      <td>koslan</td>\n",
       "      <td>63.46</td>\n",
       "      <td>48.90</td>\n",
       "      <td>294.12</td>\n",
       "      <td>69</td>\n",
       "      <td>100</td>\n",
       "      <td>4.44</td>\n",
       "      <td>RU</td>\n",
       "      <td>1591757562</td>\n",
       "    </tr>\n",
       "    <tr>\n",
       "      <th>549</th>\n",
       "      <td>olga</td>\n",
       "      <td>43.74</td>\n",
       "      <td>135.29</td>\n",
       "      <td>296.50</td>\n",
       "      <td>63</td>\n",
       "      <td>100</td>\n",
       "      <td>2.93</td>\n",
       "      <td>RU</td>\n",
       "      <td>1591757562</td>\n",
       "    </tr>\n",
       "  </tbody>\n",
       "</table>\n",
       "<p>550 rows × 9 columns</p>\n",
       "</div>"
      ],
      "text/plain": [
       "              City  Latitude  Longitude  Maximum Temperature  Humidity  \\\n",
       "0           avarua    -21.21    -159.78               299.15        69   \n",
       "1          te anau    -45.42     167.72               284.21        63   \n",
       "2            acara     -1.96     -48.20               295.64        98   \n",
       "3           hobart    -42.88     147.33               286.48        47   \n",
       "4        jamestown     42.10     -79.24               298.15        53   \n",
       "..             ...       ...        ...                  ...       ...   \n",
       "545          yurga     55.72      84.89               285.89        83   \n",
       "546          upata      8.01     -62.40               300.37        82   \n",
       "547  batagay-alyta     67.80     130.41               278.24        67   \n",
       "548         koslan     63.46      48.90               294.12        69   \n",
       "549           olga     43.74     135.29               296.50        63   \n",
       "\n",
       "     Cloud Cover  Wind Speed Country        Date  \n",
       "0             96        6.20      CK  1591757261  \n",
       "1             29        4.30      NZ  1591757260  \n",
       "2            100        0.83      BR  1591757506  \n",
       "3             75        5.70      AU  1591757366  \n",
       "4              1        2.10      US  1591757506  \n",
       "..           ...         ...     ...         ...  \n",
       "545          100        2.40      RU  1591757562  \n",
       "546           63        0.45      VE  1591757562  \n",
       "547          100        3.78      RU  1591757401  \n",
       "548          100        4.44      RU  1591757562  \n",
       "549          100        2.93      RU  1591757562  \n",
       "\n",
       "[550 rows x 9 columns]"
      ]
     },
     "execution_count": 5,
     "metadata": {},
     "output_type": "execute_result"
    }
   ],
   "source": [
    "cityweather_df = pd.DataFrame(city_data)\n",
    "\n",
    "cityweather_df"
   ]
  },
  {
   "cell_type": "code",
   "execution_count": 6,
   "metadata": {},
   "outputs": [],
   "source": [
    "outputpath = 'output_cities.csv'\n",
    "cityweather_df.to_csv(outputpath, index_label = 'City ID')"
   ]
  },
  {
   "cell_type": "markdown",
   "metadata": {},
   "source": [
    "## Inspect the data and remove the cities where the humidity > 100%.\n",
    "----\n",
    "Skip this step if there are no cities that have humidity > 100%. "
   ]
  },
  {
   "cell_type": "code",
   "execution_count": 7,
   "metadata": {},
   "outputs": [
    {
     "data": {
      "text/html": [
       "<div>\n",
       "<style scoped>\n",
       "    .dataframe tbody tr th:only-of-type {\n",
       "        vertical-align: middle;\n",
       "    }\n",
       "\n",
       "    .dataframe tbody tr th {\n",
       "        vertical-align: top;\n",
       "    }\n",
       "\n",
       "    .dataframe thead th {\n",
       "        text-align: right;\n",
       "    }\n",
       "</style>\n",
       "<table border=\"1\" class=\"dataframe\">\n",
       "  <thead>\n",
       "    <tr style=\"text-align: right;\">\n",
       "      <th></th>\n",
       "      <th>Latitude</th>\n",
       "      <th>Longitude</th>\n",
       "      <th>Maximum Temperature</th>\n",
       "      <th>Humidity</th>\n",
       "      <th>Cloud Cover</th>\n",
       "      <th>Wind Speed</th>\n",
       "      <th>Date</th>\n",
       "    </tr>\n",
       "  </thead>\n",
       "  <tbody>\n",
       "    <tr>\n",
       "      <th>count</th>\n",
       "      <td>550.000000</td>\n",
       "      <td>550.000000</td>\n",
       "      <td>550.000000</td>\n",
       "      <td>550.000000</td>\n",
       "      <td>550.000000</td>\n",
       "      <td>550.000000</td>\n",
       "      <td>5.500000e+02</td>\n",
       "    </tr>\n",
       "    <tr>\n",
       "      <th>mean</th>\n",
       "      <td>21.051109</td>\n",
       "      <td>18.878418</td>\n",
       "      <td>292.443527</td>\n",
       "      <td>70.358182</td>\n",
       "      <td>51.725455</td>\n",
       "      <td>3.650600</td>\n",
       "      <td>1.591757e+09</td>\n",
       "    </tr>\n",
       "    <tr>\n",
       "      <th>std</th>\n",
       "      <td>34.023491</td>\n",
       "      <td>88.523720</td>\n",
       "      <td>7.770154</td>\n",
       "      <td>20.952911</td>\n",
       "      <td>39.323226</td>\n",
       "      <td>2.407716</td>\n",
       "      <td>1.233266e+02</td>\n",
       "    </tr>\n",
       "    <tr>\n",
       "      <th>min</th>\n",
       "      <td>-54.800000</td>\n",
       "      <td>-175.200000</td>\n",
       "      <td>270.850000</td>\n",
       "      <td>1.000000</td>\n",
       "      <td>0.000000</td>\n",
       "      <td>0.100000</td>\n",
       "      <td>1.591757e+09</td>\n",
       "    </tr>\n",
       "    <tr>\n",
       "      <th>25%</th>\n",
       "      <td>-7.572500</td>\n",
       "      <td>-56.570000</td>\n",
       "      <td>287.040000</td>\n",
       "      <td>57.000000</td>\n",
       "      <td>6.000000</td>\n",
       "      <td>1.845000</td>\n",
       "      <td>1.591757e+09</td>\n",
       "    </tr>\n",
       "    <tr>\n",
       "      <th>50%</th>\n",
       "      <td>24.750000</td>\n",
       "      <td>25.600000</td>\n",
       "      <td>292.845000</td>\n",
       "      <td>76.000000</td>\n",
       "      <td>58.500000</td>\n",
       "      <td>3.100000</td>\n",
       "      <td>1.591758e+09</td>\n",
       "    </tr>\n",
       "    <tr>\n",
       "      <th>75%</th>\n",
       "      <td>50.695000</td>\n",
       "      <td>92.472500</td>\n",
       "      <td>298.330000</td>\n",
       "      <td>87.000000</td>\n",
       "      <td>90.000000</td>\n",
       "      <td>4.887500</td>\n",
       "      <td>1.591758e+09</td>\n",
       "    </tr>\n",
       "    <tr>\n",
       "      <th>max</th>\n",
       "      <td>78.220000</td>\n",
       "      <td>179.320000</td>\n",
       "      <td>307.710000</td>\n",
       "      <td>100.000000</td>\n",
       "      <td>100.000000</td>\n",
       "      <td>13.400000</td>\n",
       "      <td>1.591758e+09</td>\n",
       "    </tr>\n",
       "  </tbody>\n",
       "</table>\n",
       "</div>"
      ],
      "text/plain": [
       "         Latitude   Longitude  Maximum Temperature    Humidity  Cloud Cover  \\\n",
       "count  550.000000  550.000000           550.000000  550.000000   550.000000   \n",
       "mean    21.051109   18.878418           292.443527   70.358182    51.725455   \n",
       "std     34.023491   88.523720             7.770154   20.952911    39.323226   \n",
       "min    -54.800000 -175.200000           270.850000    1.000000     0.000000   \n",
       "25%     -7.572500  -56.570000           287.040000   57.000000     6.000000   \n",
       "50%     24.750000   25.600000           292.845000   76.000000    58.500000   \n",
       "75%     50.695000   92.472500           298.330000   87.000000    90.000000   \n",
       "max     78.220000  179.320000           307.710000  100.000000   100.000000   \n",
       "\n",
       "       Wind Speed          Date  \n",
       "count  550.000000  5.500000e+02  \n",
       "mean     3.650600  1.591757e+09  \n",
       "std      2.407716  1.233266e+02  \n",
       "min      0.100000  1.591757e+09  \n",
       "25%      1.845000  1.591757e+09  \n",
       "50%      3.100000  1.591758e+09  \n",
       "75%      4.887500  1.591758e+09  \n",
       "max     13.400000  1.591758e+09  "
      ]
     },
     "execution_count": 7,
     "metadata": {},
     "output_type": "execute_result"
    }
   ],
   "source": [
    "cityweather_df.describe()"
   ]
  },
  {
   "cell_type": "code",
   "execution_count": 8,
   "metadata": {},
   "outputs": [],
   "source": [
    "#  Get the indices of cities that have humidity over 100%.\n"
   ]
  },
  {
   "cell_type": "code",
   "execution_count": 9,
   "metadata": {},
   "outputs": [
    {
     "data": {
      "text/plain": [
       "Int64Index([], dtype='int64')"
      ]
     },
     "execution_count": 9,
     "metadata": {},
     "output_type": "execute_result"
    }
   ],
   "source": [
    "reallyhumid = cityweather_df[(cityweather_df['Humidity'] > 100)].index\n",
    "reallyhumid"
   ]
  },
  {
   "cell_type": "code",
   "execution_count": 10,
   "metadata": {},
   "outputs": [],
   "source": [
    "# Make a new DataFrame equal to the city data to drop all humidity outliers by index.\n",
    "# Passing \"inplace=False\" will make a copy of the city_data DataFrame, which we call \"clean_city_data\".\n"
   ]
  },
  {
   "cell_type": "code",
   "execution_count": 11,
   "metadata": {},
   "outputs": [],
   "source": [
    "# Extract relevant fields from the data frame\n",
    "\n",
    "\n",
    "# Export the City_Data into a csv\n"
   ]
  },
  {
   "cell_type": "markdown",
   "metadata": {},
   "source": [
    "## Plotting the Data\n",
    "* Use proper labeling of the plots using plot titles (including date of analysis) and axes labels.\n",
    "* Save the plotted figures as .pngs."
   ]
  },
  {
   "cell_type": "markdown",
   "metadata": {},
   "source": [
    "## Latitude vs. Temperature Plot"
   ]
  },
  {
   "cell_type": "code",
   "execution_count": 27,
   "metadata": {
    "scrolled": true
   },
   "outputs": [
    {
     "data": {
      "image/png": "[encoded data removed]",
      "text/plain": [
       "<Figure size 432x288 with 1 Axes>"
      ]
     },
     "metadata": {
      "needs_background": "light"
     },
     "output_type": "display_data"
    },
    {
     "name": "stdout",
     "output_type": "stream",
     "text": [
      "This plot shows the relationship between latitude and temperature on the globe. As expected, the temperature goes up the closer you get to the equator.\n"
     ]
    }
   ],
   "source": [
    "scatterlat = cityweather_df['Latitude']\n",
    "scatterhumid = cityweather_df['Humidity']\n",
    "scattertemp = cityweather_df['Maximum Temperature']\n",
    "scattercloud = cityweather_df['Cloud Cover']\n",
    "scatterwind = cityweather_df['Wind Speed']\n",
    "#------------------------------------------\n",
    "plt.scatter(scatterlat, scattertemp, marker = 'o')\n",
    "plt.grid(True)\n",
    "plt.savefig('latvstemp.png')\n",
    "plt.xlabel(\"Latitude\")\n",
    "plt.ylabel(\"Maximum Temperature (F)\")\n",
    "plt.title(\"Latitude vs. Temperature\")\n",
    "plt.show()\n",
    "print(\"This plot shows the relationship between latitude and temperature on the globe. As expected, the temperature goes up the closer you get to the equator.\")"
   ]
  },
  {
   "cell_type": "markdown",
   "metadata": {},
   "source": [
    "## Latitude vs. Humidity Plot"
   ]
  },
  {
   "cell_type": "code",
   "execution_count": 28,
   "metadata": {},
   "outputs": [
    {
     "data": {
      "image/png": "[encoded data removed]",
      "text/plain": [
       "<Figure size 432x288 with 1 Axes>"
      ]
     },
     "metadata": {
      "needs_background": "light"
     },
     "output_type": "display_data"
    },
    {
     "name": "stdout",
     "output_type": "stream",
     "text": [
      "This plot shows the relationship between humidity and latitude. It seems like it gets more humid the farther you get from the equator.\n"
     ]
    }
   ],
   "source": [
    "plt.scatter(scatterlat, scatterhumid, marker = 'o')\n",
    "plt.grid(True)\n",
    "plt.savefig('latvshum.png')\n",
    "plt.xlabel(\"Latitude\")\n",
    "plt.ylabel(\"Humidity Percentage\")\n",
    "plt.title(\"Latitude vs. Humidity\")\n",
    "plt.show()\n",
    "print('This plot shows the relationship between humidity and latitude. It seems like it gets more humid the farther you get from the equator.')"
   ]
  },
  {
   "cell_type": "markdown",
   "metadata": {},
   "source": [
    "## Latitude vs. Cloudiness Plot"
   ]
  },
  {
   "cell_type": "code",
   "execution_count": 29,
   "metadata": {},
   "outputs": [
    {
     "data": {
      "image/png": "[encoded data removed]",
      "text/plain": [
       "<Figure size 432x288 with 1 Axes>"
      ]
     },
     "metadata": {
      "needs_background": "light"
     },
     "output_type": "display_data"
    },
    {
     "name": "stdout",
     "output_type": "stream",
     "text": [
      "This plot shows the relationship between latitude and cloudiness. Seems like it gets cloudier toward the poles. \n"
     ]
    }
   ],
   "source": [
    "plt.scatter(scatterlat, scattercloud, marker = 'o')\n",
    "plt.grid(True)\n",
    "plt.savefig('latvscloud.png')\n",
    "plt.xlabel(\"Latitude\")\n",
    "plt.ylabel(\"Cloudiness\")\n",
    "plt.title(\"Latitude vs. Cloudiness\")\n",
    "plt.show()\n",
    "print('This plot shows the relationship between latitude and cloudiness. Seems like it gets cloudier toward the poles. ')"
   ]
  },
  {
   "cell_type": "markdown",
   "metadata": {},
   "source": [
    "## Latitude vs. Wind Speed Plot"
   ]
  },
  {
   "cell_type": "code",
   "execution_count": 31,
   "metadata": {},
   "outputs": [
    {
     "data": {
      "image/png": "[encoded data removed]",
      "text/plain": [
       "<Figure size 432x288 with 1 Axes>"
      ]
     },
     "metadata": {
      "needs_background": "light"
     },
     "output_type": "display_data"
    },
    {
     "data": {
      "text/plain": [
       "'This plot shows the relationship of latitude and wind speed. This plot reflects that it gets windier as you get closer to the equator.'"
      ]
     },
     "execution_count": 31,
     "metadata": {},
     "output_type": "execute_result"
    }
   ],
   "source": [
    "plt.scatter(scatterlat, scatterwind, marker = 'o')\n",
    "plt.grid(True)\n",
    "plt.savefig('latvswind.png')\n",
    "plt.xlabel(\"Latitude\")\n",
    "plt.ylabel(\"Wind Speed\")\n",
    "plt.title(\"Latitude vs. Wind Speed\")\n",
    "plt.show()\n",
    "\"This plot shows the relationship of latitude and wind speed. This plot reflects that it gets windier as you get closer to the equator.\""
   ]
  },
  {
   "cell_type": "markdown",
   "metadata": {},
   "source": [
    "## Linear Regression"
   ]
  },
  {
   "cell_type": "code",
   "execution_count": 16,
   "metadata": {},
   "outputs": [],
   "source": [
    "# OPTIONAL: Create a function to create Linear Regression plots\n",
    "def plotLR(xvalues, yvalues):\n",
    "    (slope, intercept, rvalue, pvalue, stderr) = linregress(x_values, y_values)\n",
    "    regress_values = x_values * slope + intercept\n",
    "    line_eq = \"y = \" + str(round(slope,2)) + \"x + \" + str(round(intercept,2))\n",
    "    plt.scatter(xvalues, yvalues)\n",
    "    plt.annotate(line_eq,text_coordinates,fontsize=15,color=\"red\")"
   ]
  },
  {
   "cell_type": "code",
   "execution_count": 17,
   "metadata": {},
   "outputs": [
    {
     "data": {
      "text/html": [
       "<div>\n",
       "<style scoped>\n",
       "    .dataframe tbody tr th:only-of-type {\n",
       "        vertical-align: middle;\n",
       "    }\n",
       "\n",
       "    .dataframe tbody tr th {\n",
       "        vertical-align: top;\n",
       "    }\n",
       "\n",
       "    .dataframe thead th {\n",
       "        text-align: right;\n",
       "    }\n",
       "</style>\n",
       "<table border=\"1\" class=\"dataframe\">\n",
       "  <thead>\n",
       "    <tr style=\"text-align: right;\">\n",
       "      <th></th>\n",
       "      <th>City</th>\n",
       "      <th>Latitude</th>\n",
       "      <th>Longitude</th>\n",
       "      <th>Maximum Temperature</th>\n",
       "      <th>Humidity</th>\n",
       "      <th>Cloud Cover</th>\n",
       "      <th>Wind Speed</th>\n",
       "      <th>Country</th>\n",
       "      <th>Date</th>\n",
       "    </tr>\n",
       "  </thead>\n",
       "  <tbody>\n",
       "    <tr>\n",
       "      <th>4</th>\n",
       "      <td>jamestown</td>\n",
       "      <td>42.10</td>\n",
       "      <td>-79.24</td>\n",
       "      <td>298.15</td>\n",
       "      <td>53</td>\n",
       "      <td>1</td>\n",
       "      <td>2.10</td>\n",
       "      <td>US</td>\n",
       "      <td>1591757506</td>\n",
       "    </tr>\n",
       "    <tr>\n",
       "      <th>7</th>\n",
       "      <td>libenge</td>\n",
       "      <td>3.65</td>\n",
       "      <td>18.63</td>\n",
       "      <td>294.47</td>\n",
       "      <td>89</td>\n",
       "      <td>75</td>\n",
       "      <td>0.93</td>\n",
       "      <td>CD</td>\n",
       "      <td>1591757506</td>\n",
       "    </tr>\n",
       "    <tr>\n",
       "      <th>8</th>\n",
       "      <td>torbay</td>\n",
       "      <td>47.67</td>\n",
       "      <td>-52.73</td>\n",
       "      <td>279.26</td>\n",
       "      <td>81</td>\n",
       "      <td>20</td>\n",
       "      <td>4.60</td>\n",
       "      <td>CA</td>\n",
       "      <td>1591757507</td>\n",
       "    </tr>\n",
       "    <tr>\n",
       "      <th>10</th>\n",
       "      <td>tuktoyaktuk</td>\n",
       "      <td>69.45</td>\n",
       "      <td>-133.04</td>\n",
       "      <td>281.15</td>\n",
       "      <td>70</td>\n",
       "      <td>75</td>\n",
       "      <td>3.10</td>\n",
       "      <td>CA</td>\n",
       "      <td>1591757360</td>\n",
       "    </tr>\n",
       "    <tr>\n",
       "      <th>11</th>\n",
       "      <td>korla</td>\n",
       "      <td>41.76</td>\n",
       "      <td>86.15</td>\n",
       "      <td>298.71</td>\n",
       "      <td>85</td>\n",
       "      <td>97</td>\n",
       "      <td>4.92</td>\n",
       "      <td>CN</td>\n",
       "      <td>1591757507</td>\n",
       "    </tr>\n",
       "    <tr>\n",
       "      <th>...</th>\n",
       "      <td>...</td>\n",
       "      <td>...</td>\n",
       "      <td>...</td>\n",
       "      <td>...</td>\n",
       "      <td>...</td>\n",
       "      <td>...</td>\n",
       "      <td>...</td>\n",
       "      <td>...</td>\n",
       "      <td>...</td>\n",
       "    </tr>\n",
       "    <tr>\n",
       "      <th>545</th>\n",
       "      <td>yurga</td>\n",
       "      <td>55.72</td>\n",
       "      <td>84.89</td>\n",
       "      <td>285.89</td>\n",
       "      <td>83</td>\n",
       "      <td>100</td>\n",
       "      <td>2.40</td>\n",
       "      <td>RU</td>\n",
       "      <td>1591757562</td>\n",
       "    </tr>\n",
       "    <tr>\n",
       "      <th>546</th>\n",
       "      <td>upata</td>\n",
       "      <td>8.01</td>\n",
       "      <td>-62.40</td>\n",
       "      <td>300.37</td>\n",
       "      <td>82</td>\n",
       "      <td>63</td>\n",
       "      <td>0.45</td>\n",
       "      <td>VE</td>\n",
       "      <td>1591757562</td>\n",
       "    </tr>\n",
       "    <tr>\n",
       "      <th>547</th>\n",
       "      <td>batagay-alyta</td>\n",
       "      <td>67.80</td>\n",
       "      <td>130.41</td>\n",
       "      <td>278.24</td>\n",
       "      <td>67</td>\n",
       "      <td>100</td>\n",
       "      <td>3.78</td>\n",
       "      <td>RU</td>\n",
       "      <td>1591757401</td>\n",
       "    </tr>\n",
       "    <tr>\n",
       "      <th>548</th>\n",
       "      <td>koslan</td>\n",
       "      <td>63.46</td>\n",
       "      <td>48.90</td>\n",
       "      <td>294.12</td>\n",
       "      <td>69</td>\n",
       "      <td>100</td>\n",
       "      <td>4.44</td>\n",
       "      <td>RU</td>\n",
       "      <td>1591757562</td>\n",
       "    </tr>\n",
       "    <tr>\n",
       "      <th>549</th>\n",
       "      <td>olga</td>\n",
       "      <td>43.74</td>\n",
       "      <td>135.29</td>\n",
       "      <td>296.50</td>\n",
       "      <td>63</td>\n",
       "      <td>100</td>\n",
       "      <td>2.93</td>\n",
       "      <td>RU</td>\n",
       "      <td>1591757562</td>\n",
       "    </tr>\n",
       "  </tbody>\n",
       "</table>\n",
       "<p>387 rows × 9 columns</p>\n",
       "</div>"
      ],
      "text/plain": [
       "              City  Latitude  Longitude  Maximum Temperature  Humidity  \\\n",
       "4        jamestown     42.10     -79.24               298.15        53   \n",
       "7          libenge      3.65      18.63               294.47        89   \n",
       "8           torbay     47.67     -52.73               279.26        81   \n",
       "10     tuktoyaktuk     69.45    -133.04               281.15        70   \n",
       "11           korla     41.76      86.15               298.71        85   \n",
       "..             ...       ...        ...                  ...       ...   \n",
       "545          yurga     55.72      84.89               285.89        83   \n",
       "546          upata      8.01     -62.40               300.37        82   \n",
       "547  batagay-alyta     67.80     130.41               278.24        67   \n",
       "548         koslan     63.46      48.90               294.12        69   \n",
       "549           olga     43.74     135.29               296.50        63   \n",
       "\n",
       "     Cloud Cover  Wind Speed Country        Date  \n",
       "4              1        2.10      US  1591757506  \n",
       "7             75        0.93      CD  1591757506  \n",
       "8             20        4.60      CA  1591757507  \n",
       "10            75        3.10      CA  1591757360  \n",
       "11            97        4.92      CN  1591757507  \n",
       "..           ...         ...     ...         ...  \n",
       "545          100        2.40      RU  1591757562  \n",
       "546           63        0.45      VE  1591757562  \n",
       "547          100        3.78      RU  1591757401  \n",
       "548          100        4.44      RU  1591757562  \n",
       "549          100        2.93      RU  1591757562  \n",
       "\n",
       "[387 rows x 9 columns]"
      ]
     },
     "execution_count": 17,
     "metadata": {},
     "output_type": "execute_result"
    }
   ],
   "source": [
    "# Create Northern and Southern Hemisphere DataFrames\n",
    "northerndf = cityweather_df[cityweather_df['Latitude'] > 0]\n",
    "southerndf = cityweather_df[cityweather_df['Latitude'] < 0]\n",
    "northerndf"
   ]
  },
  {
   "cell_type": "markdown",
   "metadata": {},
   "source": [
    "####  Northern Hemisphere - Max Temp vs. Latitude Linear Regression"
   ]
  },
  {
   "cell_type": "code",
   "execution_count": 32,
   "metadata": {
    "scrolled": true
   },
   "outputs": [
    {
     "name": "stderr",
     "output_type": "stream",
     "text": [
      "No handles with labels found to put in legend.\n"
     ]
    },
    {
     "name": "stdout",
     "output_type": "stream",
     "text": [
      "slope: -0.294927    intercept: 304.262611\n",
      "R-squared: 0.555279\n",
      "R-squared: 0.555279\n"
     ]
    },
    {
     "data": {
      "image/png": "[encoded data removed]",
      "text/plain": [
       "<Figure size 432x288 with 1 Axes>"
      ]
     },
     "metadata": {
      "needs_background": "light"
     },
     "output_type": "display_data"
    },
    {
     "name": "stdout",
     "output_type": "stream",
     "text": [
      "This plot shows the relationship between degrees in Kelvin and the latitude. The temperature is clearly higher toward the equator.\n"
     ]
    },
    {
     "data": {
      "text/plain": [
       "<Figure size 432x288 with 0 Axes>"
      ]
     },
     "metadata": {},
     "output_type": "display_data"
    }
   ],
   "source": [
    "northernmaxtemp = northerndf['Maximum Temperature']\n",
    "northernlat = northerndf[\"Latitude\"]\n",
    "slope, intercept, r_value, p_value, std_err = linregress(northernlat, northernmaxtemp)\n",
    "print(\"slope: %f    intercept: %f\" % (slope, intercept))\n",
    "print(\"R-squared: %f\" % r_value**2)\n",
    "plt.plot(northernlat, northernmaxtemp, \"*\")\n",
    "plt.plot(northernlat, intercept + slope*northernlat, \"r\")\n",
    "plt.title(\"Northern Hemisphere - Max Temp vs. Latitude Linear Regression\")\n",
    "plt.xlabel(\"Latitude\")\n",
    "plt.ylabel(\"Max Temp\")\n",
    "plt.legend()\n",
    "print(\"R-squared: %f\" % r_value**2)\n",
    "line_eq = \"y = \" + str(round(slope,2)) + \"x + \" + str(round(intercept,2))\n",
    "plt.annotate(line_eq,(10,30),fontsize=15,color=\"red\")\n",
    "plt.show()\n",
    "plt.savefig(\"figure1.png\")\n",
    "print('This plot shows the relationship between degrees in Kelvin and the latitude. The temperature is clearly higher toward the equator.')"
   ]
  },
  {
   "cell_type": "markdown",
   "metadata": {},
   "source": [
    "####  Southern Hemisphere - Max Temp vs. Latitude Linear Regression"
   ]
  },
  {
   "cell_type": "code",
   "execution_count": 35,
   "metadata": {},
   "outputs": [
    {
     "name": "stderr",
     "output_type": "stream",
     "text": [
      "No handles with labels found to put in legend.\n"
     ]
    },
    {
     "name": "stdout",
     "output_type": "stream",
     "text": [
      "slope: 0.377710    intercept: 300.551002\n",
      "R-squared: 0.567490\n",
      "R-squared: 0.567490\n"
     ]
    },
    {
     "data": {
      "image/png": "[encoded data removed]",
      "text/plain": [
       "<Figure size 432x288 with 1 Axes>"
      ]
     },
     "metadata": {
      "needs_background": "light"
     },
     "output_type": "display_data"
    },
    {
     "name": "stdout",
     "output_type": "stream",
     "text": [
      "This graph reflects the temperature in Kelvin in relation to latitudes. This parallels the previous chart and shows that the temperature raises when you get closer to the equator.\n"
     ]
    },
    {
     "data": {
      "text/plain": [
       "<Figure size 432x288 with 0 Axes>"
      ]
     },
     "metadata": {},
     "output_type": "display_data"
    }
   ],
   "source": [
    "southernmaxtemp = southerndf['Maximum Temperature']\n",
    "southernlat = southerndf['Latitude']\n",
    "slope, intercept, r_value, p_value, std_err = linregress(southernlat, southernmaxtemp)\n",
    "print(\"slope: %f    intercept: %f\" % (slope, intercept))\n",
    "print(\"R-squared: %f\" % r_value**2)\n",
    "plt.plot(southernlat, southernmaxtemp, \"*\")\n",
    "plt.plot(southernlat, intercept + slope*southernlat, \"r\")\n",
    "plt.title(\"Southern Hemisphere - Max Temp vs. Latitude Linear Regression\")\n",
    "plt.xlabel(\"Latitude\")\n",
    "plt.ylabel(\"Max Temp\")\n",
    "plt.legend()\n",
    "print(\"R-squared: %f\" % r_value**2)\n",
    "line_eq = \"y = \" + str(round(slope,2)) + \"x + \" + str(round(intercept,2))\n",
    "plt.annotate(line_eq,(10,30),fontsize=15,color=\"red\")\n",
    "plt.show()\n",
    "plt.savefig(\"figure2.png\")\n",
    "print('This graph reflects the temperature in Kelvin in relation to latitudes. This parallels the previous chart and shows that the temperature raises when you get closer to the equator.')"
   ]
  },
  {
   "cell_type": "markdown",
   "metadata": {},
   "source": [
    "####  Northern Hemisphere - Humidity (%) vs. Latitude Linear Regression"
   ]
  },
  {
   "cell_type": "code",
   "execution_count": 38,
   "metadata": {},
   "outputs": [
    {
     "name": "stderr",
     "output_type": "stream",
     "text": [
      "No handles with labels found to put in legend.\n"
     ]
    },
    {
     "name": "stdout",
     "output_type": "stream",
     "text": [
      "slope: -0.041328    intercept: 42.330073\n",
      "R-squared: 0.001941\n",
      "R-squared: 0.001941\n"
     ]
    },
    {
     "data": {
      "image/png": "[encoded data removed]",
      "text/plain": [
       "<Figure size 432x288 with 1 Axes>"
      ]
     },
     "metadata": {
      "needs_background": "light"
     },
     "output_type": "display_data"
    },
    {
     "name": "stdout",
     "output_type": "stream",
     "text": [
      "This plot shows relationship between humidity and latitude in the Northern Hemisphere. I dont think there is a clear trend.\n"
     ]
    },
    {
     "data": {
      "text/plain": [
       "<Figure size 432x288 with 0 Axes>"
      ]
     },
     "metadata": {},
     "output_type": "display_data"
    }
   ],
   "source": [
    "northernhumidity = northerndf['Humidity']\n",
    "northernlat = northerndf['Latitude']\n",
    "slope, intercept, r_value, p_value, std_err = linregress(northernhumidity, northernlat)\n",
    "print(\"slope: %f    intercept: %f\" % (slope, intercept))\n",
    "print(\"R-squared: %f\" % r_value**2)\n",
    "plt.plot(northernhumidity, northernlat, \"*\")\n",
    "plt.plot(northernlat, intercept + slope*northernlat, \"r\")\n",
    "plt.title(\"Northern Hemisphere - Humidity (%) vs. Latitude Linear Regression\")\n",
    "plt.xlabel(\"Humidity\")\n",
    "plt.ylabel(\"Latitude Linear Regression\")\n",
    "plt.legend()\n",
    "print(\"R-squared: %f\" % r_value**2)\n",
    "line_eq = \"y = \" + str(round(slope,2)) + \"x + \" + str(round(intercept,2))\n",
    "plt.annotate(line_eq,(10,30),fontsize=15,color=\"red\")\n",
    "plt.show()\n",
    "plt.savefig(\"figure3.png\")\n",
    "print('This plot shows relationship between humidity and latitude in the Northern Hemisphere. I dont think there is a clear trend.')"
   ]
  },
  {
   "cell_type": "markdown",
   "metadata": {},
   "source": [
    "####  Southern Hemisphere - Humidity (%) vs. Latitude Linear Regression"
   ]
  },
  {
   "cell_type": "code",
   "execution_count": 39,
   "metadata": {},
   "outputs": [
    {
     "name": "stderr",
     "output_type": "stream",
     "text": [
      "No handles with labels found to put in legend.\n"
     ]
    },
    {
     "name": "stdout",
     "output_type": "stream",
     "text": [
      "slope: 0.118249    intercept: -31.119726\n",
      "R-squared: 0.025696\n",
      "R-squared: 0.025696\n"
     ]
    },
    {
     "data": {
      "image/png": "[encoded data removed]",
      "text/plain": [
       "<Figure size 432x288 with 1 Axes>"
      ]
     },
     "metadata": {
      "needs_background": "light"
     },
     "output_type": "display_data"
    },
    {
     "name": "stdout",
     "output_type": "stream",
     "text": [
      "This plot shows relationship between humidity and latitude in the Southern Hemisphere. I dont think there is a clear trend.\n"
     ]
    },
    {
     "data": {
      "text/plain": [
       "<Figure size 432x288 with 0 Axes>"
      ]
     },
     "metadata": {},
     "output_type": "display_data"
    }
   ],
   "source": [
    "southernhumidity = southerndf['Humidity']\n",
    "southernlat = southerndf['Latitude']\n",
    "slope, intercept, r_value, p_value, std_err = linregress(southernhumidity, southernlat)\n",
    "print(\"slope: %f    intercept: %f\" % (slope, intercept))\n",
    "print(\"R-squared: %f\" % r_value**2)\n",
    "plt.plot(southernhumidity, southernlat, \"*\")\n",
    "plt.plot(southernlat, intercept + slope*southernlat, \"r\")\n",
    "plt.title(\"Southern Hemisphere - Humidity (%) vs. Latitude Linear Regression\")\n",
    "plt.xlabel(\"Humidity\")\n",
    "plt.ylabel(\"Latitude Linear Regression\")\n",
    "plt.legend()\n",
    "print(\"R-squared: %f\" % r_value**2)\n",
    "line_eq = \"y = \" + str(round(slope,2)) + \"x + \" + str(round(intercept,2))\n",
    "plt.annotate(line_eq,(10,30),fontsize=15,color=\"red\")\n",
    "plt.show()\n",
    "plt.savefig(\"figure4.png\")\n",
    "print('This plot shows relationship between humidity and latitude in the Southern Hemisphere. I dont think there is a clear trend.')"
   ]
  },
  {
   "cell_type": "markdown",
   "metadata": {},
   "source": [
    "####  Northern Hemisphere - Cloudiness (%) vs. Latitude Linear Regression"
   ]
  },
  {
   "cell_type": "code",
   "execution_count": 42,
   "metadata": {},
   "outputs": [
    {
     "name": "stderr",
     "output_type": "stream",
     "text": [
      "No handles with labels found to put in legend.\n"
     ]
    },
    {
     "name": "stdout",
     "output_type": "stream",
     "text": [
      "slope: 0.016007    intercept: 38.565486\n",
      "R-squared: 0.000910\n",
      "R-squared: 0.000910\n"
     ]
    },
    {
     "data": {
      "image/png": "[encoded data removed]",
      "text/plain": [
       "<Figure size 432x288 with 1 Axes>"
      ]
     },
     "metadata": {
      "needs_background": "light"
     },
     "output_type": "display_data"
    },
    {
     "name": "stdout",
     "output_type": "stream",
     "text": [
      "This plot shows relationship between cloudiness and latitude in the Northern Hemisphere. This looks like another one without a clear trend.\n"
     ]
    },
    {
     "data": {
      "text/plain": [
       "<Figure size 432x288 with 0 Axes>"
      ]
     },
     "metadata": {},
     "output_type": "display_data"
    }
   ],
   "source": [
    "northerncloudiness = northerndf['Cloud Cover']\n",
    "northernlat = northerndf['Latitude']\n",
    "slope, intercept, r_value, p_value, std_err = linregress(northerncloudiness, northernlat)\n",
    "print(\"slope: %f    intercept: %f\" % (slope, intercept))\n",
    "print(\"R-squared: %f\" % r_value**2)\n",
    "plt.plot(northerncloudiness, northernlat, \"*\")\n",
    "plt.plot(northernlat, intercept + slope*northernlat, \"r\")\n",
    "plt.title(\"Northern Hemisphere - Cloudiness (%) vs. Latitude Linear Regression\")\n",
    "plt.xlabel(\"Cloudiness\")\n",
    "plt.ylabel(\"Latitude Linear Regression\")\n",
    "plt.legend()\n",
    "print(\"R-squared: %f\" % r_value**2)\n",
    "line_eq = \"y = \" + str(round(slope,2)) + \"x + \" + str(round(intercept,2))\n",
    "plt.annotate(line_eq,(10,30),fontsize=15,color=\"red\")\n",
    "plt.show()\n",
    "plt.savefig(\"figure5.png\")\n",
    "print('This plot shows relationship between cloudiness and latitude in the Northern Hemisphere. This looks like another one without a clear trend.')"
   ]
  },
  {
   "cell_type": "markdown",
   "metadata": {},
   "source": [
    "####  Southern Hemisphere - Cloudiness (%) vs. Latitude Linear Regression"
   ]
  },
  {
   "cell_type": "code",
   "execution_count": 43,
   "metadata": {},
   "outputs": [
    {
     "name": "stderr",
     "output_type": "stream",
     "text": [
      "No handles with labels found to put in legend.\n"
     ]
    },
    {
     "name": "stdout",
     "output_type": "stream",
     "text": [
      "slope: 0.027980    intercept: -23.848707\n",
      "R-squared: 0.006696\n",
      "R-squared: 0.006696\n"
     ]
    },
    {
     "data": {
      "image/png": "[encoded data removed]",
      "text/plain": [
       "<Figure size 432x288 with 1 Axes>"
      ]
     },
     "metadata": {
      "needs_background": "light"
     },
     "output_type": "display_data"
    },
    {
     "name": "stdout",
     "output_type": "stream",
     "text": [
      "This plot shows relationship between cloudiness and latitude in the Southern Hemisphere. This looks like another one without a clear trend.\n"
     ]
    },
    {
     "data": {
      "text/plain": [
       "<Figure size 432x288 with 0 Axes>"
      ]
     },
     "metadata": {},
     "output_type": "display_data"
    }
   ],
   "source": [
    "southerncloudiness = southerndf['Cloud Cover']\n",
    "southernlat = southerndf['Latitude']\n",
    "slope, intercept, r_value, p_value, std_err = linregress(southerncloudiness, southernlat)\n",
    "print(\"slope: %f    intercept: %f\" % (slope, intercept))\n",
    "print(\"R-squared: %f\" % r_value**2)\n",
    "plt.plot(southerncloudiness, southernlat, \"*\")\n",
    "plt.plot(southernlat, intercept + slope*southernlat, \"r\")\n",
    "plt.title(\"Southern Hemisphere - Cloudiness (%) vs. Latitude Linear Regression\")\n",
    "plt.xlabel(\"Cloudiness\")\n",
    "plt.ylabel(\"Latitude Linear Regression\")\n",
    "plt.legend()\n",
    "print(\"R-squared: %f\" % r_value**2)\n",
    "line_eq = \"y = \" + str(round(slope,2)) + \"x + \" + str(round(intercept,2))\n",
    "plt.annotate(line_eq,(10,30),fontsize=15,color=\"red\")\n",
    "plt.show()\n",
    "plt.savefig(\"figure6.png\")\n",
    "print('This plot shows relationship between cloudiness and latitude in the Southern Hemisphere. This looks like another one without a clear trend.')"
   ]
  },
  {
   "cell_type": "markdown",
   "metadata": {},
   "source": [
    "####  Northern Hemisphere - Wind Speed (mph) vs. Latitude Linear Regression"
   ]
  },
  {
   "cell_type": "code",
   "execution_count": 44,
   "metadata": {},
   "outputs": [
    {
     "name": "stderr",
     "output_type": "stream",
     "text": [
      "No handles with labels found to put in legend.\n"
     ]
    },
    {
     "name": "stdout",
     "output_type": "stream",
     "text": [
      "slope: 0.859171    intercept: 36.329854\n",
      "R-squared: 0.009108\n",
      "R-squared: 0.009108\n"
     ]
    },
    {
     "data": {
      "image/png": "[encoded data removed]",
      "text/plain": [
       "<Figure size 432x288 with 1 Axes>"
      ]
     },
     "metadata": {
      "needs_background": "light"
     },
     "output_type": "display_data"
    },
    {
     "name": "stdout",
     "output_type": "stream",
     "text": [
      "This plot shows relationship between wind speed and latitude in the Northern Hemisphere. Definitely seems to trend to be windier toward the equator.\n"
     ]
    },
    {
     "data": {
      "text/plain": [
       "<Figure size 432x288 with 0 Axes>"
      ]
     },
     "metadata": {},
     "output_type": "display_data"
    }
   ],
   "source": [
    "northwindspeed = northerndf['Wind Speed']\n",
    "northernlat = northerndf['Latitude']\n",
    "slope, intercept, r_value, p_value, std_err = linregress(northwindspeed, northernlat)\n",
    "print(\"slope: %f    intercept: %f\" % (slope, intercept))\n",
    "print(\"R-squared: %f\" % r_value**2)\n",
    "plt.plot(northwindspeed, northernlat, \"*\")\n",
    "plt.plot(northernlat, intercept + slope*northernlat, \"r\")\n",
    "plt.title(\"Northern Hemisphere - Wind Speed (mph) vs. Latitude Linear Regression\")\n",
    "plt.xlabel(\"Wind Speed\")\n",
    "plt.ylabel(\"Latitude Linear Regression\")\n",
    "plt.legend()\n",
    "print(\"R-squared: %f\" % r_value**2)\n",
    "line_eq = \"y = \" + str(round(slope,2)) + \"x + \" + str(round(intercept,2))\n",
    "plt.annotate(line_eq,(10,30),fontsize=15,color=\"red\")\n",
    "plt.show()\n",
    "plt.savefig(\"figure7.png\")\n",
    "print('This plot shows relationship between wind speed and latitude in the Northern Hemisphere. Definitely seems to trend to be windier toward the equator.')"
   ]
  },
  {
   "cell_type": "markdown",
   "metadata": {},
   "source": [
    "####  Southern Hemisphere - Wind Speed (mph) vs. Latitude Linear Regression"
   ]
  },
  {
   "cell_type": "code",
   "execution_count": 45,
   "metadata": {},
   "outputs": [
    {
     "name": "stderr",
     "output_type": "stream",
     "text": [
      "No handles with labels found to put in legend.\n"
     ]
    },
    {
     "name": "stdout",
     "output_type": "stream",
     "text": [
      "slope: -0.818157    intercept: -19.598134\n",
      "R-squared: 0.026377\n",
      "R-squared: 0.026377\n"
     ]
    },
    {
     "data": {
      "image/png": "[encoded data removed]",
      "text/plain": [
       "<Figure size 432x288 with 1 Axes>"
      ]
     },
     "metadata": {
      "needs_background": "light"
     },
     "output_type": "display_data"
    },
    {
     "name": "stdout",
     "output_type": "stream",
     "text": [
      "This plot shows relationship between wind speed and latitude in the Southern Hemisphere. Definitely seems to trend to be windier toward the equator.\n"
     ]
    },
    {
     "data": {
      "text/plain": [
       "<Figure size 432x288 with 0 Axes>"
      ]
     },
     "metadata": {},
     "output_type": "display_data"
    }
   ],
   "source": [
    "southwindspeed = southerndf['Wind Speed']\n",
    "southernlat = southerndf['Latitude']\n",
    "slope, intercept, r_value, p_value, std_err = linregress(southwindspeed, southernlat)\n",
    "print(\"slope: %f    intercept: %f\" % (slope, intercept))\n",
    "print(\"R-squared: %f\" % r_value**2)\n",
    "plt.plot(southwindspeed, southernlat, \"*\")\n",
    "plt.plot(southernlat, intercept + slope*southernlat, \"r\")\n",
    "plt.title(\"Southern Hemisphere - Wind Speed (mph) vs. Latitude Linear Regression\")\n",
    "plt.xlabel(\"Wind Speed\")\n",
    "plt.ylabel(\"Latitude Linear Regression\")\n",
    "plt.legend()\n",
    "print(\"R-squared: %f\" % r_value**2)\n",
    "line_eq = \"y = \" + str(round(slope,2)) + \"x + \" + str(round(intercept,2))\n",
    "plt.annotate(line_eq,(10,30),fontsize=15,color=\"red\")\n",
    "plt.show()\n",
    "plt.savefig(\"figure8.png\")\n",
    "print('This plot shows relationship between wind speed and latitude in the Southern Hemisphere. Definitely seems to trend to be windier toward the equator.')"
   ]
  },
  {
   "cell_type": "code",
   "execution_count": null,
   "metadata": {},
   "outputs": [],
   "source": []
  }
 ],
 "metadata": {
  "anaconda-cloud": {},
  "kernel_info": {
   "name": "python3"
  },
  "kernelspec": {
   "display_name": "Python 3",
   "language": "python",
   "name": "python3"
  },
  "language_info": {
   "codemirror_mode": {
    "name": "ipython",
    "version": 3
   },
   "file_extension": ".py",
   "mimetype": "text/x-python",
   "name": "python",
   "nbconvert_exporter": "python",
   "pygments_lexer": "ipython3",
   "version": "3.6.10"
  },
  "latex_envs": {
   "LaTeX_envs_menu_present": true,
   "autoclose": false,
   "autocomplete": true,
   "bibliofile": "biblio.bib",
   "cite_by": "apalike",
   "current_citInitial": 1,
   "eqLabelWithNumbers": true,
   "eqNumInitial": 1,
   "hotkeys": {
    "equation": "Ctrl-E",
    "itemize": "Ctrl-I"
   },
   "labels_anchors": false,
   "latex_user_defs": false,
   "report_style_numbering": false,
   "user_envs_cfg": false
  },
  "nteract": {
   "version": "0.12.3"
  }
 },
 "nbformat": 4,
 "nbformat_minor": 2
}
